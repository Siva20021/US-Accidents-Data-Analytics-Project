{
  "cells": [
    {
      "cell_type": "code",
      "execution_count": null,
      "metadata": {
        "colab": {
          "base_uri": "https://localhost:8080/"
        },
        "id": "z-851gGKhvZ7",
        "outputId": "3693e3ee-9beb-4fea-9208-a5bdf6acd3fb"
      },
      "outputs": [
        {
          "output_type": "stream",
          "name": "stdout",
          "text": [
            "\u001b[?25l\r\u001b[K     |████▊                           | 10 kB 24.7 MB/s eta 0:00:01\r\u001b[K     |█████████▌                      | 20 kB 31.4 MB/s eta 0:00:01\r\u001b[K     |██████████████▎                 | 30 kB 16.2 MB/s eta 0:00:01\r\u001b[K     |███████████████████             | 40 kB 6.3 MB/s eta 0:00:01\r\u001b[K     |███████████████████████▉        | 51 kB 6.2 MB/s eta 0:00:01\r\u001b[K     |████████████████████████████▋   | 61 kB 7.3 MB/s eta 0:00:01\r\u001b[K     |████████████████████████████████| 68 kB 4.3 MB/s \n",
            "\u001b[?25h  Building wheel for uuid (setup.py) ... \u001b[?25l\u001b[?25hdone\n"
          ]
        }
      ],
      "source": [
        "# Jovian Commit Essentials\n",
        "# Please retain and execute this cell without modifying the contents for `jovian.commit` to work\n",
        "!pip install jovian --upgrade -q\n",
        "import jovian\n",
        "jovian.set_project('us-accidents')\n",
        "jovian.set_colab_id('1LC77qA-kG8vHAD7-XTIyVeQpU4Yb5sCJ')"
      ]
    },
    {
      "cell_type": "markdown",
      "metadata": {
        "id": "e5TmSEu_CR8J"
      },
      "source": [
        "# us-accidents\n",
        "\n",
        "Use the \"Run\" button to execute the code."
      ]
    },
    {
      "cell_type": "code",
      "execution_count": null,
      "metadata": {
        "id": "tC5g_Tx7CR8L"
      },
      "outputs": [],
      "source": [
        "!pip install jovian --upgrade --quiet"
      ]
    },
    {
      "cell_type": "code",
      "execution_count": null,
      "metadata": {
        "id": "6MiLo-ydCR8M"
      },
      "outputs": [],
      "source": [
        "import jovian"
      ]
    },
    {
      "cell_type": "code",
      "execution_count": null,
      "metadata": {
        "colab": {
          "base_uri": "https://localhost:8080/",
          "height": 90
        },
        "id": "2d65fMCACR8N",
        "outputId": "03eb2f55-6236-43b5-a0a3-51da51ebcc86"
      },
      "outputs": [
        {
          "output_type": "stream",
          "name": "stdout",
          "text": [
            "[jovian] Detected Colab notebook...\u001b[0m\n",
            "[jovian] Uploading colab notebook to Jovian...\u001b[0m\n",
            "Committed successfully! https://jovian.ai/sm2482/us-accidents\n"
          ]
        },
        {
          "output_type": "execute_result",
          "data": {
            "text/plain": [
              "'https://jovian.ai/sm2482/us-accidents'"
            ],
            "application/vnd.google.colaboratory.intrinsic+json": {
              "type": "string"
            }
          },
          "metadata": {},
          "execution_count": 7
        }
      ],
      "source": [
        "# Execute this to save new versions of the notebook\n",
        "jovian.commit(project=\"us-accidents\")"
      ]
    },
    {
      "cell_type": "markdown",
      "metadata": {
        "id": "V-x8uCGECVs4"
      },
      "source": [
        "#Lets learn ,what is Exploratory Data Analysis ?\n"
      ]
    },
    {
      "cell_type": "code",
      "execution_count": null,
      "metadata": {
        "id": "m9EpYKcpzP1v"
      },
      "outputs": [],
      "source": [
        "!pip install opendatasets --upgrade --quiet"
      ]
    },
    {
      "cell_type": "code",
      "execution_count": null,
      "metadata": {
        "id": "Ow7HSsNoCUtw",
        "colab": {
          "base_uri": "https://localhost:8080/"
        },
        "outputId": "b8169e89-f066-42f9-af2f-81208b47934c"
      },
      "outputs": [
        {
          "output_type": "stream",
          "name": "stdout",
          "text": [
            "Please provide your Kaggle credentials to download this dataset. Learn more: http://bit.ly/kaggle-creds\n",
            "Your Kaggle username: msrk2002\n",
            "Your Kaggle Key: ··········\n",
            "Downloading us-accidents.zip to ./us-accidents\n"
          ]
        },
        {
          "output_type": "stream",
          "name": "stderr",
          "text": [
            "100%|██████████| 269M/269M [00:02<00:00, 102MB/s]\n"
          ]
        },
        {
          "output_type": "stream",
          "name": "stdout",
          "text": [
            "\n"
          ]
        }
      ],
      "source": [
        "import opendatasets as od\n",
        "download_url='https://www.kaggle.com/sobhanmoosavi/us-accidents'\n",
        "od.download(download_url)"
      ]
    },
    {
      "cell_type": "code",
      "execution_count": null,
      "metadata": {
        "id": "t8_2LK8sCR8N"
      },
      "outputs": [],
      "source": [
        "data_filename=\"./us-accidents/US_Accidents_Dec21_updated.csv\""
      ]
    },
    {
      "cell_type": "markdown",
      "metadata": {
        "id": "6777n7230Nse"
      },
      "source": [
        "#Data Preparation and Cleaning\n",
        "\n",
        "\n",
        "\n",
        "*   Load the files using Pandas\n",
        "*   Look some information about the data and the columns\n",
        "*   Fix any missing or incorrect values\n",
        "\n",
        "\n",
        "\n",
        "\n"
      ]
    },
    {
      "cell_type": "code",
      "execution_count": null,
      "metadata": {
        "id": "DrbgE3kb1ZKC"
      },
      "outputs": [],
      "source": [
        "import pandas as pd"
      ]
    },
    {
      "cell_type": "code",
      "execution_count": null,
      "metadata": {
        "id": "Yxh3MBZ10KG3"
      },
      "outputs": [],
      "source": [
        "df=pd.read_csv(data_filename)"
      ]
    },
    {
      "cell_type": "code",
      "execution_count": null,
      "metadata": {
        "id": "qhnGMmbe2F8p",
        "colab": {
          "base_uri": "https://localhost:8080/",
          "height": 1512
        },
        "outputId": "6f392f0c-9a20-4fcd-f109-a6e3787df565"
      },
      "outputs": [
        {
          "output_type": "execute_result",
          "data": {
            "text/plain": [
              "                ID  Severity           Start_Time             End_Time  \\\n",
              "0              A-1         3  2016-02-08 00:37:08  2016-02-08 06:37:08   \n",
              "1              A-2         2  2016-02-08 05:56:20  2016-02-08 11:56:20   \n",
              "2              A-3         2  2016-02-08 06:15:39  2016-02-08 12:15:39   \n",
              "3              A-4         2  2016-02-08 06:51:45  2016-02-08 12:51:45   \n",
              "4              A-5         3  2016-02-08 07:53:43  2016-02-08 13:53:43   \n",
              "...            ...       ...                  ...                  ...   \n",
              "2845337  A-2845338         2  2019-08-23 18:03:25  2019-08-23 18:32:01   \n",
              "2845338  A-2845339         2  2019-08-23 19:11:30  2019-08-23 19:38:23   \n",
              "2845339  A-2845340         2  2019-08-23 19:00:21  2019-08-23 19:28:49   \n",
              "2845340  A-2845341         2  2019-08-23 19:00:21  2019-08-23 19:29:42   \n",
              "2845341  A-2845342         2  2019-08-23 18:52:06  2019-08-23 19:21:31   \n",
              "\n",
              "         Start_Lat   Start_Lng    End_Lat     End_Lng  Distance(mi)  \\\n",
              "0        40.108910  -83.092860  40.112060  -83.031870         3.230   \n",
              "1        39.865420  -84.062800  39.865010  -84.048730         0.747   \n",
              "2        39.102660  -84.524680  39.102090  -84.523960         0.055   \n",
              "3        41.062130  -81.537840  41.062170  -81.535470         0.123   \n",
              "4        39.172393  -84.492792  39.170476  -84.501798         0.500   \n",
              "...            ...         ...        ...         ...           ...   \n",
              "2845337  34.002480 -117.379360  33.998880 -117.370940         0.543   \n",
              "2845338  32.766960 -117.148060  32.765550 -117.153630         0.338   \n",
              "2845339  33.775450 -117.847790  33.777400 -117.857270         0.561   \n",
              "2845340  33.992460 -118.403020  33.983110 -118.395650         0.772   \n",
              "2845341  34.133930 -117.230920  34.137360 -117.239340         0.537   \n",
              "\n",
              "                                               Description  ...  Roundabout  \\\n",
              "0        Between Sawmill Rd/Exit 20 and OH-315/Olentang...  ...       False   \n",
              "1                       At OH-4/OH-235/Exit 41 - Accident.  ...       False   \n",
              "2                         At I-71/US-50/Exit 1 - Accident.  ...       False   \n",
              "3                          At Dart Ave/Exit 21 - Accident.  ...       False   \n",
              "4                       At Mitchell Ave/Exit 6 - Accident.  ...       False   \n",
              "...                                                    ...  ...         ...   \n",
              "2845337                           At Market St - Accident.  ...       False   \n",
              "2845338    At Camino Del Rio/Mission Center Rd - Accident.  ...       False   \n",
              "2845339  At Glassell St/Grand Ave - Accident. in the ri...  ...       False   \n",
              "2845340     At CA-90/Marina Fwy/Jefferson Blvd - Accident.  ...       False   \n",
              "2845341              At Highland Ave/Arden Ave - Accident.  ...       False   \n",
              "\n",
              "        Station   Stop Traffic_Calming Traffic_Signal Turning_Loop  \\\n",
              "0         False  False           False          False        False   \n",
              "1         False  False           False          False        False   \n",
              "2         False  False           False          False        False   \n",
              "3         False  False           False          False        False   \n",
              "4         False  False           False          False        False   \n",
              "...         ...    ...             ...            ...          ...   \n",
              "2845337   False  False           False          False        False   \n",
              "2845338   False  False           False          False        False   \n",
              "2845339   False  False           False          False        False   \n",
              "2845340   False  False           False          False        False   \n",
              "2845341   False  False           False          False        False   \n",
              "\n",
              "        Sunrise_Sunset Civil_Twilight Nautical_Twilight Astronomical_Twilight  \n",
              "0                Night          Night             Night                 Night  \n",
              "1                Night          Night             Night                 Night  \n",
              "2                Night          Night             Night                   Day  \n",
              "3                Night          Night               Day                   Day  \n",
              "4                  Day            Day               Day                   Day  \n",
              "...                ...            ...               ...                   ...  \n",
              "2845337            Day            Day               Day                   Day  \n",
              "2845338            Day            Day               Day                   Day  \n",
              "2845339            Day            Day               Day                   Day  \n",
              "2845340            Day            Day               Day                   Day  \n",
              "2845341            Day            Day               Day                   Day  \n",
              "\n",
              "[2845342 rows x 47 columns]"
            ],
            "text/html": [
              "\n",
              "  <div id=\"df-2c03b4bf-b1b5-424a-84e3-c8987f37251d\">\n",
              "    <div class=\"colab-df-container\">\n",
              "      <div>\n",
              "<style scoped>\n",
              "    .dataframe tbody tr th:only-of-type {\n",
              "        vertical-align: middle;\n",
              "    }\n",
              "\n",
              "    .dataframe tbody tr th {\n",
              "        vertical-align: top;\n",
              "    }\n",
              "\n",
              "    .dataframe thead th {\n",
              "        text-align: right;\n",
              "    }\n",
              "</style>\n",
              "<table border=\"1\" class=\"dataframe\">\n",
              "  <thead>\n",
              "    <tr style=\"text-align: right;\">\n",
              "      <th></th>\n",
              "      <th>ID</th>\n",
              "      <th>Severity</th>\n",
              "      <th>Start_Time</th>\n",
              "      <th>End_Time</th>\n",
              "      <th>Start_Lat</th>\n",
              "      <th>Start_Lng</th>\n",
              "      <th>End_Lat</th>\n",
              "      <th>End_Lng</th>\n",
              "      <th>Distance(mi)</th>\n",
              "      <th>Description</th>\n",
              "      <th>...</th>\n",
              "      <th>Roundabout</th>\n",
              "      <th>Station</th>\n",
              "      <th>Stop</th>\n",
              "      <th>Traffic_Calming</th>\n",
              "      <th>Traffic_Signal</th>\n",
              "      <th>Turning_Loop</th>\n",
              "      <th>Sunrise_Sunset</th>\n",
              "      <th>Civil_Twilight</th>\n",
              "      <th>Nautical_Twilight</th>\n",
              "      <th>Astronomical_Twilight</th>\n",
              "    </tr>\n",
              "  </thead>\n",
              "  <tbody>\n",
              "    <tr>\n",
              "      <th>0</th>\n",
              "      <td>A-1</td>\n",
              "      <td>3</td>\n",
              "      <td>2016-02-08 00:37:08</td>\n",
              "      <td>2016-02-08 06:37:08</td>\n",
              "      <td>40.108910</td>\n",
              "      <td>-83.092860</td>\n",
              "      <td>40.112060</td>\n",
              "      <td>-83.031870</td>\n",
              "      <td>3.230</td>\n",
              "      <td>Between Sawmill Rd/Exit 20 and OH-315/Olentang...</td>\n",
              "      <td>...</td>\n",
              "      <td>False</td>\n",
              "      <td>False</td>\n",
              "      <td>False</td>\n",
              "      <td>False</td>\n",
              "      <td>False</td>\n",
              "      <td>False</td>\n",
              "      <td>Night</td>\n",
              "      <td>Night</td>\n",
              "      <td>Night</td>\n",
              "      <td>Night</td>\n",
              "    </tr>\n",
              "    <tr>\n",
              "      <th>1</th>\n",
              "      <td>A-2</td>\n",
              "      <td>2</td>\n",
              "      <td>2016-02-08 05:56:20</td>\n",
              "      <td>2016-02-08 11:56:20</td>\n",
              "      <td>39.865420</td>\n",
              "      <td>-84.062800</td>\n",
              "      <td>39.865010</td>\n",
              "      <td>-84.048730</td>\n",
              "      <td>0.747</td>\n",
              "      <td>At OH-4/OH-235/Exit 41 - Accident.</td>\n",
              "      <td>...</td>\n",
              "      <td>False</td>\n",
              "      <td>False</td>\n",
              "      <td>False</td>\n",
              "      <td>False</td>\n",
              "      <td>False</td>\n",
              "      <td>False</td>\n",
              "      <td>Night</td>\n",
              "      <td>Night</td>\n",
              "      <td>Night</td>\n",
              "      <td>Night</td>\n",
              "    </tr>\n",
              "    <tr>\n",
              "      <th>2</th>\n",
              "      <td>A-3</td>\n",
              "      <td>2</td>\n",
              "      <td>2016-02-08 06:15:39</td>\n",
              "      <td>2016-02-08 12:15:39</td>\n",
              "      <td>39.102660</td>\n",
              "      <td>-84.524680</td>\n",
              "      <td>39.102090</td>\n",
              "      <td>-84.523960</td>\n",
              "      <td>0.055</td>\n",
              "      <td>At I-71/US-50/Exit 1 - Accident.</td>\n",
              "      <td>...</td>\n",
              "      <td>False</td>\n",
              "      <td>False</td>\n",
              "      <td>False</td>\n",
              "      <td>False</td>\n",
              "      <td>False</td>\n",
              "      <td>False</td>\n",
              "      <td>Night</td>\n",
              "      <td>Night</td>\n",
              "      <td>Night</td>\n",
              "      <td>Day</td>\n",
              "    </tr>\n",
              "    <tr>\n",
              "      <th>3</th>\n",
              "      <td>A-4</td>\n",
              "      <td>2</td>\n",
              "      <td>2016-02-08 06:51:45</td>\n",
              "      <td>2016-02-08 12:51:45</td>\n",
              "      <td>41.062130</td>\n",
              "      <td>-81.537840</td>\n",
              "      <td>41.062170</td>\n",
              "      <td>-81.535470</td>\n",
              "      <td>0.123</td>\n",
              "      <td>At Dart Ave/Exit 21 - Accident.</td>\n",
              "      <td>...</td>\n",
              "      <td>False</td>\n",
              "      <td>False</td>\n",
              "      <td>False</td>\n",
              "      <td>False</td>\n",
              "      <td>False</td>\n",
              "      <td>False</td>\n",
              "      <td>Night</td>\n",
              "      <td>Night</td>\n",
              "      <td>Day</td>\n",
              "      <td>Day</td>\n",
              "    </tr>\n",
              "    <tr>\n",
              "      <th>4</th>\n",
              "      <td>A-5</td>\n",
              "      <td>3</td>\n",
              "      <td>2016-02-08 07:53:43</td>\n",
              "      <td>2016-02-08 13:53:43</td>\n",
              "      <td>39.172393</td>\n",
              "      <td>-84.492792</td>\n",
              "      <td>39.170476</td>\n",
              "      <td>-84.501798</td>\n",
              "      <td>0.500</td>\n",
              "      <td>At Mitchell Ave/Exit 6 - Accident.</td>\n",
              "      <td>...</td>\n",
              "      <td>False</td>\n",
              "      <td>False</td>\n",
              "      <td>False</td>\n",
              "      <td>False</td>\n",
              "      <td>False</td>\n",
              "      <td>False</td>\n",
              "      <td>Day</td>\n",
              "      <td>Day</td>\n",
              "      <td>Day</td>\n",
              "      <td>Day</td>\n",
              "    </tr>\n",
              "    <tr>\n",
              "      <th>...</th>\n",
              "      <td>...</td>\n",
              "      <td>...</td>\n",
              "      <td>...</td>\n",
              "      <td>...</td>\n",
              "      <td>...</td>\n",
              "      <td>...</td>\n",
              "      <td>...</td>\n",
              "      <td>...</td>\n",
              "      <td>...</td>\n",
              "      <td>...</td>\n",
              "      <td>...</td>\n",
              "      <td>...</td>\n",
              "      <td>...</td>\n",
              "      <td>...</td>\n",
              "      <td>...</td>\n",
              "      <td>...</td>\n",
              "      <td>...</td>\n",
              "      <td>...</td>\n",
              "      <td>...</td>\n",
              "      <td>...</td>\n",
              "      <td>...</td>\n",
              "    </tr>\n",
              "    <tr>\n",
              "      <th>2845337</th>\n",
              "      <td>A-2845338</td>\n",
              "      <td>2</td>\n",
              "      <td>2019-08-23 18:03:25</td>\n",
              "      <td>2019-08-23 18:32:01</td>\n",
              "      <td>34.002480</td>\n",
              "      <td>-117.379360</td>\n",
              "      <td>33.998880</td>\n",
              "      <td>-117.370940</td>\n",
              "      <td>0.543</td>\n",
              "      <td>At Market St - Accident.</td>\n",
              "      <td>...</td>\n",
              "      <td>False</td>\n",
              "      <td>False</td>\n",
              "      <td>False</td>\n",
              "      <td>False</td>\n",
              "      <td>False</td>\n",
              "      <td>False</td>\n",
              "      <td>Day</td>\n",
              "      <td>Day</td>\n",
              "      <td>Day</td>\n",
              "      <td>Day</td>\n",
              "    </tr>\n",
              "    <tr>\n",
              "      <th>2845338</th>\n",
              "      <td>A-2845339</td>\n",
              "      <td>2</td>\n",
              "      <td>2019-08-23 19:11:30</td>\n",
              "      <td>2019-08-23 19:38:23</td>\n",
              "      <td>32.766960</td>\n",
              "      <td>-117.148060</td>\n",
              "      <td>32.765550</td>\n",
              "      <td>-117.153630</td>\n",
              "      <td>0.338</td>\n",
              "      <td>At Camino Del Rio/Mission Center Rd - Accident.</td>\n",
              "      <td>...</td>\n",
              "      <td>False</td>\n",
              "      <td>False</td>\n",
              "      <td>False</td>\n",
              "      <td>False</td>\n",
              "      <td>False</td>\n",
              "      <td>False</td>\n",
              "      <td>Day</td>\n",
              "      <td>Day</td>\n",
              "      <td>Day</td>\n",
              "      <td>Day</td>\n",
              "    </tr>\n",
              "    <tr>\n",
              "      <th>2845339</th>\n",
              "      <td>A-2845340</td>\n",
              "      <td>2</td>\n",
              "      <td>2019-08-23 19:00:21</td>\n",
              "      <td>2019-08-23 19:28:49</td>\n",
              "      <td>33.775450</td>\n",
              "      <td>-117.847790</td>\n",
              "      <td>33.777400</td>\n",
              "      <td>-117.857270</td>\n",
              "      <td>0.561</td>\n",
              "      <td>At Glassell St/Grand Ave - Accident. in the ri...</td>\n",
              "      <td>...</td>\n",
              "      <td>False</td>\n",
              "      <td>False</td>\n",
              "      <td>False</td>\n",
              "      <td>False</td>\n",
              "      <td>False</td>\n",
              "      <td>False</td>\n",
              "      <td>Day</td>\n",
              "      <td>Day</td>\n",
              "      <td>Day</td>\n",
              "      <td>Day</td>\n",
              "    </tr>\n",
              "    <tr>\n",
              "      <th>2845340</th>\n",
              "      <td>A-2845341</td>\n",
              "      <td>2</td>\n",
              "      <td>2019-08-23 19:00:21</td>\n",
              "      <td>2019-08-23 19:29:42</td>\n",
              "      <td>33.992460</td>\n",
              "      <td>-118.403020</td>\n",
              "      <td>33.983110</td>\n",
              "      <td>-118.395650</td>\n",
              "      <td>0.772</td>\n",
              "      <td>At CA-90/Marina Fwy/Jefferson Blvd - Accident.</td>\n",
              "      <td>...</td>\n",
              "      <td>False</td>\n",
              "      <td>False</td>\n",
              "      <td>False</td>\n",
              "      <td>False</td>\n",
              "      <td>False</td>\n",
              "      <td>False</td>\n",
              "      <td>Day</td>\n",
              "      <td>Day</td>\n",
              "      <td>Day</td>\n",
              "      <td>Day</td>\n",
              "    </tr>\n",
              "    <tr>\n",
              "      <th>2845341</th>\n",
              "      <td>A-2845342</td>\n",
              "      <td>2</td>\n",
              "      <td>2019-08-23 18:52:06</td>\n",
              "      <td>2019-08-23 19:21:31</td>\n",
              "      <td>34.133930</td>\n",
              "      <td>-117.230920</td>\n",
              "      <td>34.137360</td>\n",
              "      <td>-117.239340</td>\n",
              "      <td>0.537</td>\n",
              "      <td>At Highland Ave/Arden Ave - Accident.</td>\n",
              "      <td>...</td>\n",
              "      <td>False</td>\n",
              "      <td>False</td>\n",
              "      <td>False</td>\n",
              "      <td>False</td>\n",
              "      <td>False</td>\n",
              "      <td>False</td>\n",
              "      <td>Day</td>\n",
              "      <td>Day</td>\n",
              "      <td>Day</td>\n",
              "      <td>Day</td>\n",
              "    </tr>\n",
              "  </tbody>\n",
              "</table>\n",
              "<p>2845342 rows × 47 columns</p>\n",
              "</div>\n",
              "      <button class=\"colab-df-convert\" onclick=\"convertToInteractive('df-2c03b4bf-b1b5-424a-84e3-c8987f37251d')\"\n",
              "              title=\"Convert this dataframe to an interactive table.\"\n",
              "              style=\"display:none;\">\n",
              "        \n",
              "  <svg xmlns=\"http://www.w3.org/2000/svg\" height=\"24px\"viewBox=\"0 0 24 24\"\n",
              "       width=\"24px\">\n",
              "    <path d=\"M0 0h24v24H0V0z\" fill=\"none\"/>\n",
              "    <path d=\"M18.56 5.44l.94 2.06.94-2.06 2.06-.94-2.06-.94-.94-2.06-.94 2.06-2.06.94zm-11 1L8.5 8.5l.94-2.06 2.06-.94-2.06-.94L8.5 2.5l-.94 2.06-2.06.94zm10 10l.94 2.06.94-2.06 2.06-.94-2.06-.94-.94-2.06-.94 2.06-2.06.94z\"/><path d=\"M17.41 7.96l-1.37-1.37c-.4-.4-.92-.59-1.43-.59-.52 0-1.04.2-1.43.59L10.3 9.45l-7.72 7.72c-.78.78-.78 2.05 0 2.83L4 21.41c.39.39.9.59 1.41.59.51 0 1.02-.2 1.41-.59l7.78-7.78 2.81-2.81c.8-.78.8-2.07 0-2.86zM5.41 20L4 18.59l7.72-7.72 1.47 1.35L5.41 20z\"/>\n",
              "  </svg>\n",
              "      </button>\n",
              "      \n",
              "  <style>\n",
              "    .colab-df-container {\n",
              "      display:flex;\n",
              "      flex-wrap:wrap;\n",
              "      gap: 12px;\n",
              "    }\n",
              "\n",
              "    .colab-df-convert {\n",
              "      background-color: #E8F0FE;\n",
              "      border: none;\n",
              "      border-radius: 50%;\n",
              "      cursor: pointer;\n",
              "      display: none;\n",
              "      fill: #1967D2;\n",
              "      height: 32px;\n",
              "      padding: 0 0 0 0;\n",
              "      width: 32px;\n",
              "    }\n",
              "\n",
              "    .colab-df-convert:hover {\n",
              "      background-color: #E2EBFA;\n",
              "      box-shadow: 0px 1px 2px rgba(60, 64, 67, 0.3), 0px 1px 3px 1px rgba(60, 64, 67, 0.15);\n",
              "      fill: #174EA6;\n",
              "    }\n",
              "\n",
              "    [theme=dark] .colab-df-convert {\n",
              "      background-color: #3B4455;\n",
              "      fill: #D2E3FC;\n",
              "    }\n",
              "\n",
              "    [theme=dark] .colab-df-convert:hover {\n",
              "      background-color: #434B5C;\n",
              "      box-shadow: 0px 1px 3px 1px rgba(0, 0, 0, 0.15);\n",
              "      filter: drop-shadow(0px 1px 2px rgba(0, 0, 0, 0.3));\n",
              "      fill: #FFFFFF;\n",
              "    }\n",
              "  </style>\n",
              "\n",
              "      <script>\n",
              "        const buttonEl =\n",
              "          document.querySelector('#df-2c03b4bf-b1b5-424a-84e3-c8987f37251d button.colab-df-convert');\n",
              "        buttonEl.style.display =\n",
              "          google.colab.kernel.accessAllowed ? 'block' : 'none';\n",
              "\n",
              "        async function convertToInteractive(key) {\n",
              "          const element = document.querySelector('#df-2c03b4bf-b1b5-424a-84e3-c8987f37251d');\n",
              "          const dataTable =\n",
              "            await google.colab.kernel.invokeFunction('convertToInteractive',\n",
              "                                                     [key], {});\n",
              "          if (!dataTable) return;\n",
              "\n",
              "          const docLinkHtml = 'Like what you see? Visit the ' +\n",
              "            '<a target=\"_blank\" href=https://colab.research.google.com/notebooks/data_table.ipynb>data table notebook</a>'\n",
              "            + ' to learn more about interactive tables.';\n",
              "          element.innerHTML = '';\n",
              "          dataTable['output_type'] = 'display_data';\n",
              "          await google.colab.output.renderOutput(dataTable, element);\n",
              "          const docLink = document.createElement('div');\n",
              "          docLink.innerHTML = docLinkHtml;\n",
              "          element.appendChild(docLink);\n",
              "        }\n",
              "      </script>\n",
              "    </div>\n",
              "  </div>\n",
              "  "
            ]
          },
          "metadata": {},
          "execution_count": 13
        },
        {
          "output_type": "stream",
          "name": "stdout",
          "text": [
            "Warning: Total number of columns (47) exceeds max_columns (20) limiting to first (20) columns.\n",
            "Warning: total number of rows (2845342) exceeds max_rows (20000). Limiting to first (20000) rows.\n"
          ]
        }
      ],
      "source": [
        "df\n"
      ]
    },
    {
      "cell_type": "code",
      "execution_count": null,
      "metadata": {
        "colab": {
          "base_uri": "https://localhost:8080/"
        },
        "id": "tgMbERPO2GlS",
        "outputId": "b90dda27-bca0-439e-d122-f478fb24112d"
      },
      "outputs": [
        {
          "output_type": "execute_result",
          "data": {
            "text/plain": [
              "Index(['ID', 'Severity', 'Start_Time', 'End_Time', 'Start_Lat', 'Start_Lng',\n",
              "       'End_Lat', 'End_Lng', 'Distance(mi)', 'Description', 'Number', 'Street',\n",
              "       'Side', 'City', 'County', 'State', 'Zipcode', 'Country', 'Timezone',\n",
              "       'Airport_Code', 'Weather_Timestamp', 'Temperature(F)', 'Wind_Chill(F)',\n",
              "       'Humidity(%)', 'Pressure(in)', 'Visibility(mi)', 'Wind_Direction',\n",
              "       'Wind_Speed(mph)', 'Precipitation(in)', 'Weather_Condition', 'Amenity',\n",
              "       'Bump', 'Crossing', 'Give_Way', 'Junction', 'No_Exit', 'Railway',\n",
              "       'Roundabout', 'Station', 'Stop', 'Traffic_Calming', 'Traffic_Signal',\n",
              "       'Turning_Loop', 'Sunrise_Sunset', 'Civil_Twilight', 'Nautical_Twilight',\n",
              "       'Astronomical_Twilight'],\n",
              "      dtype='object')"
            ]
          },
          "metadata": {},
          "execution_count": 14
        }
      ],
      "source": [
        "df.columns"
      ]
    },
    {
      "cell_type": "code",
      "execution_count": null,
      "metadata": {
        "colab": {
          "base_uri": "https://localhost:8080/"
        },
        "id": "syTw3BCu2di3",
        "outputId": "6854ab3f-49ef-4d0d-f10d-9cfacabc07dc"
      },
      "outputs": [
        {
          "output_type": "execute_result",
          "data": {
            "text/plain": [
              "47"
            ]
          },
          "metadata": {},
          "execution_count": 15
        }
      ],
      "source": [
        "len(df.columns)"
      ]
    },
    {
      "cell_type": "code",
      "execution_count": null,
      "metadata": {
        "colab": {
          "base_uri": "https://localhost:8080/"
        },
        "id": "Cd5g_Ei62n4J",
        "outputId": "e7feb115-0f50-46cb-b513-3460a49e37b9"
      },
      "outputs": [
        {
          "output_type": "stream",
          "name": "stdout",
          "text": [
            "<class 'pandas.core.frame.DataFrame'>\n",
            "RangeIndex: 2845342 entries, 0 to 2845341\n",
            "Data columns (total 47 columns):\n",
            " #   Column                 Dtype  \n",
            "---  ------                 -----  \n",
            " 0   ID                     object \n",
            " 1   Severity               int64  \n",
            " 2   Start_Time             object \n",
            " 3   End_Time               object \n",
            " 4   Start_Lat              float64\n",
            " 5   Start_Lng              float64\n",
            " 6   End_Lat                float64\n",
            " 7   End_Lng                float64\n",
            " 8   Distance(mi)           float64\n",
            " 9   Description            object \n",
            " 10  Number                 float64\n",
            " 11  Street                 object \n",
            " 12  Side                   object \n",
            " 13  City                   object \n",
            " 14  County                 object \n",
            " 15  State                  object \n",
            " 16  Zipcode                object \n",
            " 17  Country                object \n",
            " 18  Timezone               object \n",
            " 19  Airport_Code           object \n",
            " 20  Weather_Timestamp      object \n",
            " 21  Temperature(F)         float64\n",
            " 22  Wind_Chill(F)          float64\n",
            " 23  Humidity(%)            float64\n",
            " 24  Pressure(in)           float64\n",
            " 25  Visibility(mi)         float64\n",
            " 26  Wind_Direction         object \n",
            " 27  Wind_Speed(mph)        float64\n",
            " 28  Precipitation(in)      float64\n",
            " 29  Weather_Condition      object \n",
            " 30  Amenity                bool   \n",
            " 31  Bump                   bool   \n",
            " 32  Crossing               bool   \n",
            " 33  Give_Way               bool   \n",
            " 34  Junction               bool   \n",
            " 35  No_Exit                bool   \n",
            " 36  Railway                bool   \n",
            " 37  Roundabout             bool   \n",
            " 38  Station                bool   \n",
            " 39  Stop                   bool   \n",
            " 40  Traffic_Calming        bool   \n",
            " 41  Traffic_Signal         bool   \n",
            " 42  Turning_Loop           bool   \n",
            " 43  Sunrise_Sunset         object \n",
            " 44  Civil_Twilight         object \n",
            " 45  Nautical_Twilight      object \n",
            " 46  Astronomical_Twilight  object \n",
            "dtypes: bool(13), float64(13), int64(1), object(20)\n",
            "memory usage: 773.4+ MB\n"
          ]
        }
      ],
      "source": [
        "df.info()"
      ]
    },
    {
      "cell_type": "code",
      "execution_count": null,
      "metadata": {
        "colab": {
          "base_uri": "https://localhost:8080/",
          "height": 296
        },
        "id": "wMBMNqd_2s86",
        "outputId": "f23399b6-0a04-46b5-aa66-456832704282"
      },
      "outputs": [
        {
          "output_type": "execute_result",
          "data": {
            "text/plain": [
              "           Severity     Start_Lat     Start_Lng       End_Lat       End_Lng  \\\n",
              "count  2.845342e+06  2.845342e+06  2.845342e+06  2.845342e+06  2.845342e+06   \n",
              "mean   2.137572e+00  3.624520e+01 -9.711463e+01  3.624532e+01 -9.711439e+01   \n",
              "std    4.787216e-01  5.363797e+00  1.831782e+01  5.363873e+00  1.831763e+01   \n",
              "min    1.000000e+00  2.456603e+01 -1.245481e+02  2.456601e+01 -1.245457e+02   \n",
              "25%    2.000000e+00  3.344517e+01 -1.180331e+02  3.344628e+01 -1.180333e+02   \n",
              "50%    2.000000e+00  3.609861e+01 -9.241808e+01  3.609799e+01 -9.241772e+01   \n",
              "75%    2.000000e+00  4.016024e+01 -8.037243e+01  4.016105e+01 -8.037338e+01   \n",
              "max    4.000000e+00  4.900058e+01 -6.711317e+01  4.907500e+01 -6.710924e+01   \n",
              "\n",
              "       Distance(mi)        Number  Temperature(F)  Wind_Chill(F)  \\\n",
              "count  2.845342e+06  1.101431e+06    2.776068e+06   2.375699e+06   \n",
              "mean   7.026779e-01  8.089408e+03    6.179356e+01   5.965823e+01   \n",
              "std    1.560361e+00  1.836009e+04    1.862263e+01   2.116097e+01   \n",
              "min    0.000000e+00  0.000000e+00   -8.900000e+01  -8.900000e+01   \n",
              "25%    5.200000e-02  1.270000e+03    5.000000e+01   4.600000e+01   \n",
              "50%    2.440000e-01  4.007000e+03    6.400000e+01   6.300000e+01   \n",
              "75%    7.640000e-01  9.567000e+03    7.600000e+01   7.600000e+01   \n",
              "max    1.551860e+02  9.999997e+06    1.960000e+02   1.960000e+02   \n",
              "\n",
              "        Humidity(%)  Pressure(in)  Visibility(mi)  Wind_Speed(mph)  \\\n",
              "count  2.772250e+06  2.786142e+06    2.774796e+06     2.687398e+06   \n",
              "mean   6.436545e+01  2.947234e+01    9.099391e+00     7.395044e+00   \n",
              "std    2.287457e+01  1.045286e+00    2.717546e+00     5.527454e+00   \n",
              "min    1.000000e+00  0.000000e+00    0.000000e+00     0.000000e+00   \n",
              "25%    4.800000e+01  2.931000e+01    1.000000e+01     3.500000e+00   \n",
              "50%    6.700000e+01  2.982000e+01    1.000000e+01     7.000000e+00   \n",
              "75%    8.300000e+01  3.001000e+01    1.000000e+01     1.000000e+01   \n",
              "max    1.000000e+02  5.890000e+01    1.400000e+02     1.087000e+03   \n",
              "\n",
              "       Precipitation(in)  \n",
              "count       2.295884e+06  \n",
              "mean        7.016940e-03  \n",
              "std         9.348831e-02  \n",
              "min         0.000000e+00  \n",
              "25%         0.000000e+00  \n",
              "50%         0.000000e+00  \n",
              "75%         0.000000e+00  \n",
              "max         2.400000e+01  "
            ],
            "text/html": [
              "\n",
              "  <div id=\"df-5e379f04-d279-4eb6-9521-28e6b32cec6a\">\n",
              "    <div class=\"colab-df-container\">\n",
              "      <div>\n",
              "<style scoped>\n",
              "    .dataframe tbody tr th:only-of-type {\n",
              "        vertical-align: middle;\n",
              "    }\n",
              "\n",
              "    .dataframe tbody tr th {\n",
              "        vertical-align: top;\n",
              "    }\n",
              "\n",
              "    .dataframe thead th {\n",
              "        text-align: right;\n",
              "    }\n",
              "</style>\n",
              "<table border=\"1\" class=\"dataframe\">\n",
              "  <thead>\n",
              "    <tr style=\"text-align: right;\">\n",
              "      <th></th>\n",
              "      <th>Severity</th>\n",
              "      <th>Start_Lat</th>\n",
              "      <th>Start_Lng</th>\n",
              "      <th>End_Lat</th>\n",
              "      <th>End_Lng</th>\n",
              "      <th>Distance(mi)</th>\n",
              "      <th>Number</th>\n",
              "      <th>Temperature(F)</th>\n",
              "      <th>Wind_Chill(F)</th>\n",
              "      <th>Humidity(%)</th>\n",
              "      <th>Pressure(in)</th>\n",
              "      <th>Visibility(mi)</th>\n",
              "      <th>Wind_Speed(mph)</th>\n",
              "      <th>Precipitation(in)</th>\n",
              "    </tr>\n",
              "  </thead>\n",
              "  <tbody>\n",
              "    <tr>\n",
              "      <th>count</th>\n",
              "      <td>2.845342e+06</td>\n",
              "      <td>2.845342e+06</td>\n",
              "      <td>2.845342e+06</td>\n",
              "      <td>2.845342e+06</td>\n",
              "      <td>2.845342e+06</td>\n",
              "      <td>2.845342e+06</td>\n",
              "      <td>1.101431e+06</td>\n",
              "      <td>2.776068e+06</td>\n",
              "      <td>2.375699e+06</td>\n",
              "      <td>2.772250e+06</td>\n",
              "      <td>2.786142e+06</td>\n",
              "      <td>2.774796e+06</td>\n",
              "      <td>2.687398e+06</td>\n",
              "      <td>2.295884e+06</td>\n",
              "    </tr>\n",
              "    <tr>\n",
              "      <th>mean</th>\n",
              "      <td>2.137572e+00</td>\n",
              "      <td>3.624520e+01</td>\n",
              "      <td>-9.711463e+01</td>\n",
              "      <td>3.624532e+01</td>\n",
              "      <td>-9.711439e+01</td>\n",
              "      <td>7.026779e-01</td>\n",
              "      <td>8.089408e+03</td>\n",
              "      <td>6.179356e+01</td>\n",
              "      <td>5.965823e+01</td>\n",
              "      <td>6.436545e+01</td>\n",
              "      <td>2.947234e+01</td>\n",
              "      <td>9.099391e+00</td>\n",
              "      <td>7.395044e+00</td>\n",
              "      <td>7.016940e-03</td>\n",
              "    </tr>\n",
              "    <tr>\n",
              "      <th>std</th>\n",
              "      <td>4.787216e-01</td>\n",
              "      <td>5.363797e+00</td>\n",
              "      <td>1.831782e+01</td>\n",
              "      <td>5.363873e+00</td>\n",
              "      <td>1.831763e+01</td>\n",
              "      <td>1.560361e+00</td>\n",
              "      <td>1.836009e+04</td>\n",
              "      <td>1.862263e+01</td>\n",
              "      <td>2.116097e+01</td>\n",
              "      <td>2.287457e+01</td>\n",
              "      <td>1.045286e+00</td>\n",
              "      <td>2.717546e+00</td>\n",
              "      <td>5.527454e+00</td>\n",
              "      <td>9.348831e-02</td>\n",
              "    </tr>\n",
              "    <tr>\n",
              "      <th>min</th>\n",
              "      <td>1.000000e+00</td>\n",
              "      <td>2.456603e+01</td>\n",
              "      <td>-1.245481e+02</td>\n",
              "      <td>2.456601e+01</td>\n",
              "      <td>-1.245457e+02</td>\n",
              "      <td>0.000000e+00</td>\n",
              "      <td>0.000000e+00</td>\n",
              "      <td>-8.900000e+01</td>\n",
              "      <td>-8.900000e+01</td>\n",
              "      <td>1.000000e+00</td>\n",
              "      <td>0.000000e+00</td>\n",
              "      <td>0.000000e+00</td>\n",
              "      <td>0.000000e+00</td>\n",
              "      <td>0.000000e+00</td>\n",
              "    </tr>\n",
              "    <tr>\n",
              "      <th>25%</th>\n",
              "      <td>2.000000e+00</td>\n",
              "      <td>3.344517e+01</td>\n",
              "      <td>-1.180331e+02</td>\n",
              "      <td>3.344628e+01</td>\n",
              "      <td>-1.180333e+02</td>\n",
              "      <td>5.200000e-02</td>\n",
              "      <td>1.270000e+03</td>\n",
              "      <td>5.000000e+01</td>\n",
              "      <td>4.600000e+01</td>\n",
              "      <td>4.800000e+01</td>\n",
              "      <td>2.931000e+01</td>\n",
              "      <td>1.000000e+01</td>\n",
              "      <td>3.500000e+00</td>\n",
              "      <td>0.000000e+00</td>\n",
              "    </tr>\n",
              "    <tr>\n",
              "      <th>50%</th>\n",
              "      <td>2.000000e+00</td>\n",
              "      <td>3.609861e+01</td>\n",
              "      <td>-9.241808e+01</td>\n",
              "      <td>3.609799e+01</td>\n",
              "      <td>-9.241772e+01</td>\n",
              "      <td>2.440000e-01</td>\n",
              "      <td>4.007000e+03</td>\n",
              "      <td>6.400000e+01</td>\n",
              "      <td>6.300000e+01</td>\n",
              "      <td>6.700000e+01</td>\n",
              "      <td>2.982000e+01</td>\n",
              "      <td>1.000000e+01</td>\n",
              "      <td>7.000000e+00</td>\n",
              "      <td>0.000000e+00</td>\n",
              "    </tr>\n",
              "    <tr>\n",
              "      <th>75%</th>\n",
              "      <td>2.000000e+00</td>\n",
              "      <td>4.016024e+01</td>\n",
              "      <td>-8.037243e+01</td>\n",
              "      <td>4.016105e+01</td>\n",
              "      <td>-8.037338e+01</td>\n",
              "      <td>7.640000e-01</td>\n",
              "      <td>9.567000e+03</td>\n",
              "      <td>7.600000e+01</td>\n",
              "      <td>7.600000e+01</td>\n",
              "      <td>8.300000e+01</td>\n",
              "      <td>3.001000e+01</td>\n",
              "      <td>1.000000e+01</td>\n",
              "      <td>1.000000e+01</td>\n",
              "      <td>0.000000e+00</td>\n",
              "    </tr>\n",
              "    <tr>\n",
              "      <th>max</th>\n",
              "      <td>4.000000e+00</td>\n",
              "      <td>4.900058e+01</td>\n",
              "      <td>-6.711317e+01</td>\n",
              "      <td>4.907500e+01</td>\n",
              "      <td>-6.710924e+01</td>\n",
              "      <td>1.551860e+02</td>\n",
              "      <td>9.999997e+06</td>\n",
              "      <td>1.960000e+02</td>\n",
              "      <td>1.960000e+02</td>\n",
              "      <td>1.000000e+02</td>\n",
              "      <td>5.890000e+01</td>\n",
              "      <td>1.400000e+02</td>\n",
              "      <td>1.087000e+03</td>\n",
              "      <td>2.400000e+01</td>\n",
              "    </tr>\n",
              "  </tbody>\n",
              "</table>\n",
              "</div>\n",
              "      <button class=\"colab-df-convert\" onclick=\"convertToInteractive('df-5e379f04-d279-4eb6-9521-28e6b32cec6a')\"\n",
              "              title=\"Convert this dataframe to an interactive table.\"\n",
              "              style=\"display:none;\">\n",
              "        \n",
              "  <svg xmlns=\"http://www.w3.org/2000/svg\" height=\"24px\"viewBox=\"0 0 24 24\"\n",
              "       width=\"24px\">\n",
              "    <path d=\"M0 0h24v24H0V0z\" fill=\"none\"/>\n",
              "    <path d=\"M18.56 5.44l.94 2.06.94-2.06 2.06-.94-2.06-.94-.94-2.06-.94 2.06-2.06.94zm-11 1L8.5 8.5l.94-2.06 2.06-.94-2.06-.94L8.5 2.5l-.94 2.06-2.06.94zm10 10l.94 2.06.94-2.06 2.06-.94-2.06-.94-.94-2.06-.94 2.06-2.06.94z\"/><path d=\"M17.41 7.96l-1.37-1.37c-.4-.4-.92-.59-1.43-.59-.52 0-1.04.2-1.43.59L10.3 9.45l-7.72 7.72c-.78.78-.78 2.05 0 2.83L4 21.41c.39.39.9.59 1.41.59.51 0 1.02-.2 1.41-.59l7.78-7.78 2.81-2.81c.8-.78.8-2.07 0-2.86zM5.41 20L4 18.59l7.72-7.72 1.47 1.35L5.41 20z\"/>\n",
              "  </svg>\n",
              "      </button>\n",
              "      \n",
              "  <style>\n",
              "    .colab-df-container {\n",
              "      display:flex;\n",
              "      flex-wrap:wrap;\n",
              "      gap: 12px;\n",
              "    }\n",
              "\n",
              "    .colab-df-convert {\n",
              "      background-color: #E8F0FE;\n",
              "      border: none;\n",
              "      border-radius: 50%;\n",
              "      cursor: pointer;\n",
              "      display: none;\n",
              "      fill: #1967D2;\n",
              "      height: 32px;\n",
              "      padding: 0 0 0 0;\n",
              "      width: 32px;\n",
              "    }\n",
              "\n",
              "    .colab-df-convert:hover {\n",
              "      background-color: #E2EBFA;\n",
              "      box-shadow: 0px 1px 2px rgba(60, 64, 67, 0.3), 0px 1px 3px 1px rgba(60, 64, 67, 0.15);\n",
              "      fill: #174EA6;\n",
              "    }\n",
              "\n",
              "    [theme=dark] .colab-df-convert {\n",
              "      background-color: #3B4455;\n",
              "      fill: #D2E3FC;\n",
              "    }\n",
              "\n",
              "    [theme=dark] .colab-df-convert:hover {\n",
              "      background-color: #434B5C;\n",
              "      box-shadow: 0px 1px 3px 1px rgba(0, 0, 0, 0.15);\n",
              "      filter: drop-shadow(0px 1px 2px rgba(0, 0, 0, 0.3));\n",
              "      fill: #FFFFFF;\n",
              "    }\n",
              "  </style>\n",
              "\n",
              "      <script>\n",
              "        const buttonEl =\n",
              "          document.querySelector('#df-5e379f04-d279-4eb6-9521-28e6b32cec6a button.colab-df-convert');\n",
              "        buttonEl.style.display =\n",
              "          google.colab.kernel.accessAllowed ? 'block' : 'none';\n",
              "\n",
              "        async function convertToInteractive(key) {\n",
              "          const element = document.querySelector('#df-5e379f04-d279-4eb6-9521-28e6b32cec6a');\n",
              "          const dataTable =\n",
              "            await google.colab.kernel.invokeFunction('convertToInteractive',\n",
              "                                                     [key], {});\n",
              "          if (!dataTable) return;\n",
              "\n",
              "          const docLinkHtml = 'Like what you see? Visit the ' +\n",
              "            '<a target=\"_blank\" href=https://colab.research.google.com/notebooks/data_table.ipynb>data table notebook</a>'\n",
              "            + ' to learn more about interactive tables.';\n",
              "          element.innerHTML = '';\n",
              "          dataTable['output_type'] = 'display_data';\n",
              "          await google.colab.output.renderOutput(dataTable, element);\n",
              "          const docLink = document.createElement('div');\n",
              "          docLink.innerHTML = docLinkHtml;\n",
              "          element.appendChild(docLink);\n",
              "        }\n",
              "      </script>\n",
              "    </div>\n",
              "  </div>\n",
              "  "
            ]
          },
          "metadata": {},
          "execution_count": 17
        }
      ],
      "source": [
        "df.describe()"
      ]
    },
    {
      "cell_type": "markdown",
      "metadata": {
        "id": "aA5A_y6A36kF"
      },
      "source": [
        "\n",
        "\n",
        "1.   Are there More Accidents in warmer or colder areas?\n",
        "2.   Which 5 states has the highest number of accidents ?How about per capita?\n",
        "\n",
        "\n"
      ]
    },
    {
      "cell_type": "code",
      "execution_count": null,
      "metadata": {
        "colab": {
          "base_uri": "https://localhost:8080/"
        },
        "id": "5xE6req53p8t",
        "outputId": "dbb77dd0-3622-45d2-b92e-f08e0b0c5a63"
      },
      "outputs": [
        {
          "output_type": "execute_result",
          "data": {
            "text/plain": [
              "14"
            ]
          },
          "metadata": {},
          "execution_count": 18
        }
      ],
      "source": [
        "numerics=['int16','int32','int64','float16','float32','float64']\n",
        "numeric_df=df.select_dtypes(include=numerics)\n",
        "len(numeric_df.columns)"
      ]
    },
    {
      "cell_type": "code",
      "execution_count": null,
      "metadata": {
        "id": "EnvtZ98osxYw",
        "colab": {
          "base_uri": "https://localhost:8080/"
        },
        "outputId": "3eda5439-84bc-43e0-b312-57cac56b72ba"
      },
      "outputs": [
        {
          "output_type": "execute_result",
          "data": {
            "text/plain": [
              "Number                   6.129003e-01\n",
              "Precipitation(in)        1.931079e-01\n",
              "Wind_Chill(F)            1.650568e-01\n",
              "Wind_Speed(mph)          5.550967e-02\n",
              "Wind_Direction           2.592834e-02\n",
              "Humidity(%)              2.568830e-02\n",
              "Weather_Condition        2.482514e-02\n",
              "Visibility(mi)           2.479350e-02\n",
              "Temperature(F)           2.434646e-02\n",
              "Pressure(in)             2.080593e-02\n",
              "Weather_Timestamp        1.783125e-02\n",
              "Airport_Code             3.356011e-03\n",
              "Timezone                 1.285961e-03\n",
              "Nautical_Twilight        1.007612e-03\n",
              "Civil_Twilight           1.007612e-03\n",
              "Sunrise_Sunset           1.007612e-03\n",
              "Astronomical_Twilight    1.007612e-03\n",
              "Zipcode                  4.635647e-04\n",
              "City                     4.814887e-05\n",
              "Street                   7.029032e-07\n",
              "Country                  0.000000e+00\n",
              "Junction                 0.000000e+00\n",
              "Start_Time               0.000000e+00\n",
              "End_Time                 0.000000e+00\n",
              "Start_Lat                0.000000e+00\n",
              "Turning_Loop             0.000000e+00\n",
              "Traffic_Signal           0.000000e+00\n",
              "Traffic_Calming          0.000000e+00\n",
              "Stop                     0.000000e+00\n",
              "Station                  0.000000e+00\n",
              "Roundabout               0.000000e+00\n",
              "Railway                  0.000000e+00\n",
              "No_Exit                  0.000000e+00\n",
              "Crossing                 0.000000e+00\n",
              "Give_Way                 0.000000e+00\n",
              "Bump                     0.000000e+00\n",
              "Amenity                  0.000000e+00\n",
              "Start_Lng                0.000000e+00\n",
              "End_Lat                  0.000000e+00\n",
              "End_Lng                  0.000000e+00\n",
              "Distance(mi)             0.000000e+00\n",
              "Description              0.000000e+00\n",
              "Severity                 0.000000e+00\n",
              "Side                     0.000000e+00\n",
              "County                   0.000000e+00\n",
              "State                    0.000000e+00\n",
              "ID                       0.000000e+00\n",
              "dtype: float64"
            ]
          },
          "metadata": {},
          "execution_count": 19
        }
      ],
      "source": [
        "missing_percentages = df.isna().sum().sort_values(ascending=False) / len(df)\n",
        "missing_percentages"
      ]
    },
    {
      "cell_type": "code",
      "source": [
        "type(missing_percentages)"
      ],
      "metadata": {
        "colab": {
          "base_uri": "https://localhost:8080/"
        },
        "id": "4p1kuiYtj1YW",
        "outputId": "0a79c015-a52d-439f-900d-841990c3936f"
      },
      "execution_count": null,
      "outputs": [
        {
          "output_type": "execute_result",
          "data": {
            "text/plain": [
              "pandas.core.series.Series"
            ]
          },
          "metadata": {},
          "execution_count": 20
        }
      ]
    },
    {
      "cell_type": "code",
      "source": [
        "missing_percentages[missing_percentages != 0].plot(kind='barh')"
      ],
      "metadata": {
        "colab": {
          "base_uri": "https://localhost:8080/",
          "height": 283
        },
        "id": "0lkNzttnj5-U",
        "outputId": "fe31a732-9142-4591-be37-abac9f554bc9"
      },
      "execution_count": null,
      "outputs": [
        {
          "output_type": "execute_result",
          "data": {
            "text/plain": [
              "<matplotlib.axes._subplots.AxesSubplot at 0x7f885a11f810>"
            ]
          },
          "metadata": {},
          "execution_count": 21
        },
        {
          "output_type": "display_data",
          "data": {
            "text/plain": [
              "<Figure size 432x288 with 1 Axes>"
            ],
            "image/png": "[encoded data removed]"
          },
          "metadata": {
            "needs_background": "light"
          }
        }
      ]
    },
    {
      "cell_type": "markdown",
      "source": [
        "## Exploratory Analysis and Visualization\n",
        "\n",
        "Columns we'll analyze:\n",
        "\n",
        "1. City\n",
        "2. Start Time\n",
        "3. Start Lat, Start Lng\n",
        "4. Temperature\n",
        "5. Weather Condition"
      ],
      "metadata": {
        "id": "5UH1pMLwkCA-"
      }
    },
    {
      "cell_type": "code",
      "source": [
        "df.columns"
      ],
      "metadata": {
        "colab": {
          "base_uri": "https://localhost:8080/"
        },
        "id": "C5knwN8Fj7zR",
        "outputId": "0805c3aa-b382-4477-e06c-9316fedd3d75"
      },
      "execution_count": null,
      "outputs": [
        {
          "output_type": "execute_result",
          "data": {
            "text/plain": [
              "Index(['ID', 'Severity', 'Start_Time', 'End_Time', 'Start_Lat', 'Start_Lng',\n",
              "       'End_Lat', 'End_Lng', 'Distance(mi)', 'Description', 'Number', 'Street',\n",
              "       'Side', 'City', 'County', 'State', 'Zipcode', 'Country', 'Timezone',\n",
              "       'Airport_Code', 'Weather_Timestamp', 'Temperature(F)', 'Wind_Chill(F)',\n",
              "       'Humidity(%)', 'Pressure(in)', 'Visibility(mi)', 'Wind_Direction',\n",
              "       'Wind_Speed(mph)', 'Precipitation(in)', 'Weather_Condition', 'Amenity',\n",
              "       'Bump', 'Crossing', 'Give_Way', 'Junction', 'No_Exit', 'Railway',\n",
              "       'Roundabout', 'Station', 'Stop', 'Traffic_Calming', 'Traffic_Signal',\n",
              "       'Turning_Loop', 'Sunrise_Sunset', 'Civil_Twilight', 'Nautical_Twilight',\n",
              "       'Astronomical_Twilight'],\n",
              "      dtype='object')"
            ]
          },
          "metadata": {},
          "execution_count": 22
        }
      ]
    },
    {
      "cell_type": "markdown",
      "source": [
        "###City"
      ],
      "metadata": {
        "id": "yrFoWWM-kMIi"
      }
    },
    {
      "cell_type": "code",
      "source": [
        "df.City"
      ],
      "metadata": {
        "colab": {
          "base_uri": "https://localhost:8080/"
        },
        "id": "qEugLSZMkG5H",
        "outputId": "4dd06369-d304-41b0-a0ee-26ca89363e1d"
      },
      "execution_count": null,
      "outputs": [
        {
          "output_type": "execute_result",
          "data": {
            "text/plain": [
              "0               Dublin\n",
              "1               Dayton\n",
              "2           Cincinnati\n",
              "3                Akron\n",
              "4           Cincinnati\n",
              "              ...     \n",
              "2845337      Riverside\n",
              "2845338      San Diego\n",
              "2845339         Orange\n",
              "2845340    Culver City\n",
              "2845341       Highland\n",
              "Name: City, Length: 2845342, dtype: object"
            ]
          },
          "metadata": {},
          "execution_count": 23
        }
      ]
    },
    {
      "cell_type": "code",
      "source": [
        "cities = df.City.unique()\n",
        "len(cities)"
      ],
      "metadata": {
        "colab": {
          "base_uri": "https://localhost:8080/"
        },
        "id": "CitE3aoGkLEN",
        "outputId": "1f399216-0c79-4f86-c3bf-02a8be125829"
      },
      "execution_count": null,
      "outputs": [
        {
          "output_type": "execute_result",
          "data": {
            "text/plain": [
              "11682"
            ]
          },
          "metadata": {},
          "execution_count": 24
        }
      ]
    },
    {
      "cell_type": "code",
      "source": [
        "cities_by_accident = df.City.value_counts()\n",
        "cities_by_accident"
      ],
      "metadata": {
        "colab": {
          "base_uri": "https://localhost:8080/"
        },
        "id": "N4_fhlVbkQIm",
        "outputId": "71febdd0-527d-4a9f-a1bd-5b3430e8713a"
      },
      "execution_count": null,
      "outputs": [
        {
          "output_type": "execute_result",
          "data": {
            "text/plain": [
              "Miami                           106966\n",
              "Los Angeles                      68956\n",
              "Orlando                          54691\n",
              "Dallas                           41979\n",
              "Houston                          39448\n",
              "                                 ...  \n",
              "Ridgedale                            1\n",
              "Sekiu                                1\n",
              "Wooldridge                           1\n",
              "Bullock                              1\n",
              "American Fork-Pleasant Grove         1\n",
              "Name: City, Length: 11681, dtype: int64"
            ]
          },
          "metadata": {},
          "execution_count": 25
        }
      ]
    },
    {
      "cell_type": "code",
      "source": [
        "cities_by_accident[:20]"
      ],
      "metadata": {
        "colab": {
          "base_uri": "https://localhost:8080/"
        },
        "id": "6P1YbzE0kSwP",
        "outputId": "221a80f9-9639-4623-e03d-556c627e01c2"
      },
      "execution_count": null,
      "outputs": [
        {
          "output_type": "execute_result",
          "data": {
            "text/plain": [
              "Miami           106966\n",
              "Los Angeles      68956\n",
              "Orlando          54691\n",
              "Dallas           41979\n",
              "Houston          39448\n",
              "Charlotte        33152\n",
              "Sacramento       32559\n",
              "San Diego        26627\n",
              "Raleigh          22840\n",
              "Minneapolis      22768\n",
              "Portland         20944\n",
              "Nashville        20267\n",
              "Austin           18301\n",
              "Baton Rouge      18182\n",
              "Phoenix          17143\n",
              "Saint Paul       16869\n",
              "New Orleans      16251\n",
              "Atlanta          15622\n",
              "Jacksonville     14967\n",
              "Richmond         14349\n",
              "Name: City, dtype: int64"
            ]
          },
          "metadata": {},
          "execution_count": 26
        }
      ]
    },
    {
      "cell_type": "code",
      "source": [
        "type(cities_by_accident)"
      ],
      "metadata": {
        "colab": {
          "base_uri": "https://localhost:8080/"
        },
        "id": "eYF1jsVukWjK",
        "outputId": "22150f43-34e6-4513-d94f-ad899396adf1"
      },
      "execution_count": null,
      "outputs": [
        {
          "output_type": "execute_result",
          "data": {
            "text/plain": [
              "pandas.core.series.Series"
            ]
          },
          "metadata": {},
          "execution_count": 27
        }
      ]
    },
    {
      "cell_type": "code",
      "source": [
        "type(cities_by_accident)"
      ],
      "metadata": {
        "colab": {
          "base_uri": "https://localhost:8080/"
        },
        "id": "n_ydcuDikZvJ",
        "outputId": "db14f052-0720-4c97-d038-573c2ba6c93e"
      },
      "execution_count": null,
      "outputs": [
        {
          "output_type": "execute_result",
          "data": {
            "text/plain": [
              "pandas.core.series.Series"
            ]
          },
          "metadata": {},
          "execution_count": 28
        }
      ]
    },
    {
      "cell_type": "code",
      "source": [
        "cities_by_accident[:20].plot(kind='barh')"
      ],
      "metadata": {
        "colab": {
          "base_uri": "https://localhost:8080/",
          "height": 283
        },
        "id": "KwUCgGQ0kbnu",
        "outputId": "01a4a67c-05b2-4eb2-991b-607912e5a8ee"
      },
      "execution_count": null,
      "outputs": [
        {
          "output_type": "execute_result",
          "data": {
            "text/plain": [
              "<matplotlib.axes._subplots.AxesSubplot at 0x7f883fa179d0>"
            ]
          },
          "metadata": {},
          "execution_count": 29
        },
        {
          "output_type": "display_data",
          "data": {
            "text/plain": [
              "<Figure size 432x288 with 1 Axes>"
            ],
            "image/png": "[encoded data removed]"
          },
          "metadata": {
            "needs_background": "light"
          }
        }
      ]
    },
    {
      "cell_type": "code",
      "source": [
        "import seaborn as sns\n",
        "sns.set_style(\"darkgrid\")"
      ],
      "metadata": {
        "id": "GCCOirfmkeaV"
      },
      "execution_count": null,
      "outputs": []
    },
    {
      "cell_type": "code",
      "source": [
        "sns.histplot(cities_by_accident, log_scale=True)"
      ],
      "metadata": {
        "colab": {
          "base_uri": "https://localhost:8080/",
          "height": 301
        },
        "id": "fFWqmKF1khvm",
        "outputId": "e9b748d7-3d6f-4147-f923-86b2d3e5f872"
      },
      "execution_count": null,
      "outputs": [
        {
          "output_type": "execute_result",
          "data": {
            "text/plain": [
              "<matplotlib.axes._subplots.AxesSubplot at 0x7f87fae97390>"
            ]
          },
          "metadata": {},
          "execution_count": 31
        },
        {
          "output_type": "display_data",
          "data": {
            "text/plain": [
              "<Figure size 432x288 with 1 Axes>"
            ],
            "image/png": "[encoded data removed]"
          },
          "metadata": {}
        }
      ]
    },
    {
      "cell_type": "code",
      "source": [
        "cities_by_accident[cities_by_accident == 1]"
      ],
      "metadata": {
        "colab": {
          "base_uri": "https://localhost:8080/"
        },
        "id": "uF0Rj-uUkkBb",
        "outputId": "86938c8e-4329-41e4-b9f8-19ef99eb29c2"
      },
      "execution_count": null,
      "outputs": [
        {
          "output_type": "execute_result",
          "data": {
            "text/plain": [
              "Carney                          1\n",
              "Waverly Hall                    1\n",
              "Center Sandwich                 1\n",
              "Glen Flora                      1\n",
              "Sulphur Springs                 1\n",
              "                               ..\n",
              "Ridgedale                       1\n",
              "Sekiu                           1\n",
              "Wooldridge                      1\n",
              "Bullock                         1\n",
              "American Fork-Pleasant Grove    1\n",
              "Name: City, Length: 1110, dtype: int64"
            ]
          },
          "metadata": {},
          "execution_count": 32
        }
      ]
    },
    {
      "cell_type": "markdown",
      "source": [
        "Summary after Analysing City Data:\n",
        "1.   Cities in New York are been missing in this data \n",
        "2.   It is found that there are only 1 accident in more than 1000 cities\n",
        "3.   Miami has the largest number of accidents"
      ],
      "metadata": {
        "id": "dHn6_DlclzM9"
      }
    },
    {
      "cell_type": "markdown",
      "source": [
        "###Start Time\n"
      ],
      "metadata": {
        "id": "s7Lz3Q9hpS-X"
      }
    },
    {
      "cell_type": "code",
      "source": [
        "df.Start_Time"
      ],
      "metadata": {
        "colab": {
          "base_uri": "https://localhost:8080/"
        },
        "id": "DB4qnzFPkpNg",
        "outputId": "8553a81c-9859-4c07-a16d-de5a135f4674"
      },
      "execution_count": null,
      "outputs": [
        {
          "output_type": "execute_result",
          "data": {
            "text/plain": [
              "0          2016-02-08 00:37:08\n",
              "1          2016-02-08 05:56:20\n",
              "2          2016-02-08 06:15:39\n",
              "3          2016-02-08 06:51:45\n",
              "4          2016-02-08 07:53:43\n",
              "                  ...         \n",
              "2845337    2019-08-23 18:03:25\n",
              "2845338    2019-08-23 19:11:30\n",
              "2845339    2019-08-23 19:00:21\n",
              "2845340    2019-08-23 19:00:21\n",
              "2845341    2019-08-23 18:52:06\n",
              "Name: Start_Time, Length: 2845342, dtype: object"
            ]
          },
          "metadata": {},
          "execution_count": 33
        }
      ]
    },
    {
      "cell_type": "code",
      "source": [
        "df.Start_Time = pd.to_datetime(df.Start_Time)"
      ],
      "metadata": {
        "id": "zjs7kqAypZMM"
      },
      "execution_count": null,
      "outputs": []
    },
    {
      "cell_type": "code",
      "source": [
        "sns.distplot(df.Start_Time.dt.hour, bins=24, kde=False, norm_hist=True)"
      ],
      "metadata": {
        "colab": {
          "base_uri": "https://localhost:8080/",
          "height": 355
        },
        "id": "t8VOO7XQpck7",
        "outputId": "cf1b794f-be74-4605-938e-b56aa78c8aeb"
      },
      "execution_count": null,
      "outputs": [
        {
          "output_type": "stream",
          "name": "stderr",
          "text": [
            "/usr/local/lib/python3.7/dist-packages/seaborn/distributions.py:2619: FutureWarning: `distplot` is a deprecated function and will be removed in a future version. Please adapt your code to use either `displot` (a figure-level function with similar flexibility) or `histplot` (an axes-level function for histograms).\n",
            "  warnings.warn(msg, FutureWarning)\n"
          ]
        },
        {
          "output_type": "execute_result",
          "data": {
            "text/plain": [
              "<matplotlib.axes._subplots.AxesSubplot at 0x7f87faafa150>"
            ]
          },
          "metadata": {},
          "execution_count": 35
        },
        {
          "output_type": "display_data",
          "data": {
            "text/plain": [
              "<Figure size 432x288 with 1 Axes>"
            ],
            "image/png": "[encoded data removed]"
          },
          "metadata": {}
        }
      ]
    },
    {
      "cell_type": "markdown",
      "source": [
        "Accident rates are high from 15:00 to 18:00"
      ],
      "metadata": {
        "id": "F_p6R2TcqYci"
      }
    },
    {
      "cell_type": "code",
      "source": [
        "sns.distplot(df.Start_Time.dt.dayofweek, bins=7, kde=False, norm_hist=True)"
      ],
      "metadata": {
        "colab": {
          "base_uri": "https://localhost:8080/",
          "height": 355
        },
        "id": "u5VaO5L9p4pf",
        "outputId": "b21673d3-1080-4932-be13-c221d9bdfce3"
      },
      "execution_count": null,
      "outputs": [
        {
          "output_type": "stream",
          "name": "stderr",
          "text": [
            "/usr/local/lib/python3.7/dist-packages/seaborn/distributions.py:2619: FutureWarning: `distplot` is a deprecated function and will be removed in a future version. Please adapt your code to use either `displot` (a figure-level function with similar flexibility) or `histplot` (an axes-level function for histograms).\n",
            "  warnings.warn(msg, FutureWarning)\n"
          ]
        },
        {
          "output_type": "execute_result",
          "data": {
            "text/plain": [
              "<matplotlib.axes._subplots.AxesSubplot at 0x7f87faab8b90>"
            ]
          },
          "metadata": {},
          "execution_count": 36
        },
        {
          "output_type": "display_data",
          "data": {
            "text/plain": [
              "<Figure size 432x288 with 1 Axes>"
            ],
            "image/png": "[encoded data removed]"
          },
          "metadata": {}
        }
      ]
    },
    {
      "cell_type": "markdown",
      "source": [
        "It is found such that the accident stats are less during weekend and more during weekdays .\n"
      ],
      "metadata": {
        "id": "_DDb7uccrn5s"
      }
    },
    {
      "cell_type": "markdown",
      "source": [
        "Friday has the most number of accident compared to other days "
      ],
      "metadata": {
        "id": "qekX4XlDrxEQ"
      }
    },
    {
      "cell_type": "code",
      "source": [
        "sundays_start_time = df.Start_Time[df.Start_Time.dt.dayofweek == 6]\n",
        "sns.distplot(sundays_start_time.dt.hour, bins=24, kde=False, norm_hist=True)"
      ],
      "metadata": {
        "colab": {
          "base_uri": "https://localhost:8080/",
          "height": 355
        },
        "id": "WDEGFzAHr2hH",
        "outputId": "ac1457f9-ab6b-48d8-b1c2-d9667706929d"
      },
      "execution_count": null,
      "outputs": [
        {
          "output_type": "stream",
          "name": "stderr",
          "text": [
            "/usr/local/lib/python3.7/dist-packages/seaborn/distributions.py:2619: FutureWarning: `distplot` is a deprecated function and will be removed in a future version. Please adapt your code to use either `displot` (a figure-level function with similar flexibility) or `histplot` (an axes-level function for histograms).\n",
            "  warnings.warn(msg, FutureWarning)\n"
          ]
        },
        {
          "output_type": "execute_result",
          "data": {
            "text/plain": [
              "<matplotlib.axes._subplots.AxesSubplot at 0x7f87faa756d0>"
            ]
          },
          "metadata": {},
          "execution_count": 37
        },
        {
          "output_type": "display_data",
          "data": {
            "text/plain": [
              "<Figure size 432x288 with 1 Axes>"
            ],
            "image/png": "[encoded data removed]"
          },
          "metadata": {}
        }
      ]
    },
    {
      "cell_type": "code",
      "source": [
        "mondays_start_time = df.Start_Time[df.Start_Time.dt.dayofweek == 0]\n",
        "sns.distplot(mondays_start_time.dt.hour, bins=24, kde=False, norm_hist=True)"
      ],
      "metadata": {
        "colab": {
          "base_uri": "https://localhost:8080/",
          "height": 355
        },
        "id": "AINwHtHctxxp",
        "outputId": "cc7ca185-93c9-449e-d4ed-cb7da235c44a"
      },
      "execution_count": null,
      "outputs": [
        {
          "output_type": "stream",
          "name": "stderr",
          "text": [
            "/usr/local/lib/python3.7/dist-packages/seaborn/distributions.py:2619: FutureWarning: `distplot` is a deprecated function and will be removed in a future version. Please adapt your code to use either `displot` (a figure-level function with similar flexibility) or `histplot` (an axes-level function for histograms).\n",
            "  warnings.warn(msg, FutureWarning)\n"
          ]
        },
        {
          "output_type": "execute_result",
          "data": {
            "text/plain": [
              "<matplotlib.axes._subplots.AxesSubplot at 0x7f87fa95fe50>"
            ]
          },
          "metadata": {},
          "execution_count": 38
        },
        {
          "output_type": "display_data",
          "data": {
            "text/plain": [
              "<Figure size 432x288 with 1 Axes>"
            ],
            "image/png": "[encoded data removed]"
          },
          "metadata": {}
        }
      ]
    },
    {
      "cell_type": "code",
      "source": [
        "tuesday_start_time = df.Start_Time[df.Start_Time.dt.dayofweek == 1]\n",
        "sns.distplot(tuesday_start_time.dt.hour, bins=24, kde=False, norm_hist=True)"
      ],
      "metadata": {
        "colab": {
          "base_uri": "https://localhost:8080/",
          "height": 355
        },
        "id": "-orPN3LSuDta",
        "outputId": "0b1b6da5-31aa-42cc-a4fe-3b75afb256a9"
      },
      "execution_count": null,
      "outputs": [
        {
          "output_type": "stream",
          "name": "stderr",
          "text": [
            "/usr/local/lib/python3.7/dist-packages/seaborn/distributions.py:2619: FutureWarning: `distplot` is a deprecated function and will be removed in a future version. Please adapt your code to use either `displot` (a figure-level function with similar flexibility) or `histplot` (an axes-level function for histograms).\n",
            "  warnings.warn(msg, FutureWarning)\n"
          ]
        },
        {
          "output_type": "execute_result",
          "data": {
            "text/plain": [
              "<matplotlib.axes._subplots.AxesSubplot at 0x7f87fa8eadd0>"
            ]
          },
          "metadata": {},
          "execution_count": 39
        },
        {
          "output_type": "display_data",
          "data": {
            "text/plain": [
              "<Figure size 432x288 with 1 Axes>"
            ],
            "image/png": "[encoded data removed]"
          },
          "metadata": {}
        }
      ]
    },
    {
      "cell_type": "code",
      "source": [
        "wednesday_start_time = df.Start_Time[df.Start_Time.dt.dayofweek == 2]\n",
        "sns.distplot(wednesday_start_time.dt.hour, bins=24, kde=False, norm_hist=True)"
      ],
      "metadata": {
        "colab": {
          "base_uri": "https://localhost:8080/",
          "height": 355
        },
        "id": "M9Ooy2IxuTEe",
        "outputId": "2dcb2768-4ab8-42be-cf3a-b35a75bf14a4"
      },
      "execution_count": null,
      "outputs": [
        {
          "output_type": "stream",
          "name": "stderr",
          "text": [
            "/usr/local/lib/python3.7/dist-packages/seaborn/distributions.py:2619: FutureWarning: `distplot` is a deprecated function and will be removed in a future version. Please adapt your code to use either `displot` (a figure-level function with similar flexibility) or `histplot` (an axes-level function for histograms).\n",
            "  warnings.warn(msg, FutureWarning)\n"
          ]
        },
        {
          "output_type": "execute_result",
          "data": {
            "text/plain": [
              "<matplotlib.axes._subplots.AxesSubplot at 0x7f87fa7eb3d0>"
            ]
          },
          "metadata": {},
          "execution_count": 40
        },
        {
          "output_type": "display_data",
          "data": {
            "text/plain": [
              "<Figure size 432x288 with 1 Axes>"
            ],
            "image/png": "[encoded data removed]"
          },
          "metadata": {}
        }
      ]
    },
    {
      "cell_type": "markdown",
      "source": [
        "###Start Latitude and Longitude"
      ],
      "metadata": {
        "id": "Vej626WWmUxi"
      }
    },
    {
      "cell_type": "code",
      "source": [
        "df.Start_Lat"
      ],
      "metadata": {
        "colab": {
          "base_uri": "https://localhost:8080/"
        },
        "id": "6lzFXHpCy0HJ",
        "outputId": "c7d62ae8-8f0c-4cc5-91ac-a7fb9f681c0b"
      },
      "execution_count": null,
      "outputs": [
        {
          "output_type": "execute_result",
          "data": {
            "text/plain": [
              "0          40.108910\n",
              "1          39.865420\n",
              "2          39.102660\n",
              "3          41.062130\n",
              "4          39.172393\n",
              "             ...    \n",
              "2845337    34.002480\n",
              "2845338    32.766960\n",
              "2845339    33.775450\n",
              "2845340    33.992460\n",
              "2845341    34.133930\n",
              "Name: Start_Lat, Length: 2845342, dtype: float64"
            ]
          },
          "metadata": {},
          "execution_count": 42
        }
      ]
    },
    {
      "cell_type": "code",
      "source": [
        "df.Start_Lng"
      ],
      "metadata": {
        "colab": {
          "base_uri": "https://localhost:8080/"
        },
        "id": "2Z3UBt7Q6AjW",
        "outputId": "cfcec999-191e-44bd-c4d2-65d082a26df8"
      },
      "execution_count": null,
      "outputs": [
        {
          "output_type": "execute_result",
          "data": {
            "text/plain": [
              "0          -83.092860\n",
              "1          -84.062800\n",
              "2          -84.524680\n",
              "3          -81.537840\n",
              "4          -84.492792\n",
              "              ...    \n",
              "2845337   -117.379360\n",
              "2845338   -117.148060\n",
              "2845339   -117.847790\n",
              "2845340   -118.403020\n",
              "2845341   -117.230920\n",
              "Name: Start_Lng, Length: 2845342, dtype: float64"
            ]
          },
          "metadata": {},
          "execution_count": 44
        }
      ]
    },
    {
      "cell_type": "code",
      "source": [
        "sample_df = df.sample(int(0.1 * len(df)))"
      ],
      "metadata": {
        "id": "YYvxhDOk9Xnh"
      },
      "execution_count": null,
      "outputs": []
    },
    {
      "cell_type": "code",
      "source": [
        "sns.scatterplot(x=sample_df.Start_Lng, y=sample_df.Start_Lat, size=0.001)"
      ],
      "metadata": {
        "colab": {
          "base_uri": "https://localhost:8080/",
          "height": 300
        },
        "id": "NuI_m3Y69h_x",
        "outputId": "71fae75f-a722-461e-bc3a-bf054d6ce166"
      },
      "execution_count": null,
      "outputs": [
        {
          "output_type": "execute_result",
          "data": {
            "text/plain": [
              "<matplotlib.axes._subplots.AxesSubplot at 0x7f87fa4b1610>"
            ]
          },
          "metadata": {},
          "execution_count": 46
        },
        {
          "output_type": "display_data",
          "data": {
            "text/plain": [
              "<Figure size 432x288 with 1 Axes>"
            ],
            "image/png": "[encoded data removed]"
          },
          "metadata": {}
        }
      ]
    },
    {
      "cell_type": "code",
      "source": [
        "import folium\n"
      ],
      "metadata": {
        "id": "XZKBHQ5x9qhM"
      },
      "execution_count": null,
      "outputs": []
    },
    {
      "cell_type": "code",
      "source": [
        "lat, lon = df.Start_Lat[0], df.Start_Lng[0]\n",
        "lat, lon"
      ],
      "metadata": {
        "colab": {
          "base_uri": "https://localhost:8080/"
        },
        "id": "LeRg7z5Q99Tx",
        "outputId": "a930dcb1-d794-40d2-e63b-8554d9a04b31"
      },
      "execution_count": null,
      "outputs": [
        {
          "output_type": "execute_result",
          "data": {
            "text/plain": [
              "(40.10891, -83.09286)"
            ]
          },
          "metadata": {},
          "execution_count": 48
        }
      ]
    },
    {
      "cell_type": "code",
      "source": [
        "for x in df[['Start_Lat', 'Start_Lng']].sample(100).iteritems():\n",
        "    print(x[1])"
      ],
      "metadata": {
        "colab": {
          "base_uri": "https://localhost:8080/"
        },
        "id": "zI8GKIpK_JOD",
        "outputId": "cbcf66be-9679-4f9d-e65c-270fb051a313"
      },
      "execution_count": null,
      "outputs": [
        {
          "output_type": "stream",
          "name": "stdout",
          "text": [
            "2221207    40.051990\n",
            "400694     25.686190\n",
            "1798882    33.349224\n",
            "1864438    37.321060\n",
            "2677767    34.182380\n",
            "             ...    \n",
            "2711918    37.091590\n",
            "830173     41.175931\n",
            "2339664    36.732039\n",
            "2337197    40.809280\n",
            "2492340    35.741670\n",
            "Name: Start_Lat, Length: 100, dtype: float64\n",
            "2221207    -83.033740\n",
            "400694     -80.430098\n",
            "1798882   -111.894325\n",
            "1864438   -121.899994\n",
            "2677767   -118.314840\n",
            "              ...    \n",
            "2711918    -80.575530\n",
            "830173    -123.703404\n",
            "2339664   -120.350775\n",
            "2337197    -74.081250\n",
            "2492340    -78.773770\n",
            "Name: Start_Lng, Length: 100, dtype: float64\n"
          ]
        }
      ]
    },
    {
      "cell_type": "code",
      "source": [
        "zip(list(df.Start_Lat), list(df.Start_Lng))"
      ],
      "metadata": {
        "colab": {
          "base_uri": "https://localhost:8080/"
        },
        "id": "eo51Q_ui_iJ7",
        "outputId": "74d8cf03-5439-42c0-f1d0-088b8c5a93a1"
      },
      "execution_count": null,
      "outputs": [
        {
          "output_type": "execute_result",
          "data": {
            "text/plain": [
              "<zip at 0x7f87f9e92280>"
            ]
          },
          "metadata": {},
          "execution_count": 50
        }
      ]
    },
    {
      "cell_type": "code",
      "source": [
        "from folium.plugins import HeatMap"
      ],
      "metadata": {
        "id": "szjUJnPv_7er"
      },
      "execution_count": null,
      "outputs": []
    },
    {
      "cell_type": "code",
      "source": [
        "sample_df = df.sample(int(0.001 * len(df)))\n",
        "lat_lon_pairs = list(zip(list(sample_df.Start_Lat), list(sample_df.Start_Lng)))"
      ],
      "metadata": {
        "id": "3mE-N31mABh5"
      },
      "execution_count": null,
      "outputs": []
    },
    {
      "cell_type": "code",
      "source": [
        "map = folium.Map()\n",
        "HeatMap(lat_lon_pairs).add_to(map)\n",
        "map"
      ],
      "metadata": {
        "id": "ChtiYvZkAFLO",
        "outputId": "3c96506e-e68a-4c00-87b8-db1dc69f3b04",
        "colab": {
          "base_uri": "https://localhost:8080/",
          "height": 682
        }
      },
      "execution_count": null,
      "outputs": [
        {
          "output_type": "execute_result",
          "data": {
            "text/plain": [
              "<folium.folium.Map at 0x7f87fa3d2810>"
            ],
            "text/html": [
              "<div style=\"width:100%;\"><div style=\"position:relative;width:100%;height:0;padding-bottom:60%;\"><span style=\"color:#565656\">Make this Notebook Trusted to load map: File -> Trust Notebook</span><iframe src=\"about:blank\" style=\"position:absolute;width:100%;height:100%;left:0;top:0;border:none !important;\" data-html=%3C%21DOCTYPE%20html%3E%0A%3Chead%3E%20%20%20%20%0A%20%20%20%20%3Cmeta%20http-equiv%3D%22content-type%22%20content%3D%22text/html%3B%20charset%3DUTF-8%22%20/%3E%0A%20%20%20%20%3Cscript%3EL_PREFER_CANVAS%3Dfalse%3B%20L_NO_TOUCH%3Dfalse%3B%20L_DISABLE_3D%3Dfalse%3B%3C/script%3E%0A%20%20%20%20%3Cscript%20src%3D%22https%3A//cdn.jsdelivr.net/npm/leaflet%401.4.0/dist/leaflet.js%22%3E%3C/script%3E%0A%20%20%20%20%3Cscript%20src%3D%22https%3A//code.jquery.com/jquery-1.12.4.min.js%22%3E%3C/script%3E%0A%20%20%20%20%3Cscript%20src%3D%22https%3A//maxcdn.bootstrapcdn.com/bootstrap/3.2.0/js/bootstrap.min.js%22%3E%3C/script%3E%0A%20%20%20%20%3Cscript%20src%3D%22https%3A//cdnjs.cloudflare.com/ajax/libs/Leaflet.awesome-markers/2.0.2/leaflet.awesome-markers.js%22%3E%3C/script%3E%0A%20%20%20%20%3Clink%20rel%3D%22stylesheet%22%20href%3D%22https%3A//cdn.jsdelivr.net/npm/leaflet%401.4.0/dist/leaflet.css%22/%3E%0A%20%20%20%20%3Clink%20rel%3D%22stylesheet%22%20href%3D%22https%3A//maxcdn.bootstrapcdn.com/bootstrap/3.2.0/css/bootstrap.min.css%22/%3E%0A%20%20%20%20%3Clink%20rel%3D%22stylesheet%22%20href%3D%22https%3A//maxcdn.bootstrapcdn.com/bootstrap/3.2.0/css/bootstrap-theme.min.css%22/%3E%0A%20%20%20%20%3Clink%20rel%3D%22stylesheet%22%20href%3D%22https%3A//maxcdn.bootstrapcdn.com/font-awesome/4.6.3/css/font-awesome.min.css%22/%3E%0A%20%20%20%20%3Clink%20rel%3D%22stylesheet%22%20href%3D%22https%3A//cdnjs.cloudflare.com/ajax/libs/Leaflet.awesome-markers/2.0.2/leaflet.awesome-markers.css%22/%3E%0A%20%20%20%20%3Clink%20rel%3D%22stylesheet%22%20href%3D%22https%3A//rawcdn.githack.com/python-visualization/folium/master/folium/templates/leaflet.awesome.rotate.css%22/%3E%0A%20%20%20%20%3Cstyle%3Ehtml%2C%20body%20%7Bwidth%3A%20100%25%3Bheight%3A%20100%25%3Bmargin%3A%200%3Bpadding%3A%200%3B%7D%3C/style%3E%0A%20%20%20%20%3Cstyle%3E%23map%20%7Bposition%3Aabsolute%3Btop%3A0%3Bbottom%3A0%3Bright%3A0%3Bleft%3A0%3B%7D%3C/style%3E%0A%20%20%20%20%0A%20%20%20%20%3Cmeta%20name%3D%22viewport%22%20content%3D%22width%3Ddevice-width%2C%0A%20%20%20%20%20%20%20%20initial-scale%3D1.0%2C%20maximum-scale%3D1.0%2C%20user-scalable%3Dno%22%20/%3E%0A%20%20%20%20%3Cstyle%3E%23map_3c6ddaf3a216432894d87716e2f2042c%20%7B%0A%20%20%20%20%20%20%20%20position%3A%20relative%3B%0A%20%20%20%20%20%20%20%20width%3A%20100.0%25%3B%0A%20%20%20%20%20%20%20%20height%3A%20100.0%25%3B%0A%20%20%20%20%20%20%20%20left%3A%200.0%25%3B%0A%20%20%20%20%20%20%20%20top%3A%200.0%25%3B%0A%20%20%20%20%20%20%20%20%7D%0A%20%20%20%20%3C/style%3E%0A%20%20%20%20%3Cscript%20src%3D%22https%3A//leaflet.github.io/Leaflet.heat/dist/leaflet-heat.js%22%3E%3C/script%3E%0A%3C/head%3E%0A%3Cbody%3E%20%20%20%20%0A%20%20%20%20%0A%20%20%20%20%3Cdiv%20class%3D%22folium-map%22%20id%3D%22map_3c6ddaf3a216432894d87716e2f2042c%22%20%3E%3C/div%3E%0A%3C/body%3E%0A%3Cscript%3E%20%20%20%20%0A%20%20%20%20%0A%20%20%20%20%0A%20%20%20%20%20%20%20%20var%20bounds%20%3D%20null%3B%0A%20%20%20%20%0A%0A%20%20%20%20var%20map_3c6ddaf3a216432894d87716e2f2042c%20%3D%20L.map%28%0A%20%20%20%20%20%20%20%20%27map_3c6ddaf3a216432894d87716e2f2042c%27%2C%20%7B%0A%20%20%20%20%20%20%20%20center%3A%20%5B0%2C%200%5D%2C%0A%20%20%20%20%20%20%20%20zoom%3A%201%2C%0A%20%20%20%20%20%20%20%20maxBounds%3A%20bounds%2C%0A%20%20%20%20%20%20%20%20layers%3A%20%5B%5D%2C%0A%20%20%20%20%20%20%20%20worldCopyJump%3A%20false%2C%0A%20%20%20%20%20%20%20%20crs%3A%20L.CRS.EPSG3857%2C%0A%20%20%20%20%20%20%20%20zoomControl%3A%20true%2C%0A%20%20%20%20%20%20%20%20%7D%29%3B%0A%0A%0A%20%20%20%20%0A%20%20%20%20var%20tile_layer_9169a8b3c7234814be68ff7730c251d8%20%3D%20L.tileLayer%28%0A%20%20%20%20%20%20%20%20%27https%3A//%7Bs%7D.tile.openstreetmap.org/%7Bz%7D/%7Bx%7D/%7By%7D.png%27%2C%0A%20%20%20%20%20%20%20%20%7B%0A%20%20%20%20%20%20%20%20%22attribution%22%3A%20null%2C%0A%20%20%20%20%20%20%20%20%22detectRetina%22%3A%20false%2C%0A%20%20%20%20%20%20%20%20%22maxNativeZoom%22%3A%2018%2C%0A%20%20%20%20%20%20%20%20%22maxZoom%22%3A%2018%2C%0A%20%20%20%20%20%20%20%20%22minZoom%22%3A%200%2C%0A%20%20%20%20%20%20%20%20%22noWrap%22%3A%20false%2C%0A%20%20%20%20%20%20%20%20%22opacity%22%3A%201%2C%0A%20%20%20%20%20%20%20%20%22subdomains%22%3A%20%22abc%22%2C%0A%20%20%20%20%20%20%20%20%22tms%22%3A%20false%0A%7D%29.addTo%28map_3c6ddaf3a216432894d87716e2f2042c%29%3B%0A%20%20%20%20%0A%20%20%20%20%20%20%20%20%20%20%20%20var%20heat_map_9bdbea95402e4f60b0e1c8579379bec1%20%3D%20L.heatLayer%28%0A%20%20%20%20%20%20%20%20%20%20%20%20%20%20%20%20%5B%5B33.886044%2C%20-118.266651%5D%2C%20%5B38.907197%2C%20-77.918305%5D%2C%20%5B30.42168400000001%2C%20-91.154225%5D%2C%20%5B38.273223%2C%20-122.671622%5D%2C%20%5B37.39735%2C%20-121.13795%5D%2C%20%5B28.341556%2C%20-81.378606%5D%2C%20%5B30.155485%2C%20-89.85285400000002%5D%2C%20%5B38.85183%2C%20-104.68254%5D%2C%20%5B32.73193%2C%20-117.111457%5D%2C%20%5B41.249829%2C%20-81.498253%5D%2C%20%5B25.898069%2C%20-80.33393000000002%5D%2C%20%5B39.69792800000001%2C%20-75.573201%5D%2C%20%5B36.726061%2C%20-121.26843%5D%2C%20%5B39.31951%2C%20-77.353316%5D%2C%20%5B38.582168%2C%20-81.210429%5D%2C%20%5B34.096561%2C%20-118.20478%5D%2C%20%5B33.759833%2C%20-117.83117%5D%2C%20%5B33.624333%2C%20-84.457944%5D%2C%20%5B27.79179%2C%20-82.338177%5D%2C%20%5B36.066771%2C%20-86.686891%5D%2C%20%5B29.735349%2C%20-95.30126%5D%2C%20%5B25.89509%2C%20-80.20942%5D%2C%20%5B38.47445%2C%20-121.408685%5D%2C%20%5B40.076899%2C%20-75.110166%5D%2C%20%5B37.552505%2C%20-122.300686%5D%2C%20%5B41.81413%2C%20-71.3671%5D%2C%20%5B45.502992%2C%20-122.673403%5D%2C%20%5B32.133429%2C%20-111.106031%5D%2C%20%5B35.22898%2C%20-80.86691%5D%2C%20%5B27.863621%2C%20-82.326522%5D%2C%20%5B45.908119%2C%20-123.80696%5D%2C%20%5B37.056426%2C%20-120.931949%5D%2C%20%5B25.97053%2C%20-80.16575999999998%5D%2C%20%5B28.484165%2C%20-81.396679%5D%2C%20%5B34.112555%2C%20-80.806957%5D%2C%20%5B35.23804000000001%2C%20-82.37925%5D%2C%20%5B30.202618%2C%20-81.73960100000002%5D%2C%20%5B30.43654%2C%20-83.516361%5D%2C%20%5B40.863433%2C%20-111.929899%5D%2C%20%5B41.90879%2C%20-87.81068%5D%2C%20%5B37.42262%2C%20-120.766342%5D%2C%20%5B37.317021%2C%20-121.931206%5D%2C%20%5B42.558524%2C%20-123.371428%5D%2C%20%5B39.15778%2C%20-77.192%5D%2C%20%5B29.674195%2C%20-82.402821%5D%2C%20%5B34.15667%2C%20-118.41753%5D%2C%20%5B48.181931%2C%20-114.293228%5D%2C%20%5B44.41611%2C%20-118.94736%5D%2C%20%5B31.595886%2C%20-111.052504%5D%2C%20%5B35.114922%2C%20-85.252835%5D%2C%20%5B32.77381%2C%20-96.91586%5D%2C%20%5B37.708963%2C%20-122.467848%5D%2C%20%5B35.120147%2C%20-78.757284%5D%2C%20%5B35.356395%2C%20-80.53674000000002%5D%2C%20%5B34.676897%2C%20-86.033961%5D%2C%20%5B40.932379%2C%20-73.860412%5D%2C%20%5B38.879255%2C%20-77.221613%5D%2C%20%5B30.378563%2C%20-91.067761%5D%2C%20%5B45.50837%2C%20-122.77856%5D%2C%20%5B29.79647000000001%2C%20-95.56363%5D%2C%20%5B44.97454000000001%2C%20-93.29217%5D%2C%20%5B34.11331%2C%20-80.94735%5D%2C%20%5B37.52836%2C%20-122.26643%5D%2C%20%5B30.168339000000003%2C%20-81.587809%5D%2C%20%5B44.644607%2C%20-123.06006%5D%2C%20%5B33.72449%2C%20-84.39401%5D%2C%20%5B34.06775%2C%20-117.83551%5D%2C%20%5B28.179888%2C%20-82.740309%5D%2C%20%5B34.936911%2C%20-80.964718%5D%2C%20%5B34.03842%2C%20-118.27401%5D%2C%20%5B32.677715%2C%20-97.320308%5D%2C%20%5B33.958859999999994%2C%20-118.11328%5D%2C%20%5B43.15315%2C%20-73.68146%5D%2C%20%5B44.890604%2C%20-93.443119%5D%2C%20%5B33.994242%2C%20-117.89354099999998%5D%2C%20%5B37.100643%2C%20-121.015815%5D%2C%20%5B32.566094%2C%20-117.062358%5D%2C%20%5B43.65581%2C%20-116.279745%5D%2C%20%5B45.54114000000001%2C%20-93.58346%5D%2C%20%5B35.667318%2C%20-119.204674%5D%2C%20%5B33.939331%2C%20-117.175444%5D%2C%20%5B37.923585%2C%20-121.293216%5D%2C%20%5B39.77415%2C%20-76.96039%5D%2C%20%5B36.504053000000006%2C%20-86.662747%5D%2C%20%5B30.279794%2C%20-97.721225%5D%2C%20%5B40.72146%2C%20-74.2002%5D%2C%20%5B40.716585%2C%20-74.155744%5D%2C%20%5B40.848108%2C%20-74.474634%5D%2C%20%5B32.638000000000005%2C%20-117.099265%5D%2C%20%5B30.07452%2C%20-95.43616%5D%2C%20%5B34.181112%2C%20-118.31386299999998%5D%2C%20%5B29.952558000000003%2C%20-90.101633%5D%2C%20%5B38.76381%2C%20-77.183437%5D%2C%20%5B33.750335%2C%20-117.189203%5D%2C%20%5B40.038737%2C%20-76.271971%5D%2C%20%5B33.378155%2C%20-111.966768%5D%2C%20%5B27.893675%2C%20-82.730262%5D%2C%20%5B34.106404%2C%20-117.561477%5D%2C%20%5B37.983606%2C%20-120.382173%5D%2C%20%5B38.540044%2C%20-121.735835%5D%2C%20%5B33.46278%2C%20-112.16351%5D%2C%20%5B29.48458%2C%20-98.594883%5D%2C%20%5B38.73911%2C%20-77.51535%5D%2C%20%5B30.511921%2C%20-87.15372099999998%5D%2C%20%5B36.800009%2C%20-121.695482%5D%2C%20%5B35.531963%2C%20-78.569165%5D%2C%20%5B35.016331%2C%20-85.254612%5D%2C%20%5B33.4983%2C%20-117.65843999999998%5D%2C%20%5B42.400725%2C%20-83.218376%5D%2C%20%5B32.721755%2C%20-96.874385%5D%2C%20%5B25.71377%2C%20-80.382491%5D%2C%20%5B36.948822%2C%20-79.95817%5D%2C%20%5B47.30223%2C%20-122.25419%5D%2C%20%5B37.41351%2C%20-121.880252%5D%2C%20%5B34.611705%2C%20-117.243416%5D%2C%20%5B37.6444%2C%20-122.09394%5D%2C%20%5B33.876529999999995%2C%20-118.10718%5D%2C%20%5B41.166544%2C%20-73.213363%5D%2C%20%5B38.814377%2C%20-77.130604%5D%2C%20%5B26.431196000000003%2C%20-81.810754%5D%2C%20%5B46.645481%2C%20-92.512297%5D%2C%20%5B47.12095%2C%20-122.55329%5D%2C%20%5B35.134871999999994%2C%20-111.685007%5D%2C%20%5B39.592612%2C%20-76.066986%5D%2C%20%5B34.03331%2C%20-118.12501%5D%2C%20%5B38.57399%2C%20-121.384304%5D%2C%20%5B33.7482%2C%20-117.84325%5D%2C%20%5B37.582501%2C%20-77.46991%5D%2C%20%5B29.999449%2C%20-95.20993%5D%2C%20%5B33.465438%2C%20-86.93825600000002%5D%2C%20%5B40.14405900000001%2C%20-76.211621%5D%2C%20%5B42.959643%2C%20-85.672405%5D%2C%20%5B39.072793%2C%20-94.528455%5D%2C%20%5B37.709486%2C%20-122.124512%5D%2C%20%5B42.499506%2C%20-83.757901%5D%2C%20%5B40.30937%2C%20-75.302257%5D%2C%20%5B39.945307%2C%20-82.00744300000002%5D%2C%20%5B27.273037%2C%20-82.49765500000002%5D%2C%20%5B26.51991%2C%20-80.0727%5D%2C%20%5B41.24196%2C%20-111.945369%5D%2C%20%5B33.41989%2C%20-86.69426999999996%5D%2C%20%5B43.14747%2C%20-118.27819%5D%2C%20%5B33.868%2C%20-84.28513000000002%5D%2C%20%5B37.382031%2C%20-121.904468%5D%2C%20%5B41.519048%2C%20-73.695224%5D%2C%20%5B33.86091500000001%2C%20-118.313984%5D%2C%20%5B33.533212%2C%20-117.598827%5D%2C%20%5B37.644055%2C%20-121.067443%5D%2C%20%5B44.410089%2C%20-122.653373%5D%2C%20%5B35.939819%2C%20-78.820418%5D%2C%20%5B33.91555%2C%20-118.18852%5D%2C%20%5B40.383%2C%20-111.81455%5D%2C%20%5B40.04373%2C%20-75.0027%5D%2C%20%5B42.73383%2C%20-83.37599%5D%2C%20%5B34.277507%2C%20-118.390722%5D%2C%20%5B40.669143%2C%20-74.283507%5D%2C%20%5B34.274956%2C%20-118.536291%5D%2C%20%5B32.842387%2C%20-96.673078%5D%2C%20%5B26.621038%2C%20-81.749509%5D%2C%20%5B35.27186%2C%20-80.84303%5D%2C%20%5B33.927186%2C%20-118.178333%5D%2C%20%5B33.83421%2C%20-118.085528%5D%2C%20%5B45.332532%2C%20-93.736666%5D%2C%20%5B33.881802%2C%20-117.593921%5D%2C%20%5B33.891715000000005%2C%20-117.646811%5D%2C%20%5B26.330712%2C%20-81.803913%5D%2C%20%5B33.574670000000005%2C%20-84.27615%5D%2C%20%5B34.058336%2C%20-118.178654%5D%2C%20%5B34.024261%2C%20-117.744244%5D%2C%20%5B30.520388%2C%20-91.145708%5D%2C%20%5B35.338135%2C%20-82.43789699999998%5D%2C%20%5B35.267654%2C%20-79.59375%5D%2C%20%5B36.045686%2C%20-86.660379%5D%2C%20%5B33.962988%2C%20-118.232207%5D%2C%20%5B40.882827%2C%20-121.660306%5D%2C%20%5B42.317848%2C%20-88.16469599999998%5D%2C%20%5B32.413157%2C%20-80.648925%5D%2C%20%5B34.067483%2C%20-117.545259%5D%2C%20%5B33.125785%2C%20-117.324081%5D%2C%20%5B33.669425%2C%20-112.151758%5D%2C%20%5B43.644596%2C%20-73.799573%5D%2C%20%5B44.984924%2C%20-122.736071%5D%2C%20%5B41.22864000000001%2C%20-112.014704%5D%2C%20%5B40.633226%2C%20-111.892549%5D%2C%20%5B34.544461%2C%20-117.302037%5D%2C%20%5B40.705729%2C%20-74.149464%5D%2C%20%5B33.950425%2C%20-117.385429%5D%2C%20%5B33.777326%2C%20-84.390674%5D%2C%20%5B27.70447%2C%20-82.14613%5D%2C%20%5B34.033608%2C%20-118.128176%5D%2C%20%5B37.710288%2C%20-122.069694%5D%2C%20%5B32.725878%2C%20-97.320359%5D%2C%20%5B35.038806%2C%20-81.000777%5D%2C%20%5B45.53262%2C%20-122.57654%5D%2C%20%5B28.09555%2C%20-82.50214%5D%2C%20%5B32.76212%2C%20-117.16371%5D%2C%20%5B25.765005%2C%20-80.338554%5D%2C%20%5B35.14248%2C%20-80.93069%5D%2C%20%5B40.739773%2C%20-111.672425%5D%2C%20%5B28.183279%2C%20-82.353487%5D%2C%20%5B39.175268%2C%20-78.03366899999997%5D%2C%20%5B39.713837%2C%20-75.584541%5D%2C%20%5B37.315889%2C%20-121.975826%5D%2C%20%5B25.87544500000001%2C%20-80.242876%5D%2C%20%5B29.951268%2C%20-95.363017%5D%2C%20%5B29.424338%2C%20-82.586143%5D%2C%20%5B37.995591%2C%20-121.780403%5D%2C%20%5B25.805096%2C%20-80.20596%5D%2C%20%5B29.998806%2C%20-90.04288100000002%5D%2C%20%5B33.91279%2C%20-118.271803%5D%2C%20%5B34.276903000000004%2C%20-118.388671%5D%2C%20%5B34.692555%2C%20-82.985582%5D%2C%20%5B41.160761%2C%20-74.184783%5D%2C%20%5B34.136553%2C%20-117.523479%5D%2C%20%5B35.174690000000005%2C%20-80.8714%5D%2C%20%5B39.379045%2C%20-111.58625%5D%2C%20%5B40.334769%2C%20-75.93956999999997%5D%2C%20%5B39.959131%2C%20-75.18082700000002%5D%2C%20%5B40.085846%2C%20-75.251312%5D%2C%20%5B36.385999%2C%20-120.103172%5D%2C%20%5B37.34928%2C%20-121.86131%5D%2C%20%5B45.466006%2C%20-122.638396%5D%2C%20%5B34.06572%2C%20-117.50039%5D%2C%20%5B38.434096%2C%20-90.382664%5D%2C%20%5B38.81738%2C%20-90.95963%5D%2C%20%5B29.446481%2C%20-98.674017%5D%2C%20%5B45.007992%2C%20-93.203984%5D%2C%20%5B37.36136%2C%20-121.904%5D%2C%20%5B33.988406%2C%20-117.904394%5D%2C%20%5B38.77326%2C%20-90.36288%5D%2C%20%5B35.208462%2C%20-80.754655%5D%2C%20%5B40.69627%2C%20-75.18918000000002%5D%2C%20%5B41.55192%2C%20-73.94394%5D%2C%20%5B33.777619%2C%20-118.089574%5D%2C%20%5B45.04687%2C%20-93.10984%5D%2C%20%5B35.047246%2C%20-85.096722%5D%2C%20%5B38.66703%2C%20-90.57538%5D%2C%20%5B34.043589000000004%2C%20-118.303371%5D%2C%20%5B43.560029%2C%20-123.282018%5D%2C%20%5B25.685165%2C%20-80.419593%5D%2C%20%5B39.51638%2C%20-85.07921%5D%2C%20%5B38.026776%2C%20-121.951256%5D%2C%20%5B41.140284%2C%20-95.92704%5D%2C%20%5B34.029538%2C%20-118.218753%5D%2C%20%5B45.149163%2C%20-122.650691%5D%2C%20%5B34.066756%2C%20-117.802863%5D%2C%20%5B40.24992%2C%20-74.08243%5D%2C%20%5B33.591172%2C%20-86.128036%5D%2C%20%5B38.639159%2C%20-121.349549%5D%2C%20%5B33.933302000000005%2C%20-118.350294%5D%2C%20%5B41.17876%2C%20-85.10495999999998%5D%2C%20%5B33.385948%2C%20-111.863818%5D%2C%20%5B27.88032%2C%20-80.50135%5D%2C%20%5B42.308317%2C%20-122.84561200000002%5D%2C%20%5B36.967365%2C%20-121.552861%5D%2C%20%5B37.98701%2C%20-121.25076%5D%2C%20%5B35.25092100000001%2C%20-85.002426%5D%2C%20%5B28.332592%2C%20-81.579376%5D%2C%20%5B29.747078%2C%20-81.990555%5D%2C%20%5B40.11309%2C%20-74.890311%5D%2C%20%5B33.533765%2C%20-113.139387%5D%2C%20%5B28.236195%2C%20-82.349616%5D%2C%20%5B32.668823%2C%20-96.956244%5D%2C%20%5B37.95904%2C%20-121.215409%5D%2C%20%5B40.630459%2C%20-111.876063%5D%2C%20%5B28.59063%2C%20-81.37906%5D%2C%20%5B28.55731%2C%20-81.31089%5D%2C%20%5B36.151194%2C%20-82.426823%5D%2C%20%5B35.177589000000005%2C%20-80.878567%5D%2C%20%5B41.85899000000001%2C%20-88.09196999999998%5D%2C%20%5B32.67722%2C%20-117.08454%5D%2C%20%5B39.515451%2C%20-120.983537%5D%2C%20%5B44.083811%2C%20-122.743517%5D%2C%20%5B38.481642%2C%20-121.422239%5D%2C%20%5B29.737484%2C%20-95.520106%5D%2C%20%5B25.862598%2C%20-80.241293%5D%2C%20%5B28.200649%2C%20-80.67409%5D%2C%20%5B37.74695%2C%20-121.72601%5D%2C%20%5B40.00113%2C%20-75.81966%5D%2C%20%5B33.608711%2C%20-81.839743%5D%2C%20%5B34.293949%2C%20-80.061988%5D%2C%20%5B30.309787%2C%20-81.770092%5D%2C%20%5B29.815941%2C%20-95.387536%5D%2C%20%5B30.401621%2C%20-86.885317%5D%2C%20%5B35.115320000000004%2C%20-120.57163%5D%2C%20%5B44.499746%2C%20-117.370322%5D%2C%20%5B35.054465%2C%20-120.179904%5D%2C%20%5B46.581741%2C%20-92.584973%5D%2C%20%5B32.69385%2C%20-117.12375%5D%2C%20%5B28.98468%2C%20-81.978998%5D%2C%20%5B26.017109%2C%20-80.167415%5D%2C%20%5B38.963425%2C%20-94.726293%5D%2C%20%5B30.460999%2C%20-97.901018%5D%2C%20%5B37.739549%2C%20-121.557744%5D%2C%20%5B34.06755%2C%20-117.55328%5D%2C%20%5B29.87661%2C%20-95.56279%5D%2C%20%5B41.68754000000001%2C%20-91.91105%5D%2C%20%5B35.114273%2C%20-80.886498%5D%2C%20%5B33.771021000000005%2C%20-117.992081%5D%2C%20%5B25.926016%2C%20-80.156913%5D%2C%20%5B34.143764000000004%2C%20-118.073439%5D%2C%20%5B28.473032%2C%20-81.445201%5D%2C%20%5B44.969397%2C%20-93.287756%5D%2C%20%5B25.434231%2C%20-80.474355%5D%2C%20%5B37.935702%2C%20-121.237978%5D%2C%20%5B37.70117%2C%20-121.85469%5D%2C%20%5B47.585214%2C%20-95.41645%5D%2C%20%5B35.615175%2C%20-82.573295%5D%2C%20%5B34.02807%2C%20-84.0506%5D%2C%20%5B39.706445%2C%20-121.807527%5D%2C%20%5B43.14587%2C%20-77.59252%5D%2C%20%5B38.1737%2C%20-84.81473000000003%5D%2C%20%5B25.963075%2C%20-80.16624300000002%5D%2C%20%5B40.601067%2C%20-75.556719%5D%2C%20%5B40.71816%2C%20-111.89309%5D%2C%20%5B40.945159%2C%20-124.1069%5D%2C%20%5B37.65376%2C%20-121.89825%5D%2C%20%5B35.08413%2C%20-90.07498%5D%2C%20%5B34.136484%2C%20-117.504642%5D%2C%20%5B40.707591%2C%20-73.818954%5D%2C%20%5B35.24414%2C%20-112.67479%5D%2C%20%5B40.67931%2C%20-74.27833000000003%5D%2C%20%5B40.85882700000001%2C%20-76.766811%5D%2C%20%5B41.072591%2C%20-78.642185%5D%2C%20%5B45.56665%2C%20-123.939491%5D%2C%20%5B32.229082%2C%20-110.962519%5D%2C%20%5B35.2901%2C%20-80.75721999999998%5D%2C%20%5B35.008642%2C%20-85.230542%5D%2C%20%5B45.06622%2C%20-93.2998%5D%2C%20%5B34.181784%2C%20-118.149203%5D%2C%20%5B41.941%2C%20-72.306674%5D%2C%20%5B40.289693%2C%20-111.733901%5D%2C%20%5B41.59568%2C%20-81.44561999999998%5D%2C%20%5B27.990386%2C%20-82.729344%5D%2C%20%5B32.85556500000001%2C%20-96.770301%5D%2C%20%5B44.93917800000001%2C%20-120.967723%5D%2C%20%5B43.01098%2C%20-76.13377%5D%2C%20%5B44.891272%2C%20-93.440378%5D%2C%20%5B44.9486%2C%20-92.96163%5D%2C%20%5B37.98475%2C%20-122.04133%5D%2C%20%5B34.02816%2C%20-118.20691%5D%2C%20%5B43.139595%2C%20-71.495212%5D%2C%20%5B42.46371%2C%20-79.29899999999998%5D%2C%20%5B33.658386%2C%20-117.295199%5D%2C%20%5B38.873459%2C%20-77.041958%5D%2C%20%5B42.097201%2C%20-73.963825%5D%2C%20%5B38.442408%2C%20-77.411427%5D%2C%20%5B36.721838%2C%20-119.785497%5D%2C%20%5B38.783465%2C%20-90.355778%5D%2C%20%5B40.73808%2C%20-74.21733%5D%2C%20%5B34.543690000000005%2C%20-82.452652%5D%2C%20%5B39.041004%2C%20-120.998452%5D%2C%20%5B30.383269%2C%20-97.765887%5D%2C%20%5B33.624962%2C%20-84.48836800000002%5D%2C%20%5B27.943545%2C%20-82.449951%5D%2C%20%5B26.548679%2C%20-81.87167%5D%2C%20%5B33.545831%2C%20-80.905474%5D%2C%20%5B29.417384%2C%20-98.480254%5D%2C%20%5B25.76107%2C%20-80.390812%5D%2C%20%5B38.841514%2C%20-77.21942%5D%2C%20%5B42.49461%2C%20-82.92895%5D%2C%20%5B32.784678%2C%20-117.207393%5D%2C%20%5B30.05870800000001%2C%20-97.803743%5D%2C%20%5B41.87543%2C%20-87.67274%5D%2C%20%5B46.231081%2C%20-94.355733%5D%2C%20%5B40.854159%2C%20-73.965693%5D%2C%20%5B38.882342%2C%20-77.018462%5D%2C%20%5B38.159841%2C%20-79.014669%5D%2C%20%5B28.446243%2C%20-81.401884%5D%2C%20%5B28.450977%2C%20-81.47777099999998%5D%2C%20%5B27.990804%2C%20-82.69325%5D%2C%20%5B39.95801%2C%20-75.286979%5D%2C%20%5B40.03184%2C%20-76.300313%5D%2C%20%5B44.170537%2C%20-93.949193%5D%2C%20%5B28.261975%2C%20-80.68824599999998%5D%2C%20%5B27.41784%2C%20-82.456389%5D%2C%20%5B34.067766%2C%20-117.295703%5D%2C%20%5B37.57598%2C%20-121.88112%5D%2C%20%5B26.6437%2C%20-81.59824%5D%2C%20%5B45.14549%2C%20-122.88658999999998%5D%2C%20%5B33.861258%2C%20-117.989288%5D%2C%20%5B36.654328%2C%20-121.660674%5D%2C%20%5B37.042711%2C%20-76.363574%5D%2C%20%5B33.87679%2C%20-118.10739%5D%2C%20%5B35.990132%2C%20-83.90289200000002%5D%2C%20%5B36.164299%2C%20-86.763185%5D%2C%20%5B42.99548%2C%20-85.66461%5D%2C%20%5B38.24065%2C%20-122.09096%5D%2C%20%5B34.099036%2C%20-117.922562%5D%2C%20%5B45.07604%2C%20-93.18521%5D%2C%20%5B26.165739%2C%20-80.168089%5D%2C%20%5B40.035998%2C%20-76.305346%5D%2C%20%5B34.41819%2C%20-119.710384%5D%2C%20%5B36.20607800000001%2C%20-86.771015%5D%2C%20%5B39.40188%2C%20-77.437703%5D%2C%20%5B42.599005%2C%20-123.383793%5D%2C%20%5B38.767464%2C%20-90.490787%5D%2C%20%5B25.708799%2C%20-80.284041%5D%2C%20%5B41.092482%2C%20-73.930317%5D%2C%20%5B35.121602%2C%20-85.092967%5D%2C%20%5B38.854488%2C%20-104.879326%5D%2C%20%5B33.581686%2C%20-112.117096%5D%2C%20%5B25.806357%2C%20-80.321414%5D%2C%20%5B32.184629%2C%20-110.824557%5D%2C%20%5B25.686033%2C%20-80.398689%5D%2C%20%5B35.80185%2C%20-78.68744000000002%5D%2C%20%5B40.157843%2C%20-76.136125%5D%2C%20%5B38.550928000000006%2C%20-76.820666%5D%2C%20%5B37.667417%2C%20-122.395134%5D%2C%20%5B32.340849%2C%20-90.59418%5D%2C%20%5B41.539574%2C%20-73.771938%5D%2C%20%5B33.968144%2C%20-118.167655%5D%2C%20%5B34.046536%2C%20-118.268356%5D%2C%20%5B40.723258%2C%20-112.225229%5D%2C%20%5B36.57385%2C%20-85.5428%5D%2C%20%5B34.181975%2C%20-93.073092%5D%2C%20%5B30.388151%2C%20-91.056243%5D%2C%20%5B39.784577%2C%20-84.165678%5D%2C%20%5B41.758931%2C%20-72.440699%5D%2C%20%5B40.641721%2C%20-74.206413%5D%2C%20%5B39.738592%2C%20-76.660686%5D%2C%20%5B38.790782%2C%20-77.164374%5D%2C%20%5B27.530054%2C%20-82.507992%5D%2C%20%5B38.606419%2C%20-76.629547%5D%2C%20%5B36.847642%2C%20-76.012337%5D%2C%20%5B30.167505%2C%20-97.793108%5D%2C%20%5B46.44338%2C%20-94.3023%5D%2C%20%5B38.566229%2C%20-85.778965%5D%2C%20%5B39.65733%2C%20-104.92042%5D%2C%20%5B33.929373%2C%20-118.36826299999998%5D%2C%20%5B47.990011%2C%20-115.765859%5D%2C%20%5B36.706926%2C%20-119.758557%5D%2C%20%5B33.148444%2C%20-81.266223%5D%2C%20%5B45.744892%2C%20-111.082062%5D%2C%20%5B34.557472%2C%20-118.132263%5D%2C%20%5B25.99625%2C%20-80.166234%5D%2C%20%5B36.204985%2C%20-86.742313%5D%2C%20%5B41.79564%2C%20-87.82693%5D%2C%20%5B32.7382%2C%20-97.45127%5D%2C%20%5B35.41309000000001%2C%20-80.85874%5D%2C%20%5B45.073417%2C%20-93.316465%5D%2C%20%5B33.029733%2C%20-80.244648%5D%2C%20%5B39.025084%2C%20-77.391814%5D%2C%20%5B33.477271%2C%20-80.81658399999998%5D%2C%20%5B39.9849%2C%20-75.932502%5D%2C%20%5B33.6766%2C%20-112.11288%5D%2C%20%5B40.73971%2C%20-74.069276%5D%2C%20%5B34.062832%2C%20-118.248811%5D%2C%20%5B30.112792%2C%20-97.784848%5D%2C%20%5B42.36435%2C%20-83.21635%5D%2C%20%5B41.539895%2C%20-121.153019%5D%2C%20%5B34.683083%2C%20-118.165048%5D%2C%20%5B35.2768%2C%20-80.80864%5D%2C%20%5B36.843623%2C%20-76.134411%5D%2C%20%5B35.909181%2C%20-86.874634%5D%2C%20%5B44.77514%2C%20-123.04254%5D%2C%20%5B38.971992%2C%20-77.178901%5D%2C%20%5B35.001822%2C%20-120.5705%5D%2C%20%5B25.890334%2C%20-80.185466%5D%2C%20%5B25.86038%2C%20-80.227918%5D%2C%20%5B28.796534%2C%20-81.35415400000002%5D%2C%20%5B44.85857%2C%20-120.925622%5D%2C%20%5B33.735818%2C%20-117.819731%5D%2C%20%5B27.901038%2C%20-82.401735%5D%2C%20%5B40.634583%2C%20-91.516513%5D%2C%20%5B40.21961%2C%20-111.10414%5D%2C%20%5B34.294533%2C%20-119.147914%5D%2C%20%5B38.19552%2C%20-86.99063000000002%5D%2C%20%5B45.396294%2C%20-122.251875%5D%2C%20%5B26.572174%2C%20-80.069604%5D%2C%20%5B40.081341%2C%20-75.37560500000002%5D%2C%20%5B45.0189%2C%20-117.92196%5D%2C%20%5B25.925515%2C%20-80.171996%5D%2C%20%5B38.69589000000001%2C%20-121.954655%5D%2C%20%5B39.027496%2C%20-122.015968%5D%2C%20%5B40.13908%2C%20-76.222403%5D%2C%20%5B40.644949%2C%20-74.017609%5D%2C%20%5B37.45833%2C%20-122.143532%5D%2C%20%5B32.710945%2C%20-81.260765%5D%2C%20%5B38.905624%2C%20-77.008999%5D%2C%20%5B38.256075%2C%20-122.303134%5D%2C%20%5B28.452939%2C%20-81.400159%5D%2C%20%5B43.59450800000001%2C%20-116.3745%5D%2C%20%5B34.150418%2C%20-118.280711%5D%2C%20%5B39.084746%2C%20-120.15986200000002%5D%2C%20%5B34.86620300000001%2C%20-82.33211999999997%5D%2C%20%5B45.50711%2C%20-122.77326%5D%2C%20%5B33.126984%2C%20-117.105337%5D%2C%20%5B40.725866%2C%20-73.514554%5D%2C%20%5B37.97446400000001%2C%20-120.346017%5D%2C%20%5B47.569475%2C%20-114.871704%5D%2C%20%5B33.99127%2C%20-117.888878%5D%2C%20%5B37.21302100000001%2C%20-121.726573%5D%2C%20%5B38.345395%2C%20-77.486703%5D%2C%20%5B39.01652%2C%20-77.021569%5D%2C%20%5B39.93353%2C%20-74.96386%5D%2C%20%5B28.309753000000004%2C%20-82.699901%5D%2C%20%5B35.60974%2C%20-97.54957%5D%2C%20%5B42.478327%2C%20-87.854005%5D%2C%20%5B34.10539%2C%20-81.186791%5D%2C%20%5B33.503321%2C%20-86.59869599999998%5D%2C%20%5B45.34344%2C%20-118.120805%5D%2C%20%5B29.646191%2C%20-98.201127%5D%2C%20%5B33.876536%2C%20-118.082241%5D%2C%20%5B38.816765%2C%20-120.02793%5D%2C%20%5B36.20820300000001%2C%20-86.76741%5D%2C%20%5B37.26302%2C%20-121.85869%5D%2C%20%5B29.811467%2C%20-95.390736%5D%2C%20%5B33.821849%2C%20-79.70611600000002%5D%2C%20%5B32.89351%2C%20-117.21204%5D%2C%20%5B36.058626%2C%20-79.64240699999998%5D%2C%20%5B43.909586%2C%20-116.818909%5D%2C%20%5B44.902673%2C%20-93.198988%5D%2C%20%5B38.71547%2C%20-76.84895999999998%5D%2C%20%5B29.863739%2C%20-81.344131%5D%2C%20%5B36.09506%2C%20-115.18087%5D%2C%20%5B25.777544%2C%20-80.33675%5D%2C%20%5B28.062103000000004%2C%20-82.503952%5D%2C%20%5B34.003723%2C%20-118.286669%5D%2C%20%5B42.69199%2C%20-87.95352%5D%2C%20%5B33.122674%2C%20-111.845465%5D%2C%20%5B28.597449%2C%20-81.235732%5D%2C%20%5B33.99313%2C%20-118.282686%5D%2C%20%5B34.550081%2C%20-79.203518%5D%2C%20%5B40.799824%2C%20-73.929906%5D%2C%20%5B41.007179%2C%20-76.548855%5D%2C%20%5B25.597892%2C%20-80.374571%5D%2C%20%5B40.117141%2C%20-75.350099%5D%2C%20%5B40.82539000000001%2C%20-73.33865%5D%2C%20%5B38.238117%2C%20-122.620272%5D%2C%20%5B27.698012%2C%20-80.900014%5D%2C%20%5B45.372322%2C%20-122.590845%5D%2C%20%5B38.164099%2C%20-122.20798%5D%2C%20%5B32.776055%2C%20-96.68264%5D%2C%20%5B33.976174%2C%20-118.386601%5D%2C%20%5B40.34077%2C%20-74.10369%5D%2C%20%5B38.554211%2C%20-121.689451%5D%2C%20%5B36.720445%2C%20-80.610455%5D%2C%20%5B38.23965%2C%20-86.128008%5D%2C%20%5B33.562694%2C%20-112.115932%5D%2C%20%5B41.101094%2C%20-73.973045%5D%2C%20%5B42.207775%2C%20-121.787914%5D%2C%20%5B41.34137%2C%20-81.81748%5D%2C%20%5B38.775211%2C%20-77.26304300000002%5D%2C%20%5B39.627924%2C%20-77.775035%5D%2C%20%5B38.324114%2C%20-77.502149%5D%2C%20%5B34.136098%2C%20-79.724059%5D%2C%20%5B28.451531%2C%20-81.400598%5D%2C%20%5B38.410757%2C%20-121.240633%5D%2C%20%5B38.524993%2C%20-121.463073%5D%2C%20%5B41.786632%2C%20-87.90813%5D%2C%20%5B44.471358%2C%20-117.338393%5D%2C%20%5B38.947316%2C%20-76.835213%5D%2C%20%5B40.069265%2C%20-122.200482%5D%2C%20%5B39.191861%2C%20-121.007323%5D%2C%20%5B33.09447%2C%20-117.0845%5D%2C%20%5B34.07074%2C%20-81.14567%5D%2C%20%5B32.669144%2C%20-97.233735%5D%2C%20%5B41.79669000000001%2C%20-87.81414000000002%5D%2C%20%5B32.997086%2C%20-96.866215%5D%2C%20%5B27.75553%2C%20-82.705188%5D%2C%20%5B37.88444000000001%2C%20-111.45782%5D%2C%20%5B47.542641%2C%20-122.33465%5D%2C%20%5B35.890497%2C%20-90.589359%5D%2C%20%5B44.95623%2C%20-93.1924%5D%2C%20%5B25.928134%2C%20-80.293253%5D%2C%20%5B47.53706%2C%20-122.27813%5D%2C%20%5B42.38999%2C%20-83.21786999999998%5D%2C%20%5B40.276801%2C%20-85.506485%5D%2C%20%5B36.338964%2C%20-78.426082%5D%2C%20%5B25.557661%2C%20-80.390073%5D%2C%20%5B33.694492%2C%20-85.091184%5D%2C%20%5B35.2125%2C%20-80.85869%5D%2C%20%5B38.801983%2C%20-77.08865%5D%2C%20%5B45.433081%2C%20-122.56642%5D%2C%20%5B25.64384%2C%20-80.33403%5D%2C%20%5B33.970986%2C%20-117.080898%5D%2C%20%5B33.349229%2C%20-111.89569%5D%2C%20%5B32.871986%2C%20-96.77035%5D%2C%20%5B34.099963%2C%20-80.958198%5D%2C%20%5B34.068699%2C%20-117.363249%5D%2C%20%5B34.1249%2C%20-117.692%5D%2C%20%5B34.28286%2C%20-119.150242%5D%2C%20%5B42.990853%2C%20-85.59062800000002%5D%2C%20%5B41.121102%2C%20-73.32847%5D%2C%20%5B44.339436%2C%20-92.634733%5D%2C%20%5B42.655931%2C%20-84.19240500000002%5D%2C%20%5B40.864167%2C%20-111.900095%5D%2C%20%5B34.239069%2C%20-117.233945%5D%2C%20%5B27.446334000000004%2C%20-82.49815699999998%5D%2C%20%5B37.804141%2C%20-122.277275%5D%2C%20%5B45.836794%2C%20-111.694365%5D%2C%20%5B34.066884%2C%20-117.511589%5D%2C%20%5B33.81028%2C%20-118.15894%5D%2C%20%5B28.577621%2C%20-81.491155%5D%2C%20%5B32.186982%2C%20-110.968277%5D%2C%20%5B38.395354%2C%20-122.869452%5D%2C%20%5B42.99208%2C%20-91.82392%5D%2C%20%5B39.018448%2C%20-76.921838%5D%2C%20%5B40.752268%2C%20-75.454971%5D%2C%20%5B39.99883%2C%20-83.11811%5D%2C%20%5B33.89736%2C%20-117.479177%5D%2C%20%5B34.233439000000004%2C%20-118.409792%5D%2C%20%5B37.397951%2C%20-77.344311%5D%2C%20%5B42.27227%2C%20-122.80564%5D%2C%20%5B40.37384%2C%20-74.46394000000002%5D%2C%20%5B41.10715%2C%20-76.76816%5D%2C%20%5B40.836247%2C%20-73.872603%5D%2C%20%5B33.929475%2C%20-118.246243%5D%2C%20%5B38.159681%2C%20-121.685485%5D%2C%20%5B30.457735%2C%20-91.064563%5D%2C%20%5B29.80643%2C%20-95.44534%5D%2C%20%5B40.071254%2C%20-75.133604%5D%2C%20%5B30.385863%2C%20-87.092678%5D%2C%20%5B28.4493%2C%20-81.477791%5D%2C%20%5B32.920590000000004%2C%20-96.75061%5D%2C%20%5B27.9654%2C%20-82.42026%5D%2C%20%5B33.972891%2C%20-118.168033%5D%2C%20%5B33.42118%2C%20-112.78138%5D%2C%20%5B34.070983%2C%20-117.523977%5D%2C%20%5B34.069131%2C%20-118.259345%5D%2C%20%5B40.745877%2C%20-73.836246%5D%2C%20%5B33.736878999999995%2C%20-117.823264%5D%2C%20%5B33.688855%2C%20-117.870659%5D%2C%20%5B39.790282%2C%20-84.190061%5D%2C%20%5B34.784188%2C%20-82.404351%5D%2C%20%5B37.711985%2C%20-121.513003%5D%2C%20%5B33.870016%2C%20-117.670663%5D%2C%20%5B38.59569000000001%2C%20-121.41546%5D%2C%20%5B39.88456%2C%20-75.1035%5D%2C%20%5B30.490727000000003%2C%20-97.803381%5D%2C%20%5B34.581813000000004%2C%20-82.686136%5D%2C%20%5B31.712485%2C%20-83.637914%5D%2C%20%5B42.598124%2C%20-86.217602%5D%2C%20%5B45.427861%2C%20-122.57841%5D%2C%20%5B47.58663%2C%20-122.17931000000002%5D%2C%20%5B41.34137%2C%20-81.81748%5D%2C%20%5B39.978182%2C%20-76.759114%5D%2C%20%5B45.13012%2C%20-93.39079%5D%2C%20%5B36.764692%2C%20-119.83407%5D%2C%20%5B35.256051%2C%20-118.92209%5D%2C%20%5B33.94004%2C%20-84.15463000000003%5D%2C%20%5B33.853651%2C%20-117.974098%5D%2C%20%5B42.267826%2C%20-79.73446%5D%2C%20%5B34.019690000000004%2C%20-117.50711%5D%2C%20%5B41.026511%2C%20-76.423024%5D%2C%20%5B34.989556%2C%20-85.203427%5D%2C%20%5B43.09806%2C%20-76.13956999999998%5D%2C%20%5B25.880626%2C%20-80.355278%5D%2C%20%5B33.7971%2C%20-84.48744%5D%2C%20%5B30.166487%2C%20-97.692374%5D%2C%20%5B32.806914%2C%20-96.791941%5D%2C%20%5B41.79931%2C%20-87.63088%5D%2C%20%5B41.702212%2C%20-72.805079%5D%2C%20%5B28.96073%2C%20-82.12416999999998%5D%2C%20%5B34.042949%2C%20-118.272635%5D%2C%20%5B44.329113%2C%20-121.176499%5D%2C%20%5B44.93521%2C%20-95.76903%5D%2C%20%5B39.170158%2C%20-120.141958%5D%2C%20%5B44.05868%2C%20-93.26743%5D%2C%20%5B41.422905%2C%20-78.726966%5D%2C%20%5B36.992715%2C%20-120.074161%5D%2C%20%5B30.369924%2C%20-91.079628%5D%2C%20%5B28.436768%2C%20-81.404486%5D%2C%20%5B42.47727%2C%20-83.19491%5D%2C%20%5B28.69334000000001%2C%20-81.38875999999998%5D%2C%20%5B33.647021%2C%20-81.750783%5D%2C%20%5B39.749668%2C%20-76.02193299999998%5D%2C%20%5B32.813210999999995%2C%20-96.648219%5D%2C%20%5B34.154616%2C%20-118.272424%5D%2C%20%5B33.900461%2C%20-98.544369%5D%2C%20%5B39.914607%2C%20-75.924966%5D%2C%20%5B33.759032%2C%20-117.860486%5D%2C%20%5B28.57787%2C%20-81.45148%5D%2C%20%5B33.66959%2C%20-112.15998%5D%2C%20%5B43.097894%2C%20-75.23275%5D%2C%20%5B32.313569%2C%20-111.21815%5D%2C%20%5B41.288295%2C%20-72.529012%5D%2C%20%5B47.0999%2C%20-122.607421%5D%2C%20%5B37.33907%2C%20-121.85129%5D%2C%20%5B32.933038%2C%20-96.901661%5D%2C%20%5B39.01708%2C%20-77.10181999999998%5D%2C%20%5B26.666961%2C%20-82.03996500000002%5D%2C%20%5B41.160784%2C%20-78.66633%5D%2C%20%5B40.70719%2C%20-74.33816%5D%2C%20%5B33.340246%2C%20-111.848983%5D%2C%20%5B34.218522%2C%20-118.240026%5D%2C%20%5B45.12764%2C%20-117.963777%5D%2C%20%5B26.76417%2C%20-80.09335%5D%2C%20%5B27.821772%2C%20-82.66938499999998%5D%2C%20%5B45.054152%2C%20-123.081488%5D%2C%20%5B28.753033%2C%20-81.266974%5D%2C%20%5B39.60465%2C%20-77.729033%5D%2C%20%5B39.957712%2C%20-75.161542%5D%2C%20%5B36.671534%2C%20-119.733515%5D%2C%20%5B37.82617%2C%20-122.27674%5D%2C%20%5B38.675818%2C%20-121.952104%5D%2C%20%5B35.86030200000001%2C%20-78.55011800000003%5D%2C%20%5B33.166048%2C%20-117.205496%5D%2C%20%5B37.77129%2C%20-122.40853%5D%2C%20%5B40.98784000000001%2C%20-73.67647%5D%2C%20%5B33.490855%2C%20-117.285743%5D%2C%20%5B37.762833%2C%20-122.392567%5D%2C%20%5B37.993963%2C%20-122.29718%5D%2C%20%5B37.492952%2C%20-120.994108%5D%2C%20%5B39.530464%2C%20-77.422647%5D%2C%20%5B30.0405%2C%20-95.42978%5D%2C%20%5B37.741386%2C%20-120.917877%5D%2C%20%5B43.016892%2C%20-78.25680600000003%5D%2C%20%5B40.682237%2C%20-111.902188%5D%2C%20%5B42.175423%2C%20-124.358397%5D%2C%20%5B36.523129%2C%20-121.46108999999998%5D%2C%20%5B33.994091%2C%20-118.012915%5D%2C%20%5B33.930501%2C%20-118.211649%5D%2C%20%5B28.552634%2C%20-81.445661%5D%2C%20%5B30.353681%2C%20-97.525333%5D%2C%20%5B34.991857%2C%20-120.513972%5D%2C%20%5B28.667706%2C%20-80.878609%5D%2C%20%5B32.94703%2C%20-96.90598%5D%2C%20%5B25.88937%2C%20-80.16745300000002%5D%2C%20%5B34.378757%2C%20-118.565381%5D%2C%20%5B38.42715%2C%20-122.340678%5D%2C%20%5B44.24055%2C%20-92.6504%5D%2C%20%5B25.686142%2C%20-80.394737%5D%2C%20%5B41.354546%2C%20-85.424593%5D%2C%20%5B26.964340000000004%2C%20-82.353015%5D%2C%20%5B42.783797%2C%20-117.773448%5D%2C%20%5B27.143858%2C%20-80.373366%5D%2C%20%5B42.924079%2C%20-78.898876%5D%2C%20%5B33.972555%2C%20-118.079507%5D%2C%20%5B33.1177%2C%20-117.31924%5D%2C%20%5B25.85487%2C%20-80.19511999999997%5D%2C%20%5B37.182248%2C%20-93.295002%5D%2C%20%5B39.232188%2C%20-76.64934699999998%5D%2C%20%5B39.114561%2C%20-121.634749%5D%2C%20%5B33.846528%2C%20-118.270567%5D%2C%20%5B38.233809%2C%20-122.618007%5D%2C%20%5B25.898334%2C%20-80.20992700000002%5D%2C%20%5B38.22718%2C%20-85.75168000000002%5D%2C%20%5B41.731672%2C%20-87.815822%5D%2C%20%5B39.523218%2C%20-121.688765%5D%2C%20%5B41.58258%2C%20-90.366385%5D%2C%20%5B39.488251%2C%20-105.35785%5D%2C%20%5B46.25969600000001%2C%20-106.805408%5D%2C%20%5B34.085135%2C%20-117.300902%5D%2C%20%5B37.12582%2C%20-113.20626%5D%2C%20%5B34.615368%2C%20-86.970586%5D%2C%20%5B37.84828%2C%20-122.02786%5D%2C%20%5B33.687765%2C%20-117.909789%5D%2C%20%5B33.892721%2C%20-118.188191%5D%2C%20%5B37.660328%2C%20-120.875326%5D%2C%20%5B32.85371%2C%20-96.56198%5D%2C%20%5B37.680519%2C%20-113.575769%5D%2C%20%5B45.09405%2C%20-123.37835%5D%2C%20%5B36.72849%2C%20-119.79632%5D%2C%20%5B40.034889%2C%20-76.304186%5D%2C%20%5B40.73634000000001%2C%20-73.85621%5D%2C%20%5B32.778586%2C%20-97.320351%5D%2C%20%5B41.77834%2C%20-87.63043%5D%2C%20%5B44.89060300000001%2C%20-93.271849%5D%2C%20%5B44.06102%2C%20-123.02017%5D%2C%20%5B39.762%2C%20-105.02516%5D%2C%20%5B40.28164%2C%20-111.724358%5D%2C%20%5B28.566775%2C%20-81.207551%5D%2C%20%5B44.08638%2C%20-123.04663%5D%2C%20%5B38.656483%2C%20-120.954447%5D%2C%20%5B39.125975%2C%20-121.07751%5D%2C%20%5B38.64638400000001%2C%20-121.377512%5D%2C%20%5B39.051303%2C%20-94.366201%5D%2C%20%5B35.341961%2C%20-81.93737800000002%5D%2C%20%5B44.973381%2C%20-93.293355%5D%2C%20%5B34.148308%2C%20-118.469593%5D%2C%20%5B30.444965000000003%2C%20-97.78141%5D%2C%20%5B39.082623%2C%20-77.94294000000002%5D%2C%20%5B40.044294%2C%20-76.51325200000002%5D%2C%20%5B33.87628%2C%20-118.12594%5D%2C%20%5B33.660173%2C%20-117.383515%5D%2C%20%5B36.541679%2C%20-121.908394%5D%2C%20%5B43.041891%2C%20-77.462572%5D%2C%20%5B43.876336%2C%20-123.027573%5D%2C%20%5B32.786411%2C%20-97.462817%5D%2C%20%5B34.043132%2C%20-118.217178%5D%2C%20%5B45.552481%2C%20-122.185381%5D%2C%20%5B38.66073%2C%20-121.32736%5D%2C%20%5B44.03176%2C%20-117.003108%5D%2C%20%5B35.05105%2C%20-80.76961%5D%2C%20%5B40.737701%2C%20-73.851996%5D%2C%20%5B38.674739%2C%20-77.23385400000002%5D%2C%20%5B35.38568%2C%20-118.98818%5D%2C%20%5B42.359489%2C%20-83.07628000000003%5D%2C%20%5B38.15162%2C%20-122.44726%5D%2C%20%5B26.652504%2C%20-81.818159%5D%2C%20%5B42.49641%2C%20-83.35094000000002%5D%2C%20%5B25.90944%2C%20-80.237814%5D%2C%20%5B33.960014%2C%20-118.280502%5D%2C%20%5B38.650761%2C%20-77.291583%5D%2C%20%5B33.842536%2C%20-117.830289%5D%2C%20%5B34.074283%2C%20-118.272159%5D%2C%20%5B35.40482%2C%20-80.84125999999998%5D%2C%20%5B37.700892%2C%20-121.822675%5D%2C%20%5B41.8777%2C%20-87.64545%5D%2C%20%5B40.248917%2C%20-75.66547%5D%2C%20%5B39.205528%2C%20-78.135894%5D%2C%20%5B39.464499%2C%20-119.786462%5D%2C%20%5B30.477371999999995%2C%20-81.644715%5D%2C%20%5B32.752849%2C%20-117.064502%5D%2C%20%5B35.309186%2C%20-80.718672%5D%2C%20%5B28.395377000000003%2C%20-81.4045%5D%2C%20%5B34.277838%2C%20-118.604774%5D%2C%20%5B33.725716%2C%20-78.871523%5D%2C%20%5B34.000538%2C%20-81.109548%5D%2C%20%5B41.78989%2C%20-72.65634%5D%2C%20%5B41.094869%2C%20-73.802544%5D%2C%20%5B35.599002%2C%20-82.533606%5D%2C%20%5B44.09726%2C%20-123.1114%5D%2C%20%5B37.949781%2C%20-79.21206600000002%5D%2C%20%5B45.493106%2C%20-122.673576%5D%2C%20%5B33.89613%2C%20-84.25163%5D%2C%20%5B25.857672%2C%20-80.209478%5D%2C%20%5B33.806868%2C%20-118.28432%5D%2C%20%5B26.114507%2C%20-80.31324000000002%5D%2C%20%5B34.135681%2C%20-117.376509%5D%2C%20%5B44.372147%2C%20-94.002824%5D%2C%20%5B35.038652%2C%20-85.292716%5D%2C%20%5B34.800976%2C%20-92.37383%5D%2C%20%5B27.896056%2C%20-82.33971899999997%5D%2C%20%5B32.473318%2C%20-90.148677%5D%2C%20%5B32.78005%2C%20-117.09638%5D%2C%20%5B40.309256%2C%20-76.595427%5D%2C%20%5B26.188228%2C%20-80.152108%5D%2C%20%5B38.07915300000001%2C%20-78.984954%5D%2C%20%5B32.36262%2C%20-90.23146%5D%2C%20%5B25.884618%2C%20-80.122495%5D%2C%20%5B29.74601%2C%20-95.36544%5D%2C%20%5B39.496761%2C%20-119.783924%5D%2C%20%5B32.513646%2C%20-93.747161%5D%2C%20%5B28.552632%2C%20-81.445926%5D%2C%20%5B33.385670000000005%2C%20-111.882094%5D%2C%20%5B32.798320000000004%2C%20-96.79315%5D%2C%20%5B33.82264%2C%20-118.19736%5D%2C%20%5B37.36753%2C%20-121.90718%5D%2C%20%5B44.771157%2C%20-93.888511%5D%2C%20%5B33.960901%2C%20-117.313601%5D%2C%20%5B29.455855%2C%20-98.326399%5D%2C%20%5B35.25125999999999%2C%20-80.89443%5D%2C%20%5B44.99181%2C%20-93.08916%5D%2C%20%5B37.517859%2C%20-77.201578%5D%2C%20%5B29.994874%2C%20-90.06379100000002%5D%2C%20%5B37.47224%2C%20-77.45529%5D%2C%20%5B37.58719%2C%20-122.348395%5D%2C%20%5B34.047049%2C%20-118.268069%5D%2C%20%5B40.570567%2C%20-74.25289000000002%5D%2C%20%5B38.950256%2C%20-121.677693%5D%2C%20%5B35.804743%2C%20-78.715099%5D%2C%20%5B30.44363400000001%2C%20-91.07693%5D%2C%20%5B35.020270000000004%2C%20-85.29654000000002%5D%2C%20%5B35.105631%2C%20-106.64503899999998%5D%2C%20%5B45.469934%2C%20-122.68316000000002%5D%2C%20%5B44.12229%2C%20-121.28641%5D%2C%20%5B37.689735%2C%20-77.178063%5D%2C%20%5B39.24483%2C%20-76.57745%5D%2C%20%5B25.512004%2C%20-80.404317%5D%2C%20%5B34.07703%2C%20-117.81294%5D%2C%20%5B35.21876599999999%2C%20-120.694545%5D%2C%20%5B28.54638%2C%20-81.24422%5D%2C%20%5B46.09999000000001%2C%20-122.996655%5D%2C%20%5B42.57746%2C%20-123.374052%5D%2C%20%5B35.99932000000001%2C%20-79.107288%5D%2C%20%5B28.062975%2C%20-82.738764%5D%2C%20%5B44.713958%2C%20-93.283807%5D%2C%20%5B33.92922%2C%20-84.35777%5D%2C%20%5B28.087966%2C%20-82.461412%5D%2C%20%5B37.9231%2C%20-122.51297%5D%2C%20%5B32.960124%2C%20-96.80443%5D%2C%20%5B28.281417%2C%20-81.424255%5D%2C%20%5B35.115171000000004%2C%20-118.186171%5D%2C%20%5B39.93733%2C%20-74.96077%5D%2C%20%5B39.812082%2C%20-86.178957%5D%2C%20%5B25.810374%2C%20-80.14715100000002%5D%2C%20%5B40.80435%2C%20-73.28715%5D%2C%20%5B34.170253%2C%20-118.304446%5D%2C%20%5B33.877248%2C%20-118.140182%5D%2C%20%5B41.222321%2C%20-96.071169%5D%2C%20%5B33.57734%2C%20-117.18083%5D%2C%20%5B40.7662%2C%20-73.891253%5D%2C%20%5B37.560406%2C%20-122.035301%5D%2C%20%5B30.26678%2C%20-97.783868%5D%2C%20%5B39.893853%2C%20-76.644868%5D%2C%20%5B39.19056%2C%20-112.195117%5D%2C%20%5B32.363826%2C%20-111.123225%5D%2C%20%5B37.373166%2C%20-121.925839%5D%2C%20%5B30.423417%2C%20-84.17263100000002%5D%2C%20%5B29.966382%2C%20-90.03881700000002%5D%2C%20%5B34.063038%2C%20-117.195887%5D%2C%20%5B25.903343%2C%20-80.21027%5D%2C%20%5B41.526887%2C%20-73.956354%5D%2C%20%5B25.934379%2C%20-80.200766%5D%2C%20%5B37.826286%2C%20-122.275096%5D%2C%20%5B40.187513%2C%20-75.277513%5D%2C%20%5B34.072254%2C%20-117.907778%5D%2C%20%5B41.673814%2C%20-93.577712%5D%2C%20%5B29.726732%2C%20-95.41861%5D%2C%20%5B38.547384%2C%20-120.307736%5D%2C%20%5B27.43595%2C%20-82.45966999999997%5D%2C%20%5B37.568082%2C%20-121.896017%5D%2C%20%5B39.64415%2C%20-84.23301%5D%2C%20%5B42.53584%2C%20-83.76932%5D%2C%20%5B40.662267%2C%20-74.20689200000002%5D%2C%20%5B35.12225%2C%20-85.343461%5D%2C%20%5B37.608711%2C%20-122.068184%5D%2C%20%5B45.4494%2C%20-122.72936%5D%2C%20%5B39.869002%2C%20-75.10069200000002%5D%2C%20%5B44.38842%2C%20-91.00574%5D%2C%20%5B25.749454%2C%20-80.335813%5D%2C%20%5B34.134715%2C%20-117.34598%5D%2C%20%5B33.91179%2C%20-117.44708%5D%2C%20%5B35.95381%2C%20-78.569761%5D%2C%20%5B26.622604%2C%20-80.067305%5D%2C%20%5B40.058347%2C%20-75.117328%5D%2C%20%5B37.885961%2C%20-79.55712199999998%5D%2C%20%5B32.778647%2C%20-96.857069%5D%2C%20%5B42.383548%2C%20-83.21759%5D%2C%20%5B37.64889%2C%20-121.02004%5D%2C%20%5B39.218477%2C%20-76.726895%5D%2C%20%5B48.40236%2C%20-93.02377%5D%2C%20%5B36.961229%2C%20-76.263424%5D%2C%20%5B42.337011%2C%20-88.03218299999996%5D%2C%20%5B33.690328%2C%20-117.625897%5D%2C%20%5B29.960829%2C%20-90.076392%5D%2C%20%5B45.72219000000001%2C%20-120.20268%5D%2C%20%5B34.299383%2C%20-118.41933600000002%5D%2C%20%5B47.23315%2C%20-122.434956%5D%2C%20%5B45.372322%2C%20-122.590845%5D%2C%20%5B38.092341%2C%20-122.559088%5D%2C%20%5B40.349407%2C%20-75.390061%5D%2C%20%5B26.11857%2C%20-80.3352%5D%2C%20%5B32.668782%2C%20-96.781582%5D%2C%20%5B34.148542%2C%20-118.067704%5D%2C%20%5B34.00571%2C%20-118.41349%5D%2C%20%5B33.462540000000004%2C%20-112.47129%5D%2C%20%5B33.891814000000004%2C%20-118.043778%5D%2C%20%5B32.352990000000005%2C%20-111.08353%5D%2C%20%5B33.953291%2C%20-118.254002%5D%2C%20%5B41.200797%2C%20-73.193031%5D%2C%20%5B29.956751%2C%20-90.106124%5D%2C%20%5B34.03062%2C%20-117.62021%5D%2C%20%5B30.291567%2C%20-85.64568299999998%5D%2C%20%5B36.234165%2C%20-86.720355%5D%2C%20%5B44.923414%2C%20-93.349289%5D%2C%20%5B25.647588%2C%20-80.334227%5D%2C%20%5B40.601801%2C%20-75.554879%5D%2C%20%5B40.13664%2C%20-74.96269000000002%5D%2C%20%5B39.823249%2C%20-104.982192%5D%2C%20%5B35.898159%2C%20-120.051244%5D%2C%20%5B40.60177%2C%20-74.06107%5D%2C%20%5B39.442201%2C%20-76.358242%5D%2C%20%5B37.852553%2C%20-77.455127%5D%2C%20%5B39.119392%2C%20-94.564384%5D%2C%20%5B38.623992%2C%20-76.913276%5D%2C%20%5B42.19683%2C%20-87.88625%5D%2C%20%5B35.924002%2C%20-84.06358900000002%5D%2C%20%5B35.036505%2C%20-118.352161%5D%2C%20%5B36.0823%2C%20-79.96484%5D%2C%20%5B38.13815%2C%20-85.70730999999998%5D%2C%20%5B30.027877%2C%20-95.839673%5D%2C%20%5B33.182114%2C%20-117.322332%5D%2C%20%5B34.095804%2C%20-117.846375%5D%2C%20%5B40.097192%2C%20-75.390982%5D%2C%20%5B34.274181%2C%20-83.86293%5D%2C%20%5B30.4762%2C%20-87.323667%5D%2C%20%5B40.685774%2C%20-95.780686%5D%2C%20%5B25.701238%2C%20-80.334038%5D%2C%20%5B34.03758%2C%20-118.2824%5D%2C%20%5B27.922731%2C%20-82.35649699999998%5D%2C%20%5B40.024985%2C%20-74.96225%5D%2C%20%5B35.847598%2C%20-78.68036%5D%2C%20%5B38.754142%2C%20-121.264051%5D%2C%20%5B48.087637%2C%20-114.083986%5D%2C%20%5B33.991728%2C%20-80.97991400000002%5D%2C%20%5B38.853883%2C%20-77.169708%5D%2C%20%5B27.71242%2C%20-82.351957%5D%2C%20%5B33.593337%2C%20-86.802295%5D%2C%20%5B25.688161%2C%20-80.33259699999998%5D%2C%20%5B43.925896%2C%20-91.614558%5D%2C%20%5B34.035340000000005%2C%20-118.32982%5D%2C%20%5B35.41970300000001%2C%20-119.012848%5D%2C%20%5B33.027755%2C%20-80.123026%5D%2C%20%5B25.78235%2C%20-80.23083000000003%5D%2C%20%5B32.881782%2C%20-80.01883199999997%5D%2C%20%5B32.93502%2C%20-96.75207%5D%2C%20%5B30.00843%2C%20-90.22392%5D%2C%20%5B28.463412%2C%20-81.468296%5D%2C%20%5B37.701161%2C%20-121.85436599999998%5D%2C%20%5B25.899987%2C%20-80.161937%5D%2C%20%5B25.442656%2C%20-80.483284%5D%2C%20%5B30.74778400000001%2C%20-86.297487%5D%2C%20%5B40.326986%2C%20-75.34372900000002%5D%2C%20%5B37.701376%2C%20-121.883343%5D%2C%20%5B33.442791%2C%20-117.628173%5D%2C%20%5B29.59357%2C%20-95.468118%5D%2C%20%5B33.99336%2C%20-118.06914%5D%2C%20%5B38.378999%2C%20-120.802636%5D%2C%20%5B33.96304600000001%2C%20-117.377396%5D%2C%20%5B27.793708%2C%20-82.679562%5D%2C%20%5B33.91953%2C%20-84.33372%5D%2C%20%5B34.038143%2C%20-118.25418700000002%5D%2C%20%5B39.701819%2C%20-105.85021%5D%2C%20%5B35.410376%2C%20-78.415373%5D%2C%20%5B34.07887%2C%20-118.21998%5D%2C%20%5B32.08251%2C%20-82.359521%5D%2C%20%5B38.93647%2C%20-90.75031%5D%2C%20%5B40.84478%2C%20-73.90484000000002%5D%2C%20%5B45.5693%2C%20-92.99194%5D%2C%20%5B29.751%2C%20-95.35746%5D%2C%20%5B40.073412%2C%20-75.144209%5D%2C%20%5B29.831553000000003%2C%20-95.563283%5D%2C%20%5B37.26645%2C%20-121.94846%5D%2C%20%5B25.735688%2C%20-80.335859%5D%2C%20%5B30.50702%2C%20-91.17114%5D%2C%20%5B28.53592%2C%20-81.3776%5D%2C%20%5B37.39485300000001%2C%20-122.009536%5D%2C%20%5B32.884708%2C%20-83.773616%5D%2C%20%5B34.935484%2C%20-81.990112%5D%2C%20%5B40.437695%2C%20-80.003781%5D%2C%20%5B32.764395%2C%20-117.205334%5D%2C%20%5B35.290326%2C%20-118.747524%5D%2C%20%5B37.891114%2C%20-122.14113799999998%5D%2C%20%5B32.231681%2C%20-110.959469%5D%2C%20%5B35.120276000000004%2C%20-85.289043%5D%2C%20%5B46.27162%2C%20-120.40125%5D%2C%20%5B40.39354%2C%20-111.83677%5D%2C%20%5B39.980576%2C%20-75.20599399999998%5D%2C%20%5B37.962452%2C%20-122.05388899999998%5D%2C%20%5B37.97277%2C%20-122.3195%5D%2C%20%5B45.117541%2C%20-123.206218%5D%2C%20%5B32.424076%2C%20-93.712006%5D%2C%20%5B39.001764%2C%20-77.077063%5D%2C%20%5B33.981909%2C%20-117.907727%5D%2C%20%5B33.964823%2C%20-118.120375%5D%2C%20%5B44.459003%2C%20-94.717296%5D%2C%20%5B37.01027%2C%20-113.01498%5D%2C%20%5B36.530909%2C%20-120.097876%5D%2C%20%5B30.404543%2C%20-97.640566%5D%2C%20%5B44.10074%2C%20-91.064961%5D%2C%20%5B35.65109%2C%20-82.58293%5D%2C%20%5B41.981333%2C%20-87.952004%5D%2C%20%5B40.07929%2C%20-75.37849399999998%5D%2C%20%5B41.06179%2C%20-81.54623000000002%5D%2C%20%5B33.871801%2C%20-117.686834%5D%2C%20%5B33.655348%2C%20-117.371013%5D%2C%20%5B34.066232%2C%20-81.026948%5D%2C%20%5B26.58955%2C%20-80.14725%5D%2C%20%5B29.78419%2C%20-95.03383%5D%2C%20%5B28.401562%2C%20-81.42499000000002%5D%2C%20%5B33.924892%2C%20-118.020196%5D%2C%20%5B28.643742%2C%20-81.239138%5D%2C%20%5B40.706849%2C%20-74.18164399999998%5D%2C%20%5B38.867548%2C%20-77.31554799999998%5D%2C%20%5B43.011871%2C%20-83.659032%5D%2C%20%5B34.12069%2C%20-117.907707%5D%2C%20%5B42.91504000000001%2C%20-71.46529%5D%2C%20%5B43.78265%2C%20-123.05553%5D%2C%20%5B34.159956%2C%20-118.380648%5D%2C%20%5B37.25245%2C%20-93.264015%5D%2C%20%5B33.549073%2C%20-112.112482%5D%2C%20%5B33.50636%2C%20-112.358045%5D%2C%20%5B47.31779%2C%20-122.296752%5D%2C%20%5B28.02797%2C%20-82.14679%5D%2C%20%5B26.281081%2C%20-81.801675%5D%2C%20%5B25.768604%2C%20-80.367869%5D%2C%20%5B40.74034%2C%20-112.189174%5D%2C%20%5B41.16756%2C%20-112.02078%5D%2C%20%5B44.878317%2C%20-93.414196%5D%2C%20%5B39.23563%2C%20-76.86851999999998%5D%2C%20%5B40.14718%2C%20-75.79366%5D%2C%20%5B39.032993%2C%20-77.624273%5D%2C%20%5B32.649382%2C%20-117.103582%5D%2C%20%5B45.467168%2C%20-123.748985%5D%2C%20%5B46.94999%2C%20-98.734159%5D%2C%20%5B39.002883%2C%20-77.024366%5D%2C%20%5B25.687136%2C%20-80.446177%5D%2C%20%5B38.423318%2C%20-78.880028%5D%2C%20%5B33.88468%2C%20-78.68731%5D%2C%20%5B27.960585%2C%20-82.743759%5D%2C%20%5B41.14732%2C%20-81.47496%5D%2C%20%5B47.62138%2C%20-122.302482%5D%2C%20%5B33.949202%2C%20-80.995427%5D%2C%20%5B34.146922%2C%20-117.335456%5D%2C%20%5B44.3127%2C%20-121.171613%5D%2C%20%5B39.12814%2C%20-121.531193%5D%2C%20%5B35.91099000000001%2C%20-78.78327%5D%2C%20%5B37.679575%2C%20-97.268797%5D%2C%20%5B33.848231%2C%20-118.28508%5D%2C%20%5B40.771433%2C%20-73.56118000000002%5D%2C%20%5B41.825987%2C%20-71.420615%5D%2C%20%5B38.311317%2C%20-122.48013799999998%5D%2C%20%5B25.898572%2C%20-80.291883%5D%2C%20%5B40.742238%2C%20-74.122974%5D%2C%20%5B39.789637%2C%20-75.049077%5D%2C%20%5B32.819005%2C%20-86.753851%5D%2C%20%5B40.395617%2C%20-80.102374%5D%2C%20%5B40.011741%2C%20-82.991462%5D%2C%20%5B34.027821%2C%20-118.427498%5D%2C%20%5B33.127821999999995%2C%20-117.111752%5D%2C%20%5B41.652757%2C%20-93.570071%5D%2C%20%5B27.343972%2C%20-82.463883%5D%2C%20%5B33.957474%2C%20-118.087337%5D%2C%20%5B40.926765%2C%20-74.918335%5D%2C%20%5B42.6781%2C%20-73.787764%5D%2C%20%5B40.22966%2C%20-111.65173%5D%2C%20%5B37.38619600000001%2C%20-122.060476%5D%2C%20%5B35.50084000000001%2C%20-80.86750699999997%5D%2C%20%5B30.199237%2C%20-97.776435%5D%2C%20%5B32.643194%2C%20-96.779577%5D%2C%20%5B29.761416%2C%20-95.41617%5D%2C%20%5B25.58079%2C%20-80.409178%5D%2C%20%5B47.49056%2C%20-122.19198%5D%2C%20%5B42.21998%2C%20-71.03589000000002%5D%2C%20%5B34.119133000000005%2C%20-117.840259%5D%2C%20%5B29.675314%2C%20-95.570514%5D%2C%20%5B34.064695%2C%20-118.002475%5D%2C%20%5B44.906369%2C%20-94.093984%5D%2C%20%5B30.655919%2C%20-87.911702%5D%2C%20%5B33.690109%2C%20-117.768278%5D%2C%20%5B33.77425%2C%20-118.07798%5D%2C%20%5B40.269903%2C%20-75.318965%5D%2C%20%5B37.69033%2C%20-122.12369%5D%2C%20%5B40.29125%2C%20-109.166308%5D%2C%20%5B44.86469%2C%20-93.42949%5D%2C%20%5B41.714757%2C%20-87.621765%5D%2C%20%5B29.666231%2C%20-95.504824%5D%2C%20%5B29.67386%2C%20-95.336355%5D%2C%20%5B26.73250800000001%2C%20-80.090902%5D%2C%20%5B40.520558%2C%20-76.095734%5D%2C%20%5B30.25146%2C%20-97.713375%5D%2C%20%5B25.840327%2C%20-80.318135%5D%2C%20%5B45.62739000000001%2C%20-121.21425%5D%2C%20%5B40.821441%2C%20-96.929729%5D%2C%20%5B32.849298%2C%20-96.909301%5D%2C%20%5B37.250186%2C%20-93.269307%5D%2C%20%5B37.975596%2C%20-122.063669%5D%2C%20%5B32.843685%2C%20-117.084707%5D%2C%20%5B37.972484%2C%20-121.329448%5D%2C%20%5B38.99853%2C%20-78.272013%5D%2C%20%5B40.825937%2C%20-124.176541%5D%2C%20%5B32.765232%2C%20-117.163158%5D%2C%20%5B33.66876%2C%20-112.07275%5D%2C%20%5B34.05958%2C%20-118.455029%5D%2C%20%5B34.753685%2C%20-92.262567%5D%2C%20%5B38.60007%2C%20-121.45077%5D%2C%20%5B32.916728000000006%2C%20-96.696553%5D%2C%20%5B29.93566%2C%20-90.094913%5D%2C%20%5B43.176907%2C%20-77.640656%5D%2C%20%5B38.74943%2C%20-104.81114%5D%2C%20%5B37.807153%2C%20-122.475694%5D%2C%20%5B41.66953400000001%2C%20-72.82467%5D%2C%20%5B36.786453%2C%20-119.843757%5D%2C%20%5B37.99258%2C%20-84.523%5D%2C%20%5B26.052843%2C%20-80.215011%5D%2C%20%5B42.339711%2C%20-87.99322%5D%2C%20%5B26.624240000000004%2C%20-81.694412%5D%2C%20%5B35.070283%2C%20-85.143435%5D%2C%20%5B36.947013%2C%20-76.26613%5D%2C%20%5B33.938914000000004%2C%20-117.135645%5D%2C%20%5B38.34872%2C%20-121.99076%5D%2C%20%5B34.02196%2C%20-117.813129%5D%2C%20%5B28.452447%2C%20-81.47766%5D%2C%20%5B46.340328%2C%20-95.332125%5D%2C%20%5B32.636831%2C%20-85.36274399999998%5D%2C%20%5B34.08363%2C%20-117.69406%5D%2C%20%5B34.001807%2C%20-118.174029%5D%2C%20%5B45.544061%2C%20-122.873655%5D%2C%20%5B36.04601%2C%20-79.02278000000003%5D%2C%20%5B44.848236%2C%20-124.045012%5D%2C%20%5B33.457907%2C%20-112.335129%5D%2C%20%5B33.907678999999995%2C%20-117.279536%5D%2C%20%5B34.155853%2C%20-118.242045%5D%2C%20%5B40.05671%2C%20-75.65715%5D%2C%20%5B36.762241%2C%20-119.775658%5D%2C%20%5B33.719304%2C%20-84.396682%5D%2C%20%5B37.252512%2C%20-122.060352%5D%2C%20%5B44.97726%2C%20-122.99123%5D%2C%20%5B38.926969%2C%20-75.538365%5D%2C%20%5B36.86863%2C%20-76.195154%5D%2C%20%5B25.553145%2C%20-80.372098%5D%2C%20%5B40.188545%2C%20-79.042264%5D%2C%20%5B29.156098%2C%20-82.134349%5D%2C%20%5B28.400234%2C%20-81.244405%5D%2C%20%5B34.007027%2C%20-117.928659%5D%2C%20%5B33.87336%2C%20-118.21619%5D%2C%20%5B41.66968%2C%20-72.83388000000002%5D%2C%20%5B36.89852%2C%20-121.5564%5D%2C%20%5B30.578776%2C%20-90.99432%5D%2C%20%5B29.914771%2C%20-81.380121%5D%2C%20%5B37.688675%2C%20-122.130201%5D%2C%20%5B33.939108000000004%2C%20-118.304675%5D%2C%20%5B39.082162%2C%20-75.458212%5D%2C%20%5B32.918233%2C%20-117.115883%5D%2C%20%5B33.960448%2C%20-118.220731%5D%2C%20%5B39.94859%2C%20-75.582965%5D%2C%20%5B30.349078%2C%20-97.552547%5D%2C%20%5B33.871945000000004%2C%20-117.70008500000002%5D%2C%20%5B25.898706%2C%20-80.201142%5D%2C%20%5B37.56804%2C%20-77.53522%5D%2C%20%5B34.077351%2C%20-118.281354%5D%2C%20%5B45.126161%2C%20-121.59101499999998%5D%2C%20%5B27.761689%2C%20-82.666679%5D%2C%20%5B37.56055%2C%20-121.90874%5D%2C%20%5B32.75968%2C%20-97.11919%5D%2C%20%5B32.835291%2C%20-117.138837%5D%2C%20%5B40.837638%2C%20-73.930251%5D%2C%20%5B45.701611%2C%20-94.953675%5D%2C%20%5B45.726395%2C%20-93.740769%5D%2C%20%5B38.148391%2C%20-121.654194%5D%2C%20%5B25.700047%2C%20-80.413232%5D%2C%20%5B36.937226%2C%20-76.265062%5D%2C%20%5B30.34778%2C%20-97.563602%5D%2C%20%5B36.998301%2C%20-120.087511%5D%2C%20%5B38.9193%2C%20-76.93079%5D%2C%20%5B41.276763%2C%20-73.051146%5D%2C%20%5B39.519914%2C%20-119.783946%5D%2C%20%5B38.906626%2C%20-120.8387%5D%2C%20%5B27.937821000000003%2C%20-82.30870300000002%5D%2C%20%5B43.01835%2C%20-78.97245%5D%2C%20%5B34.224810999999995%2C%20-119.157827%5D%2C%20%5B41.99596%2C%20-83.32366%5D%2C%20%5B25.826199%2C%20-80.322001%5D%2C%20%5B40.92192%2C%20-74.07666%5D%2C%20%5B39.08244000000001%2C%20-77.17241%5D%2C%20%5B42.88636500000001%2C%20-78.767584%5D%2C%20%5B40.6894%2C%20-73.62921%5D%2C%20%5B32.34101%2C%20-83.78935%5D%2C%20%5B34.102222999999995%2C%20-118.317107%5D%2C%20%5B39.21441%2C%20-110.99996000000002%5D%2C%20%5B41.432565%2C%20-72.805355%5D%2C%20%5B41.68084%2C%20-72.65361%5D%2C%20%5B35.373511%2C%20-119.043868%5D%2C%20%5B36.13979000000001%2C%20-81.1035%5D%2C%20%5B39.197667%2C%20-121.056676%5D%2C%20%5B32.979649%2C%20-117.077406%5D%2C%20%5B47.427821%2C%20-122.62338%5D%2C%20%5B38.470787%2C%20-78.06238%5D%2C%20%5B34.214962%2C%20-119.011347%5D%2C%20%5B33.19183%2C%20-117.243763%5D%2C%20%5B25.699599%2C%20-80.382101%5D%2C%20%5B38.04254%2C%20-78.72183000000003%5D%2C%20%5B45.90762700000001%2C%20-112.255157%5D%2C%20%5B33.888728%2C%20-118.190739%5D%2C%20%5B33.369434000000005%2C%20-117.550589%5D%2C%20%5B38.629671%2C%20-90.335263%5D%2C%20%5B39.454311%2C%20-75.67734899999998%5D%2C%20%5B37.80811%2C%20-122.36719%5D%2C%20%5B28.761769%2C%20-81.361538%5D%2C%20%5B34.068119%2C%20-117.858207%5D%2C%20%5B34.010413%2C%20-117.82347%5D%2C%20%5B36.13196%2C%20-86.89560999999998%5D%2C%20%5B25.949782%2C%20-80.227886%5D%2C%20%5B33.708811%2C%20-117.851682%5D%2C%20%5B39.206584%2C%20-76.611889%5D%2C%20%5B41.44695%2C%20-81.74463%5D%2C%20%5B38.748124%2C%20-121.26793700000002%5D%2C%20%5B43.12351%2C%20-77.50537%5D%2C%20%5B38.474298%2C%20-121.419046%5D%2C%20%5B40.663276%2C%20-73.998164%5D%2C%20%5B38.569127%2C%20-121.512652%5D%2C%20%5B34.02865%2C%20-117.550464%5D%2C%20%5B28.637241%2C%20-81.446795%5D%2C%20%5B40.399066%2C%20-79.420961%5D%2C%20%5B42.20638%2C%20-71.79189000000002%5D%2C%20%5B40.301595%2C%20-122.703219%5D%2C%20%5B37.437363%2C%20-77.47306800000001%5D%2C%20%5B39.02244%2C%20-94.50253%5D%2C%20%5B43.126858%2C%20-89.750024%5D%2C%20%5B33.303391999999995%2C%20-111.837503%5D%2C%20%5B40.083669%2C%20-75.174774%5D%2C%20%5B37.961265%2C%20-121.30027%5D%2C%20%5B43.819362%2C%20-124.151376%5D%2C%20%5B32.769870000000004%2C%20-117.16165%5D%2C%20%5B39.128833%2C%20-86.60498%5D%2C%20%5B34.079436%2C%20-117.297404%5D%2C%20%5B37.583206%2C%20-122.509542%5D%2C%20%5B35.853341%2C%20-78.796768%5D%2C%20%5B39.052165%2C%20-75.459422%5D%2C%20%5B36.348517%2C%20-118.022561%5D%2C%20%5B37.902156%2C%20-121.466614%5D%2C%20%5B34.072353%2C%20-81.228445%5D%2C%20%5B42.52618%2C%20-122.81445%5D%2C%20%5B30.349016%2C%20-97.545115%5D%2C%20%5B34.221369%2C%20-118.473314%5D%2C%20%5B39.96855%2C%20-83.04619%5D%2C%20%5B35.10296%2C%20-80.88443000000002%5D%2C%20%5B34.086831%2C%20-117.685664%5D%2C%20%5B34.212776%2C%20-117.41231299999998%5D%2C%20%5B42.997792%2C%20-76.731433%5D%2C%20%5B40.63222%2C%20-73.99503%5D%2C%20%5B42.386637%2C%20-83.44389699999998%5D%2C%20%5B28.450781%2C%20-81.477807%5D%2C%20%5B36.210679%2C%20-119.11209%5D%2C%20%5B28.171958%2C%20-80.68489699999998%5D%2C%20%5B28.25994600000001%2C%20-81.60717199999998%5D%2C%20%5B27.935906%2C%20-82.29383399999998%5D%2C%20%5B33.462134000000006%2C%20-112.023993%5D%2C%20%5B38.488261%2C%20-122.855092%5D%2C%20%5B38.880629%2C%20-77.002043%5D%2C%20%5B41.073375%2C%20-73.677964%5D%2C%20%5B42.715404%2C%20-117.860227%5D%2C%20%5B37.144792%2C%20-121.63608700000002%5D%2C%20%5B33.155778999999995%2C%20-87.548813%5D%2C%20%5B34.704777%2C%20-117.934177%5D%2C%20%5B34.900848%2C%20-82.41583%5D%2C%20%5B37.977519%2C%20-121.261044%5D%2C%20%5B30.243879%2C%20-81.588441%5D%2C%20%5B37.708236%2C%20-122.46863%5D%2C%20%5B39.26840900000001%2C%20-76.56008299999998%5D%2C%20%5B25.688624%2C%20-80.3169%5D%2C%20%5B33.150044%2C%20-117.198304%5D%2C%20%5B38.041351%2C%20-120.251767%5D%2C%20%5B42.163687%2C%20-121.852748%5D%2C%20%5B25.762163%2C%20-80.400865%5D%2C%20%5B40.855878%2C%20-73.971905%5D%2C%20%5B30.394545%2C%20-91.180479%5D%2C%20%5B38.298828%2C%20-121.46074%5D%2C%20%5B38.55975%2C%20-121.51411%5D%2C%20%5B30.449771%2C%20-91.172343%5D%2C%20%5B38.64436%2C%20-90.34746%5D%2C%20%5B33.391441%2C%20-112.046454%5D%2C%20%5B42.183605%2C%20-87.87657800000002%5D%2C%20%5B33.516726%2C%20-112.112265%5D%2C%20%5B43.662982%2C%20-116.356482%5D%2C%20%5B33.76013%2C%20-78.962585%5D%2C%20%5B35.26367%2C%20-80.81756999999998%5D%2C%20%5B27.38517%2C%20-82.505716%5D%2C%20%5B38.81737%2C%20-121.301695%5D%2C%20%5B34.054241%2C%20-118.004437%5D%2C%20%5B28.15427%2C%20-81.4401%5D%2C%20%5B43.486534000000006%2C%20-121.907305%5D%2C%20%5B41.98899%2C%20-87.86478000000002%5D%2C%20%5B38.613002%2C%20-121.40148%5D%2C%20%5B42.173769%2C%20-121.736056%5D%2C%20%5B34.173713%2C%20-118.556567%5D%2C%20%5B37.563686%2C%20-122.038503%5D%2C%20%5B39.904818%2C%20-75.112817%5D%2C%20%5B39.658921%2C%20-75.69682%5D%2C%20%5B45.49078%2C%20-122.67481%5D%2C%20%5B32.79076%2C%20-96.75858%5D%2C%20%5B33.940929%2C%20-118.300267%5D%2C%20%5B30.324522%2C%20-97.725217%5D%2C%20%5B34.30278%2C%20-110.85776%5D%2C%20%5B47.29156%2C%20-122.30623%5D%2C%20%5B36.753293%2C%20-119.713146%5D%2C%20%5B38.5638%2C%20-121.353867%5D%2C%20%5B35.24654%2C%20-80.938469%5D%2C%20%5B34.085699%2C%20-117.544589%5D%2C%20%5B33.190827%2C%20-117.362558%5D%2C%20%5B34.11892%2C%20-118.233243%5D%2C%20%5B37.214999%2C%20-121.98817%5D%2C%20%5B33.906338%2C%20-117.456985%5D%2C%20%5B37.583659%2C%20-77.47448%5D%2C%20%5B34.037393%2C%20-117.321076%5D%2C%20%5B38.209209%2C%20-81.372596%5D%2C%20%5B44.565556%2C%20-123.19213700000002%5D%2C%20%5B27.262769%2C%20-82.524873%5D%2C%20%5B33.709720000000004%2C%20-117.18729%5D%2C%20%5B34.274475%2C%20-83.43554300000002%5D%2C%20%5B37.260335%2C%20-80.168062%5D%2C%20%5B45.23631%2C%20-123.15325%5D%2C%20%5B33.99414%2C%20-117.90955%5D%2C%20%5B32.327402%2C%20-86.334647%5D%2C%20%5B44.983252%2C%20-93.400944%5D%2C%20%5B32.908805%2C%20-96.893008%5D%2C%20%5B41.958508%2C%20-122.595093%5D%2C%20%5B35.87700200000001%2C%20-78.65055799999998%5D%2C%20%5B38.37326%2C%20-81.60642%5D%2C%20%5B41.10643%2C%20-73.415526%5D%2C%20%5B38.421353%2C%20-77.615041%5D%2C%20%5B35.12005%2C%20-80.920503%5D%2C%20%5B36.125096%2C%20-86.813632%5D%2C%20%5B34.231567%2C%20-119.156049%5D%2C%20%5B42.670497%2C%20-73.730261%5D%2C%20%5B30.231874%2C%20-82.988003%5D%2C%20%5B34.154336%2C%20-118.396588%5D%2C%20%5B36.450737%2C%20-119.489632%5D%2C%20%5B37.68844%2C%20-122.11121%5D%2C%20%5B42.38544%2C%20-83.159237%5D%2C%20%5B39.668676%2C%20-75.601451%5D%2C%20%5B29.600284%2C%20-98.432739%5D%2C%20%5B35.150979%2C%20-85.284458%5D%2C%20%5B34.040785%2C%20-118.579056%5D%2C%20%5B33.88073%2C%20-117.598833%5D%2C%20%5B41.445075%2C%20-72.117573%5D%2C%20%5B28.450023%2C%20-81.471947%5D%2C%20%5B38.63001%2C%20-90.3658%5D%2C%20%5B27.788273%2C%20-82.677312%5D%2C%20%5B35.262315%2C%20-80.830977%5D%2C%20%5B34.059343%2C%20-81.13385500000003%5D%2C%20%5B36.259992%2C%20-86.712988%5D%2C%20%5B44.092522%2C%20-123.10159%5D%2C%20%5B28.399659000000003%2C%20-82.66%5D%2C%20%5B42.20639%2C%20-70.9936%5D%2C%20%5B28.247662%2C%20-80.732858%5D%2C%20%5B43.388549%2C%20-73.64630600000002%5D%2C%20%5B45.06449%2C%20-93.16253%5D%2C%20%5B44.661972%2C%20-123.902525%5D%2C%20%5B26.55728400000001%2C%20-80.17286800000002%5D%2C%20%5B34.221714%2C%20-81.414517%5D%2C%20%5B33.832383%2C%20-117.876236%5D%2C%20%5B41.421419%2C%20-74.010711%5D%2C%20%5B29.78543%2C%20-95.73804%5D%2C%20%5B32.792974%2C%20-96.727497%5D%2C%20%5B32.890107%2C%20-80.712517%5D%2C%20%5B34.32442%2C%20-117.48205%5D%2C%20%5B34.136077%2C%20-117.572883%5D%2C%20%5B33.438995%2C%20-84.87513299999998%5D%2C%20%5B25.945115%2C%20-80.205365%5D%2C%20%5B37.25724500000001%2C%20-121.796525%5D%2C%20%5B36.04526%2C%20-86.65907%5D%2C%20%5B34.34429%2C%20-118.50495%5D%2C%20%5B40.731157%2C%20-73.874055%5D%2C%20%5B47.690557%2C%20-122.344442%5D%2C%20%5B40.73255%2C%20-74.11854%5D%2C%20%5B33.849583%2C%20-117.790275%5D%2C%20%5B37.836433%2C%20-122.011453%5D%2C%20%5B44.603847%2C%20-123.619786%5D%2C%20%5B33.876517%2C%20-118.09103600000002%5D%2C%20%5B39.050145%2C%20-77.506419%5D%2C%20%5B36.764687%2C%20-119.834057%5D%2C%20%5B37.180566%2C%20-93.233599%5D%2C%20%5B43.92793%2C%20-91.411791%5D%2C%20%5B44.66688%2C%20-93.29426%5D%2C%20%5B35.19175100000001%2C%20-78.283499%5D%2C%20%5B40.791722%2C%20-73.518142%5D%2C%20%5B35.51410999999999%2C%20-80.838954%5D%2C%20%5B41.38681%2C%20-87.32655%5D%2C%20%5B45.540103%2C%20-122.458535%5D%2C%20%5B42.38573%2C%20-83.24903%5D%2C%20%5B27.83731%2C%20-82.739398%5D%2C%20%5B28.66527%2C%20-81.41906999999998%5D%2C%20%5B39.037505%2C%20-76.938221%5D%2C%20%5B25.92733%2C%20-80.217706%5D%2C%20%5B40.576163%2C%20-122.36068%5D%2C%20%5B41.83877%2C%20-87.63104%5D%2C%20%5B33.921890000000005%2C%20-118.28151%5D%2C%20%5B39.64181%2C%20-104.8807%5D%2C%20%5B38.016397%2C%20-78.425348%5D%2C%20%5B34.027587%2C%20-117.122529%5D%2C%20%5B34.054081%2C%20-118.255459%5D%2C%20%5B28.57991%2C%20-81.37518%5D%2C%20%5B41.72758%2C%20-72.75758%5D%2C%20%5B34.136517%2C%20-117.495959%5D%2C%20%5B28.421549%2C%20-80.756777%5D%2C%20%5B38.550077%2C%20-106.299849%5D%2C%20%5B25.76715%2C%20-80.20045%5D%2C%20%5B33.893266%2C%20-84.454815%5D%2C%20%5B37.27964%2C%20-122.01133%5D%2C%20%5B29.792004%2C%20-98.023853%5D%2C%20%5B38.663924%2C%20-121.228637%5D%2C%20%5B34.08717%2C%20-117.67452%5D%2C%20%5B45.823254%2C%20-108.289665%5D%2C%20%5B38.651951%2C%20-121.32766200000002%5D%2C%20%5B34.737633%2C%20-92.294149%5D%2C%20%5B29.780785%2C%20-95.246347%5D%2C%20%5B28.553187%2C%20-81.370509%5D%2C%20%5B32.752635999999995%2C%20-96.615883%5D%2C%20%5B37.521064%2C%20-77.488478%5D%2C%20%5B36.038606%2C%20-86.78614499999998%5D%2C%20%5B33.730442%2C%20-117.985942%5D%2C%20%5B46.44172%2C%20-95.17663%5D%2C%20%5B34.135126%2C%20-117.96122%5D%2C%20%5B26.749531%2C%20-81.861587%5D%2C%20%5B33.20924%2C%20-117.386659%5D%2C%20%5B43.0187%2C%20-77.87501999999998%5D%2C%20%5B25.71537600000001%2C%20-80.431229%5D%2C%20%5B44.180807%2C%20-94.048438%5D%2C%20%5B33.706587%2C%20-117.779097%5D%2C%20%5B41.06556%2C%20-81.43312%5D%2C%20%5B33.487496%2C%20-117.07331%5D%2C%20%5B43.484555%2C%20-112.062878%5D%2C%20%5B39.41947%2C%20-104.8728%5D%2C%20%5B42.70585%2C%20-71.20958%5D%2C%20%5B29.63853%2C%20-95.38691%5D%2C%20%5B33.498629%2C%20-112.148769%5D%2C%20%5B34.065771000000005%2C%20-81.041864%5D%2C%20%5B36.173209%2C%20-120.210608%5D%2C%20%5B34.06392%2C%20-117.27238%5D%2C%20%5B41.200264%2C%20-73.116642%5D%2C%20%5B40.689706%2C%20-74.191896%5D%2C%20%5B26.087377%2C%20-80.2165%5D%2C%20%5B35.251797%2C%20-80.897172%5D%2C%20%5B34.161427%2C%20-118.381259%5D%2C%20%5B26.496652%2C%20-80.17265400000002%5D%2C%20%5B32.881913%2C%20-96.693434%5D%2C%20%5B44.971214%2C%20-93.3738%5D%2C%20%5B45.602692%2C%20-94.153507%5D%2C%20%5B43.612261%2C%20-116.205864%5D%2C%20%5B40.844705%2C%20-73.903129%5D%2C%20%5B40.87677%2C%20-74.11921%5D%2C%20%5B34.088608%2C%20-118.475191%5D%2C%20%5B25.863028%2C%20-80.322622%5D%2C%20%5B44.8836%2C%20-93.24677%5D%2C%20%5B35.33578%2C%20-80.91403000000003%5D%2C%20%5B39.675078000000006%2C%20-77.45487299999998%5D%2C%20%5B35.841496%2C%20-78.684004%5D%2C%20%5B34.081579999999995%2C%20-117.72332%5D%2C%20%5B34.2183%2C%20-118.47314%5D%2C%20%5B30.456515000000003%2C%20-91.179985%5D%2C%20%5B40.138281%2C%20-75.428933%5D%2C%20%5B33.460749%2C%20-112.08296%5D%2C%20%5B33.567963%2C%20-112.065213%5D%2C%20%5B42.36572%2C%20-88.11099%5D%2C%20%5B41.13458%2C%20-74.16811%5D%2C%20%5B33.92635%2C%20-118.252992%5D%2C%20%5B33.953138%2C%20-117.304386%5D%2C%20%5B36.728478%2C%20-119.796279%5D%2C%20%5B34.083369%2C%20-118.221753%5D%2C%20%5B26.71485%2C%20-81.610066%5D%2C%20%5B30.06098%2C%20-81.49773%5D%2C%20%5B26.130605%2C%20-80.218144%5D%2C%20%5B39.385012%2C%20-77.257813%5D%2C%20%5B34.159796%2C%20-79.756359%5D%2C%20%5B25.846986%2C%20-80.211189%5D%2C%20%5B38.566293%2C%20-121.509891%5D%2C%20%5B27.447751%2C%20-82.573305%5D%2C%20%5B37.81391%2C%20-122.36048%5D%2C%20%5B25.659734%2C%20-80.416025%5D%2C%20%5B44.972777%2C%20-122.99003%5D%2C%20%5B44.32198%2C%20-93.85562%5D%2C%20%5B37.242329%2C%20-93.22272%5D%2C%20%5B42.461761%2C%20-79.312158%5D%2C%20%5B44.53867%2C%20-117.414354%5D%2C%20%5B34.017907%2C%20-118.052703%5D%2C%20%5B29.369826%2C%20-98.517246%5D%2C%20%5B32.716852%2C%20-114.424624%5D%2C%20%5B39.773611%2C%20-104.842577%5D%2C%20%5B37.701947%2C%20-121.911843%5D%2C%20%5B40.664579%2C%20-73.996888%5D%2C%20%5B44.763882%2C%20-121.235975%5D%2C%20%5B26.30253%2C%20-81.743054%5D%2C%20%5B38.994325%2C%20-121.396864%5D%2C%20%5B34.164602%2C%20-117.300485%5D%2C%20%5B35.325262%2C%20-118.914321%5D%2C%20%5B39.8823%2C%20-83.00088000000002%5D%2C%20%5B30.429193%2C%20-84.197284%5D%2C%20%5B40.058129%2C%20-76.29524599999998%5D%2C%20%5B43.290971%2C%20-123.179858%5D%2C%20%5B25.619496%2C%20-80.346705%5D%2C%20%5B32.799419%2C%20-96.793428%5D%2C%20%5B34.076855%2C%20-118.381422%5D%2C%20%5B43.64749000000001%2C%20-95.55019%5D%2C%20%5B36.897596%2C%20-118.241598%5D%2C%20%5B33.927865000000004%2C%20-98.518554%5D%2C%20%5B27.268183%2C%20-82.464486%5D%2C%20%5B38.811228%2C%20-77.218114%5D%2C%20%5B35.33777100000001%2C%20-118.843177%5D%2C%20%5B41.06247000000001%2C%20-81.48283%5D%2C%20%5B33.69475300000001%2C%20-112.421977%5D%2C%20%5B45.34741%2C%20-122.65248%5D%2C%20%5B38.878503%2C%20-77.26310500000002%5D%2C%20%5B45.07311%2C%20-122.95955%5D%2C%20%5B43.30288%2C%20-123.163482%5D%2C%20%5B34.124854%2C%20-117.509497%5D%2C%20%5B33.833631%2C%20-117.934809%5D%2C%20%5B41.543869%2C%20-73.07385500000002%5D%2C%20%5B41.75258%2C%20-72.658277%5D%2C%20%5B33.7383%2C%20-116.22054%5D%2C%20%5B42.282364%2C%20-88.15561600000002%5D%2C%20%5B37.519%2C%20-122.27279%5D%2C%20%5B43.066548%2C%20-70.790573%5D%2C%20%5B34.045442%2C%20-118.317722%5D%2C%20%5B39.784581%2C%20-86.165848%5D%2C%20%5B39.749236%2C%20-75.556846%5D%2C%20%5B33.767712%2C%20-118.03258%5D%2C%20%5B47.504407%2C%20-122.278075%5D%2C%20%5B39.189842%2C%20-121.637543%5D%2C%20%5B44.907479%2C%20-122.98631%5D%2C%20%5B33.240614%2C%20-81.400896%5D%2C%20%5B40.802521%2C%20-73.916593%5D%2C%20%5B34.287859000000005%2C%20-118.935236%5D%2C%20%5B43.12588%2C%20-77.583559%5D%2C%20%5B28.697956%2C%20-81.32108199999998%5D%2C%20%5B28.259826%2C%20-81.589549%5D%2C%20%5B33.311237%2C%20-111.97206%5D%2C%20%5B45.74243%2C%20-111.23497%5D%2C%20%5B34.145888%2C%20-118.134501%5D%2C%20%5B34.023242%2C%20-118.200698%5D%2C%20%5B36.773969%2C%20-119.664074%5D%2C%20%5B38.38672800000001%2C%20-78.937365%5D%2C%20%5B40.528441%2C%20-74.353055%5D%2C%20%5B34.2672%2C%20-79.70796%5D%2C%20%5B37.34221%2C%20-121.776137%5D%2C%20%5B34.241375%2C%20-118.419007%5D%2C%20%5B33.728098%2C%20-117.919947%5D%2C%20%5B35.011095000000005%2C%20-85.1893%5D%2C%20%5B30.421709000000003%2C%20-91.182398%5D%2C%20%5B33.240959000000004%2C%20-87.58528100000002%5D%2C%20%5B25.949179%2C%20-80.29023000000002%5D%2C%20%5B42.205721%2C%20-120.351737%5D%2C%20%5B40.671247%2C%20-99.159754%5D%2C%20%5B42.39088%2C%20-83.00813000000002%5D%2C%20%5B34.514187%2C%20-82.746239%5D%2C%20%5B44.970914%2C%20-93.448945%5D%2C%20%5B45.30534%2C%20-121.81617%5D%2C%20%5B37.6536%2C%20-121.898084%5D%2C%20%5B39.96887%2C%20-74.90937%5D%2C%20%5B41.938924%2C%20-87.904466%5D%2C%20%5B40.291198%2C%20-76.822801%5D%2C%20%5B35.77523%2C%20-120.711694%5D%2C%20%5B40.84323%2C%20-73.6901%5D%2C%20%5B25.866741%2C%20-80.32440600000002%5D%2C%20%5B32.18666%2C%20-81.1983%5D%2C%20%5B34.024325%2C%20-117.740467%5D%2C%20%5B47.162157%2C%20-120.854326%5D%2C%20%5B29.959845%2C%20-95.418627%5D%2C%20%5B34.072414%2C%20-118.072922%5D%2C%20%5B32.766579%2C%20-96.776662%5D%2C%20%5B25.691357%2C%20-80.30524%5D%2C%20%5B33.934718%2C%20-118.176766%5D%2C%20%5B28.16422%2C%20-81.469966%5D%2C%20%5B44.001992%2C%20-123.655618%5D%2C%20%5B34.795922%2C%20-82.437576%5D%2C%20%5B39.761338%2C%20-84.269177%5D%2C%20%5B43.664141%2C%20-123.363064%5D%2C%20%5B34.072995%2C%20-117.200554%5D%2C%20%5B27.937162%2C%20-82.31025600000002%5D%2C%20%5B32.907071%2C%20-96.728516%5D%2C%20%5B45.178148%2C%20-122.853326%5D%2C%20%5B35.280028%2C%20-89.631217%5D%2C%20%5B30.29393%2C%20-81.770886%5D%2C%20%5B39.37925300000001%2C%20-76.44943%5D%2C%20%5B40.125199%2C%20-75.357883%5D%2C%20%5B37.428714%2C%20-81.06580799999998%5D%2C%20%5B35.317653%2C%20-119.00293700000002%5D%2C%20%5B32.336207%2C%20-109.53883%5D%2C%20%5B37.922103%2C%20-121.332365%5D%2C%20%5B36.15415%2C%20-86.83667700000002%5D%2C%20%5B42.942314%2C%20-71.38709300000002%5D%2C%20%5B41.243643%2C%20-74.801067%5D%2C%20%5B27.38713%2C%20-82.26825699999998%5D%2C%20%5B29.94081%2C%20-95.40396%5D%2C%20%5B37.797611%2C%20-121.192012%5D%2C%20%5B39.870607%2C%20-104.987693%5D%2C%20%5B46.002513%2C%20-123.243073%5D%2C%20%5B33.372276%2C%20-86.812709%5D%2C%20%5B33.13282%2C%20-117.10537%5D%2C%20%5B40.846768%2C%20-73.87146%5D%2C%20%5B33.772085%2C%20-117.198022%5D%2C%20%5B25.947225%2C%20-80.20544100000002%5D%2C%20%5B40.60154%2C%20-74.060994%5D%2C%20%5B30.389337%2C%20-85.686812%5D%2C%20%5B47.016752%2C%20-114.640542%5D%2C%20%5B33.972252000000005%2C%20-118.28268%5D%2C%20%5B38.55782%2C%20-121.36837%5D%2C%20%5B33.86649%2C%20-118.28481%5D%2C%20%5B32.523681%2C%20-83.721662%5D%2C%20%5B37.84193%2C%20-122.29746000000002%5D%2C%20%5B32.131158%2C%20-96.960686%5D%2C%20%5B27.09908%2C%20-82.20127%5D%2C%20%5B29.677149%2C%20-95.496027%5D%2C%20%5B46.164156%2C%20-123.64651%5D%2C%20%5B33.37833%2C%20-111.89327%5D%2C%20%5B31.7131%2C%20-81.74608%5D%2C%20%5B26.80664%2C%20-80.13134000000002%5D%2C%20%5B43.73233%2C%20-88.44236%5D%2C%20%5B39.76331%2C%20-105.10967%5D%2C%20%5B45.44706%2C%20-122.578883%5D%2C%20%5B39.145908%2C%20-94.667673%5D%2C%20%5B37.76311%2C%20-121.430114%5D%2C%20%5B34.71009%2C%20-82.30658000000003%5D%2C%20%5B37.9933%2C%20-122.0733%5D%2C%20%5B35.829093%2C%20-78.323336%5D%2C%20%5B34.169422%2C%20-118.385356%5D%2C%20%5B39.73201%2C%20-86.04491999999998%5D%2C%20%5B41.106666%2C%20-73.418787%5D%2C%20%5B41.799879%2C%20-83.772474%5D%2C%20%5B40.726221%2C%20-73.76301099999998%5D%2C%20%5B26.297344%2C%20-80.121574%5D%2C%20%5B34.221381%2C%20-118.473302%5D%2C%20%5B26.16219%2C%20-80.16230999999998%5D%2C%20%5B28.66436%2C%20-81.38871999999998%5D%2C%20%5B29.796839%2C%20-95.328715%5D%2C%20%5B44.681418%2C%20-123.054111%5D%2C%20%5B28.451875%2C%20-81.063147%5D%2C%20%5B38.250348%2C%20-122.270813%5D%2C%20%5B37.32108%2C%20-121.827988%5D%2C%20%5B36.40308%2C%20-82.609902%5D%2C%20%5B39.115597%2C%20-121.554902%5D%2C%20%5B37.25872%2C%20-121.96419%5D%2C%20%5B41.00656%2C%20-87.27005%5D%2C%20%5B33.7007%2C%20-79.015012%5D%2C%20%5B43.989163%2C%20-93.133781%5D%2C%20%5B38.886933%2C%20-77.048151%5D%2C%20%5B32.910585%2C%20-96.818507%5D%2C%20%5B37.916575%2C%20-121.291042%5D%2C%20%5B38.943471%2C%20-94.535541%5D%2C%20%5B28.55731%2C%20-81.31089%5D%2C%20%5B40.480939%2C%20-74.402879%5D%2C%20%5B30.193446%2C%20-97.780068%5D%2C%20%5B37.052282%2C%20-120.641437%5D%2C%20%5B44.097822%2C%20-123.151041%5D%2C%20%5B35.085954%2C%20-90.025428%5D%2C%20%5B40.201786%2C%20-75.34603%5D%2C%20%5B40.970437%2C%20-78.46503100000002%5D%2C%20%5B33.850147%2C%20-117.875916%5D%2C%20%5B39.86011%2C%20-75.13714%5D%2C%20%5B33.932139%2C%20-118.360194%5D%2C%20%5B42.38238%2C%20-83.37864%5D%2C%20%5B33.208602%2C%20-80.045241%5D%2C%20%5B31.72523%2C%20-106.35712%5D%2C%20%5B39.17757%2C%20-76.63644000000002%5D%2C%20%5B28.48842%2C%20-81.28531%5D%2C%20%5B42.965933%2C%20-83.809612%5D%2C%20%5B33.526092%2C%20-117.165159%5D%2C%20%5B35.057164%2C%20-80.99182900000002%5D%2C%20%5B40.526129%2C%20-74.32591%5D%2C%20%5B47.516652%2C%20-92.560619%5D%2C%20%5B38.107202%2C%20-122.229767%5D%2C%20%5B37.45988%2C%20-77.49656999999998%5D%2C%20%5B39.400888%2C%20-77.372986%5D%2C%20%5B28.454664%2C%20-81.640638%5D%2C%20%5B38.684831%2C%20-121.375323%5D%2C%20%5B44.024882%2C%20-123.857734%5D%2C%20%5B41.00763900000001%2C%20-96.31142%5D%2C%20%5B25.714585%2C%20-80.413965%5D%2C%20%5B28.091708%2C%20-82.454463%5D%2C%20%5B40.107294%2C%20-123.785138%5D%2C%20%5B39.399064%2C%20-112.061287%5D%2C%20%5B28.55598%2C%20-81.364459%5D%2C%20%5B40.725229%2C%20-111.511066%5D%2C%20%5B39.467368%2C%20-86.006782%5D%2C%20%5B39.067223%2C%20-94.620409%5D%2C%20%5B29.681868%2C%20-95.502683%5D%2C%20%5B26.330713%2C%20-81.798514%5D%2C%20%5B43.144256%2C%20-77.589697%5D%2C%20%5B33.659845000000004%2C%20-117.747462%5D%2C%20%5B28.539229%2C%20-81.28420799999998%5D%2C%20%5B40.262102%2C%20-74.512182%5D%2C%20%5B33.349097%2C%20-111.90683500000002%5D%2C%20%5B34.628122999999995%2C%20-118.15333400000002%5D%2C%20%5B25.964762%2C%20-80.172462%5D%2C%20%5B29.64685900000001%2C%20-95.573122%5D%2C%20%5B41.672869%2C%20-72.885006%5D%2C%20%5B33.679237%2C%20-117.848771%5D%2C%20%5B33.988449%2C%20-118.280191%5D%2C%20%5B39.227778%2C%20-120.004846%5D%2C%20%5B33.85980900000001%2C%20-118.309525%5D%2C%20%5B27.445876%2C%20-82.57540999999998%5D%2C%20%5B33.987996%2C%20-117.898178%5D%2C%20%5B34.02888%2C%20-118.00291%5D%2C%20%5B39.0213%2C%20-76.935976%5D%2C%20%5B25.749454%2C%20-80.335813%5D%2C%20%5B46.428475%2C%20-115.121463%5D%2C%20%5B36.861354%2C%20-121.583624%5D%2C%20%5B38.012996%2C%20-121.871769%5D%2C%20%5B27.799303%2C%20-82.660117%5D%2C%20%5B45.206835%2C%20-118.021032%5D%2C%20%5B38.587722%2C%20-121.446947%5D%2C%20%5B34.109%2C%20-117.30248%5D%2C%20%5B33.935139%2C%20-118.087919%5D%2C%20%5B31.796851%2C%20-85.981528%5D%2C%20%5B39.01045%2C%20-77.1508%5D%2C%20%5B42.413602%2C%20-123.403347%5D%2C%20%5B39.1754%2C%20-94.5341%5D%2C%20%5B32.979594%2C%20-117.253142%5D%2C%20%5B38.557151%2C%20-121.472922%5D%2C%20%5B45.210716%2C%20-93.584146%5D%2C%20%5B42.65997%2C%20-122.69933%5D%2C%20%5B42.46493%2C%20-123.32363%5D%2C%20%5B34.06657%2C%20-117.45706%5D%2C%20%5B33.901888%2C%20-118.285278%5D%2C%20%5B44.94193%2C%20-123.05415%5D%2C%20%5B44.924951%2C%20-93.451155%5D%2C%20%5B33.698305%2C%20-117.862156%5D%2C%20%5B34.427067%2C%20-79.964365%5D%2C%20%5B39.85624%2C%20-75.377257%5D%2C%20%5B37.54511%2C%20-77.44106%5D%2C%20%5B25.834908%2C%20-80.241393%5D%2C%20%5B38.511747%2C%20-77.377127%5D%2C%20%5B34.492092%2C%20-118.283428%5D%2C%20%5B35.743664%2C%20-94.19844%5D%2C%20%5B45.127834%2C%20-117.963863%5D%2C%20%5B34.112884%2C%20-118.776587%5D%2C%20%5B33.683601%2C%20-117.85935%5D%2C%20%5B39.381211%2C%20-77.26949499999998%5D%2C%20%5B40.487476%2C%20-74.396755%5D%2C%20%5B25.941448%2C%20-80.14871600000002%5D%2C%20%5B42.933765%2C%20-74.320803%5D%2C%20%5B28.194876%2C%20-82.386227%5D%2C%20%5B37.363343%2C%20-121.893937%5D%2C%20%5B38.34066%2C%20-121.334256%5D%2C%20%5B42.976491%2C%20-85.67804100000002%5D%2C%20%5B41.81494%2C%20-87.74954%5D%2C%20%5B44.054739%2C%20-123.219528%5D%2C%20%5B37.829787%2C%20-122.000875%5D%2C%20%5B39.149148%2C%20-76.840815%5D%2C%20%5B32.714868%2C%20-96.922451%5D%2C%20%5B33.875976%2C%20-118.192577%5D%2C%20%5B43.05676%2C%20-76.1086%5D%2C%20%5B46.436628000000006%2C%20-95.120876%5D%2C%20%5B28.520947%2C%20-81.397228%5D%2C%20%5B34.02391%2C%20-117.76547%5D%2C%20%5B39.09553%2C%20-76.79630999999998%5D%2C%20%5B35.657287%2C%20-78.70472%5D%2C%20%5B33.933495%2C%20-79.8483%5D%2C%20%5B25.831073%2C%20-80.242384%5D%2C%20%5B33.992034000000004%2C%20-117.931843%5D%2C%20%5B46.860614%2C%20-95.987763%5D%2C%20%5B41.11141%2C%20-73.54809%5D%2C%20%5B45.69356%2C%20-120.382422%5D%2C%20%5B35.48209600000001%2C%20-82.524901%5D%2C%20%5B39.09995%2C%20-84.52094%5D%2C%20%5B36.338657%2C%20-93.47208%5D%2C%20%5B37.7374%2C%20-122.40227%5D%2C%20%5B42.967141%2C%20-78.768751%5D%2C%20%5B39.72279%2C%20-105.01065%5D%2C%20%5B39.938155%2C%20-77.626176%5D%2C%20%5B34.119486%2C%20-117.76161%5D%2C%20%5B38.068565%2C%20-122.80534%5D%2C%20%5B40.539092%2C%20-74.762171%5D%2C%20%5B34.067391%2C%20-117.571724%5D%2C%20%5B33.939198%2C%20-117.16317%5D%2C%20%5B41.995285%2C%20-87.865959%5D%2C%20%5B38.027082%2C%20-81.355572%5D%2C%20%5B42.21998%2C%20-71.03589000000002%5D%2C%20%5B35.46947%2C%20-97.61891%5D%2C%20%5B40.06703%2C%20-75.30919%5D%2C%20%5B27.492568%2C%20-80.573999%5D%2C%20%5B40.074938%2C%20-75.420552%5D%2C%20%5B41.29714600000001%2C%20-72.709053%5D%2C%20%5B42.75581%2C%20-73.775262%5D%2C%20%5B39.056149%2C%20-76.971154%5D%2C%20%5B39.60927%2C%20-86.07189%5D%2C%20%5B39.594155%2C%20-121.444852%5D%2C%20%5B34.065284000000005%2C%20-117.806665%5D%2C%20%5B29.664256%2C%20-95.36455%5D%2C%20%5B39.46054%2C%20-77.402192%5D%2C%20%5B44.948748%2C%20-92.895594%5D%2C%20%5B41.55082%2C%20-87.80006%5D%2C%20%5B37.554555%2C%20-77.48456800000002%5D%2C%20%5B42.41525%2C%20-83.08518000000002%5D%2C%20%5B33.377834%2C%20-112.047368%5D%2C%20%5B39.76332%2C%20-105.58064%5D%2C%20%5B40.381969%2C%20-76.656646%5D%2C%20%5B45.03575900000001%2C%20-92.807446%5D%2C%20%5B35.709445%2C%20-86.310538%5D%2C%20%5B39.814682%2C%20-121.60186000000002%5D%2C%20%5B38.63213%2C%20-75.80572%5D%2C%20%5B30.477223%2C%20-86.574199%5D%2C%20%5B39.089108%2C%20-76.994515%5D%2C%20%5B38.02369%2C%20-121.97152%5D%2C%20%5B34.121315%2C%20-117.261828%5D%2C%20%5B38.069722%2C%20-122.226905%5D%2C%20%5B37.066401%2C%20-121.219099%5D%2C%20%5B33.69896%2C%20-84.26165%5D%2C%20%5B28.45153%2C%20-81.09501%5D%2C%20%5B42.75613900000001%2C%20-73.932141%5D%2C%20%5B32.354647%2C%20-95.294879%5D%2C%20%5B35.027745%2C%20-80.964978%5D%2C%20%5B39.02197%2C%20-84.5041%5D%2C%20%5B45.77221%2C%20-120.08231%5D%2C%20%5B34.792324%2C%20-82.985%5D%2C%20%5B25.7525%2C%20-80.205784%5D%2C%20%5B33.791126%2C%20-97.722971%5D%2C%20%5B32.8369%2C%20-96.93349%5D%2C%20%5B39.36029%2C%20-77.15961%5D%2C%20%5B37.248249%2C%20-80.20476500000002%5D%2C%20%5B34.003767%2C%20-118.281198%5D%2C%20%5B41.08137%2C%20-111.91128%5D%2C%20%5B39.77644%2C%20-75.34186700000002%5D%2C%20%5B33.77429%2C%20-118.206931%5D%2C%20%5B32.815204%2C%20-96.722346%5D%2C%20%5B39.979104%2C%20-75.834536%5D%2C%20%5B39.240147%2C%20-76.610519%5D%2C%20%5B41.69299%2C%20-71.47666%5D%2C%20%5B38.770333%2C%20-77.44666099999998%5D%2C%20%5B34.977299%2C%20-82.194019%5D%2C%20%5B37.756389%2C%20-121.347453%5D%2C%20%5B39.866597%2C%20-86.047313%5D%2C%20%5B33.039227000000004%2C%20-80.14317%5D%2C%20%5B36.998873%2C%20-76.408163%5D%2C%20%5B32.983090000000004%2C%20-80.07857%5D%2C%20%5B28.667716%2C%20-81.838081%5D%2C%20%5B34.117494%2C%20-117.855059%5D%2C%20%5B44.896584%2C%20-93.179351%5D%2C%20%5B42.459828%2C%20-123.023441%5D%2C%20%5B34.067848%2C%20-80.912187%5D%2C%20%5B34.174116999999995%2C%20-118.159691%5D%2C%20%5B29.655459000000004%2C%20-95.563731%5D%2C%20%5B26.631553000000004%2C%20-80.067753%5D%2C%20%5B26.714967%2C%20-81.80305%5D%2C%20%5B38.816763%2C%20-77.44481%5D%2C%20%5B25.488306%2C%20-80.457488%5D%2C%20%5B37.552435%2C%20-77.439317%5D%2C%20%5B40.602876%2C%20-77.608925%5D%2C%20%5B40.116185%2C%20-77.370938%5D%2C%20%5B40.421714%2C%20-80.096988%5D%2C%20%5B38.8436%2C%20-77.636078%5D%2C%20%5B38.728361%2C%20-120.837087%5D%2C%20%5B43.02928%2C%20-88.04756%5D%2C%20%5B34.54484%2C%20-118.127839%5D%2C%20%5B40.72694%2C%20-74.22622%5D%2C%20%5B42.435393%2C%20-87.825239%5D%2C%20%5B30.216225%2C%20-93.335114%5D%2C%20%5B45.73913%2C%20-119.077818%5D%2C%20%5B37.983823%2C%20-121.26666000000002%5D%2C%20%5B45.57915%2C%20-118.60289%5D%2C%20%5B34.409296999999995%2C%20-118.57658700000002%5D%2C%20%5B40.91713%2C%20-73.871115%5D%2C%20%5B41.708709000000006%2C%20-87.592986%5D%2C%20%5B39.12061%2C%20-84.52622%5D%2C%20%5B34.64826%2C%20-92.363452%5D%2C%20%5B42.905019%2C%20-78.766963%5D%2C%20%5B40.68785%2C%20-73.59241999999998%5D%2C%20%5B35.28867%2C%20-80.7298%5D%2C%20%5B44.949862%2C%20-93.101886%5D%2C%20%5B34.117451%2C%20-117.200807%5D%2C%20%5B34.067207%2C%20-117.55806499999998%5D%2C%20%5B32.77772%2C%20-96.783403%5D%2C%20%5B41.25576%2C%20-81.35899%5D%2C%20%5B40.78125%2C%20-73.94422%5D%2C%20%5B26.80836%2C%20-80.13128%5D%2C%20%5B25.785313%2C%20-80.215021%5D%2C%20%5B42.9222%2C%20-71.37508000000003%5D%2C%20%5B35.364645%2C%20-119.040111%5D%2C%20%5B39.005229%2C%20-77.02287199999998%5D%2C%20%5B38.22655%2C%20-85.72044%5D%2C%20%5B42.19462%2C%20-88.08955%5D%2C%20%5B36.149449%2C%20-94.186237%5D%2C%20%5B30.421284000000004%2C%20-91.12477%5D%2C%20%5B34.016789%2C%20-118.174583%5D%2C%20%5B30.439740000000004%2C%20-91.007449%5D%2C%20%5B34.008016999999995%2C%20-118.157669%5D%2C%20%5B33.106065%2C%20-117.093819%5D%2C%20%5B41.79516%2C%20-88.36793%5D%2C%20%5B36.478866%2C%20-119.120828%5D%2C%20%5B34.039390000000004%2C%20-118.37724%5D%2C%20%5B33.988551%2C%20-118.065382%5D%2C%20%5B35.90199000000001%2C%20-78.79065%5D%2C%20%5B37.53414%2C%20-77.43%5D%2C%20%5B40.152374%2C%20-75.06361%5D%2C%20%5B42.35689%2C%20-83.07951%5D%2C%20%5B38.846937%2C%20-77.008098%5D%2C%20%5B25.94214%2C%20-80.43896%5D%2C%20%5B32.315111%2C%20-81.088475%5D%2C%20%5B39.667392%2C%20-86.091989%5D%2C%20%5B34.103007%2C%20-79.937471%5D%2C%20%5B42.261153%2C%20-111.400777%5D%2C%20%5B43.11519000000001%2C%20-76.14551%5D%2C%20%5B38.93456%2C%20-94.68786%5D%2C%20%5B43.671334%2C%20-123.792348%5D%2C%20%5B38.028786%2C%20-120.613518%5D%2C%20%5B39.64321%2C%20-105.17653%5D%2C%20%5B34.13625%2C%20-117.479425%5D%2C%20%5B35.870556%2C%20-120.829444%5D%2C%20%5B39.704305%2C%20-86.104281%5D%2C%20%5B34.006742%2C%20-117.826647%5D%2C%20%5B28.432342%2C%20-81.25706%5D%2C%20%5B32.759395%2C%20-97.032269%5D%2C%20%5B36.450737%2C%20-119.489632%5D%2C%20%5B28.218323%2C%20-82.736769%5D%2C%20%5B41.066108%2C%20-111.969665%5D%2C%20%5B30.384142%2C%20-91.094983%5D%2C%20%5B33.717792%2C%20-84.238951%5D%2C%20%5B32.704313%2C%20-111.480427%5D%2C%20%5B33.95851500000001%2C%20-118.239103%5D%2C%20%5B44.277575%2C%20-92.919763%5D%2C%20%5B41.377505%2C%20-74.10324399999998%5D%2C%20%5B35.56709%2C%20-82.54456%5D%2C%20%5B36.90181%2C%20-121.748181%5D%2C%20%5B35.05041%2C%20-80.86809000000002%5D%2C%20%5B39.446356%2C%20-76.331999%5D%2C%20%5B38.581284%2C%20-122.596257%5D%2C%20%5B30.453368%2C%20-91.270586%5D%2C%20%5B28.661759000000004%2C%20-81.399%5D%2C%20%5B29.600214%2C%20-95.287528%5D%2C%20%5B26.071017%2C%20-80.166667%5D%2C%20%5B37.520056%2C%20-122.354542%5D%2C%20%5B33.998296999999994%2C%20-81.043311%5D%2C%20%5B37.679767%2C%20-122.051897%5D%2C%20%5B25.954565%2C%20-80.240534%5D%2C%20%5B32.761598%2C%20-117.165276%5D%2C%20%5B33.77818%2C%20-117.86641000000002%5D%2C%20%5B33.85692%2C%20-117.535518%5D%2C%20%5B38.105817%2C%20-122.520595%5D%2C%20%5B45.522671%2C%20-118.441116%5D%2C%20%5B33.959045%2C%20-117.309499%5D%2C%20%5B34.445956%2C%20-118.50568%5D%2C%20%5B41.9015%2C%20-87.92034%5D%2C%20%5B25.775946%2C%20-80.320225%5D%2C%20%5B30.208901%2C%20-97.623467%5D%2C%20%5B32.653841%2C%20-96.756486%5D%2C%20%5B30.453151%2C%20-91.166066%5D%2C%20%5B33.719494%2C%20-117.795211%5D%2C%20%5B37.901891%2C%20-121.285743%5D%2C%20%5B29.96932%2C%20-90.068786%5D%2C%20%5B25.785363%2C%20-80.214896%5D%2C%20%5B37.741069%2C%20-121.510268%5D%2C%20%5B44.517556%2C%20-119.671658%5D%2C%20%5B36.776336%2C%20-78.028002%5D%2C%20%5B36.012875%2C%20-87.37514%5D%2C%20%5B28.436222%2C%20-81.368369%5D%2C%20%5B38.113054%2C%20-122.229919%5D%2C%20%5B40.836341%2C%20-73.874255%5D%2C%20%5B40.064438%2C%20-75.125866%5D%2C%20%5B38.876498%2C%20-77.277061%5D%2C%20%5B40.786877%2C%20-77.71576%5D%2C%20%5B41.53530900000001%2C%20-73.733349%5D%2C%20%5B42.58056%2C%20-71.15439%5D%2C%20%5B34.030190000000005%2C%20-118.408253%5D%2C%20%5B34.973975%2C%20-82.200307%5D%2C%20%5B34.117489%2C%20-117.84632%5D%2C%20%5B34.012867%2C%20-117.344123%5D%2C%20%5B30.413968%2C%20-87.27623299999998%5D%2C%20%5B33.69325300000001%2C%20-117.928959%5D%2C%20%5B35.211725%2C%20-80.690433%5D%2C%20%5B27.44775%2C%20-82.56718000000002%5D%2C%20%5B25.888278%2C%20-80.164008%5D%2C%20%5B41.499449%2C%20-95.500813%5D%2C%20%5B28.450523%2C%20-81.39789499999998%5D%2C%20%5B36.144064%2C%20-86.697288%5D%2C%20%5B41.59372000000001%2C%20-88.073901%5D%2C%20%5B41.421051%2C%20-73.388646%5D%2C%20%5B45.01258%2C%20-122.99246%5D%2C%20%5B40.554111%2C%20-74.31782199999998%5D%2C%20%5B39.769094%2C%20-94.846683%5D%2C%20%5B44.951945%2C%20-93.273174%5D%2C%20%5B38.34586%2C%20-85.75404%5D%2C%20%5B40.117851%2C%20-75.35476899999998%5D%2C%20%5B37.504988%2C%20-122.486433%5D%2C%20%5B33.034858%2C%20-80.402116%5D%2C%20%5B38.678492%2C%20-121.234993%5D%2C%20%5B38.033176%2C%20-75.780826%5D%2C%20%5B25.77056%2C%20-80.319%5D%2C%20%5B26.643226%2C%20-81.62559300000002%5D%2C%20%5B45.023398%2C%20-122.975455%5D%2C%20%5B30.167129%2C%20-82.576295%5D%2C%20%5B40.79489%2C%20-73.8252%5D%2C%20%5B38.439141%2C%20-122.587197%5D%2C%20%5B39.106498%2C%20-94.811082%5D%2C%20%5B35.175566%2C%20-120.697201%5D%2C%20%5B39.673016%2C%20-105.97088%5D%2C%20%5B40.28467%2C%20-111.73362%5D%2C%20%5B38.543906%2C%20-90.173431%5D%2C%20%5B36.06362%2C%20-80.31066%5D%2C%20%5B42.377207%2C%20-87.85548%5D%2C%20%5B37.521701%2C%20-120.798054%5D%2C%20%5B34.020212%2C%20-117.814998%5D%2C%20%5B33.73263%2C%20-117.98941%5D%2C%20%5B35.007151%2C%20-85.20353399999998%5D%2C%20%5B26.11931400000001%2C%20-80.168516%5D%2C%20%5B37.472113%2C%20-122.204504%5D%2C%20%5B41.37128%2C%20-84.04816%5D%2C%20%5B39.314335%2C%20-104.88499%5D%2C%20%5B47.58663%2C%20-122.17931000000002%5D%2C%20%5B36.29052100000001%2C%20-119.205487%5D%2C%20%5B38.85436%2C%20-104.878462%5D%2C%20%5B40.63625%2C%20-111.45009%5D%2C%20%5B47.90373%2C%20-94.24547%5D%2C%20%5B38.669581%2C%20-77.260144%5D%2C%20%5B34.067681%2C%20-117.981357%5D%2C%20%5B28.259668%2C%20-81.438311%5D%2C%20%5B40.215507%2C%20-79.621964%5D%2C%20%5B38.459626%2C%20-77.40952800000002%5D%2C%20%5B35.886529%2C%20-86.478098%5D%2C%20%5B30.087659%2C%20-81.46148199999998%5D%2C%20%5B39.18688%2C%20-76.68065%5D%2C%20%5B40.906124%2C%20-73.813548%5D%2C%20%5B37.350806%2C%20-120.623878%5D%2C%20%5B34.226802%2C%20-118.377771%5D%2C%20%5B42.32011%2C%20-88.01321999999998%5D%2C%20%5B34.011523%2C%20-117.498941%5D%2C%20%5B36.038063%2C%20-79.82486800000002%5D%2C%20%5B34.406156%2C%20-119.545039%5D%2C%20%5B36.970886%2C%20-121.897173%5D%2C%20%5B41.90033%2C%20-87.66023%5D%2C%20%5B39.579608%2C%20-123.772017%5D%2C%20%5B40.39828%2C%20-79.422923%5D%2C%20%5B36.05148%2C%20-86.66975699999998%5D%2C%20%5B41.091088%2C%20-77.533811%5D%2C%20%5B29.746888%2C%20-95.366531%5D%2C%20%5B45.07591%2C%20-93.32651%5D%2C%20%5B28.407949%2C%20-81.42491899999997%5D%2C%20%5B37.196784%2C%20-93.282357%5D%2C%20%5B33.55639%2C%20-86.783466%5D%2C%20%5B45.57719%2C%20-122.67985%5D%2C%20%5B30.572975%2C%20-87.291836%5D%2C%20%5B37.371693%2C%20-120.67741399999998%5D%2C%20%5B47.23463%2C%20-122.43317%5D%2C%20%5B45.54143%2C%20-122.678672%5D%2C%20%5B45.838641%2C%20-95.548049%5D%2C%20%5B33.83722%2C%20-117.28763%5D%2C%20%5B41.052228%2C%20-73.80886600000002%5D%2C%20%5B44.42391%2C%20-122.77468%5D%2C%20%5B40.603365%2C%20-74.315497%5D%2C%20%5B42.816699%2C%20-87.952987%5D%2C%20%5B34.418634999999995%2C%20-81.874742%5D%2C%20%5B39.00321%2C%20-76.9719%5D%2C%20%5B44.545489%2C%20-122.989252%5D%2C%20%5B29.858413%2C%20-95.332102%5D%2C%20%5B33.71383%2C%20-117.96438%5D%2C%20%5B28.451602%2C%20-81.477678%5D%2C%20%5B43.303469%2C%20-73.73194000000002%5D%2C%20%5B39.265083%2C%20-76.56225%5D%2C%20%5B34.153811%2C%20-118.325999%5D%2C%20%5B39.056776%2C%20-76.83961%5D%2C%20%5B37.377655%2C%20-77.40872900000002%5D%2C%20%5B39.14213%2C%20-76.81813299999997%5D%2C%20%5B35.044172%2C%20-85.30403100000002%5D%2C%20%5B28.452939%2C%20-81.400159%5D%2C%20%5B33.675493%2C%20-117.858176%5D%2C%20%5B26.672372%2C%20-81.819463%5D%2C%20%5B35.28035%2C%20-82.118285%5D%2C%20%5B44.530352%2C%20-118.318028%5D%2C%20%5B40.41326%2C%20-80.008161%5D%2C%20%5B32.94895%2C%20-96.82331%5D%2C%20%5B34.15542%2C%20-118.40082%5D%2C%20%5B29.76807%2C%20-95.35602%5D%2C%20%5B35.802226%2C%20-86.38552800000002%5D%2C%20%5B34.289223%2C%20-118.226219%5D%2C%20%5B32.65951%2C%20-96.87216%5D%2C%20%5B33.474601%2C%20-112.266122%5D%2C%20%5B41.161743%2C%20-112.066536%5D%2C%20%5B34.373196%2C%20-117.423503%5D%2C%20%5B39.042269%2C%20-94.673801%5D%2C%20%5B40.129146%2C%20-75.336462%5D%2C%20%5B47.84466%2C%20-122.25858999999998%5D%2C%20%5B36.15912%2C%20-115.26241%5D%2C%20%5B42.945254%2C%20-83.59804399999999%5D%2C%20%5B33.603438%2C%20-80.576903%5D%2C%20%5B30.349114%2C%20-91.135365%5D%2C%20%5B35.4609%2C%20-86.053405%5D%2C%20%5B27.889675%2C%20-82.6732%5D%2C%20%5B39.159674%2C%20-122.995263%5D%2C%20%5B29.842273%2C%20-95.473121%5D%2C%20%5B34.030553000000005%2C%20-117.645994%5D%2C%20%5B40.506346%2C%20-111.413499%5D%2C%20%5B25.880138%2C%20-80.355719%5D%2C%20%5B33.61084%2C%20-92.75612%5D%2C%20%5B30.493534000000004%2C%20-91.124983%5D%2C%20%5B38.650991%2C%20-76.883441%5D%2C%20%5B35.669968%2C%20-78.80100999999998%5D%2C%20%5B32.78089600000001%2C%20-117.089871%5D%2C%20%5B40.753961%2C%20-73.744505%5D%2C%20%5B30.489066%2C%20-84.02029300000002%5D%2C%20%5B33.891372%2C%20-84.260184%5D%2C%20%5B39.08315%2C%20-75.86354%5D%2C%20%5B35.745917%2C%20-78.59321899999998%5D%2C%20%5B25.92466%2C%20-80.3138%5D%2C%20%5B40.117755%2C%20-75.06843%5D%2C%20%5B37.883449%2C%20-112.802481%5D%2C%20%5B26.230332%2C%20-80.13632199999998%5D%2C%20%5B37.881916%2C%20-122.308259%5D%2C%20%5B42.268904%2C%20-84.446653%5D%2C%20%5B29.91013%2C%20-90.18213%5D%2C%20%5B28.565719%2C%20-81.120801%5D%2C%20%5B42.69043%2C%20-122.60063%5D%2C%20%5B42.151276%2C%20-88.536829%5D%2C%20%5B38.229598%2C%20-86.69178199999998%5D%2C%20%5B40.763825%2C%20-73.62521600000002%5D%2C%20%5B36.06245%2C%20-79.57106%5D%2C%20%5B33.927303%2C%20-118.260699%5D%2C%20%5B33.90784%2C%20-118.06779%5D%2C%20%5B38.90965%2C%20-104.7112%5D%2C%20%5B33.069140000000004%2C%20-117.0693%5D%2C%20%5B25.68634%2C%20-80.38731999999997%5D%2C%20%5B41.145583%2C%20-73.261298%5D%2C%20%5B30.380547%2C%20-81.670624%5D%2C%20%5B32.814515%2C%20-96.793478%5D%2C%20%5B33.868457%2C%20-118.002358%5D%2C%20%5B41.592212%2C%20-93.802001%5D%2C%20%5B42.33581%2C%20-83.12875%5D%2C%20%5B37.490544%2C%20-122.389534%5D%2C%20%5B27.388188%2C%20-82.460909%5D%2C%20%5B28.302851%2C%20-82.147701%5D%2C%20%5B37.824412%2C%20-122.26851%5D%2C%20%5B33.929475%2C%20-118.246243%5D%2C%20%5B33.906521000000005%2C%20-81.241336%5D%2C%20%5B34.13528400000001%2C%20-117.979247%5D%2C%20%5B32.975390000000004%2C%20-96.82331%5D%2C%20%5B25.626174%2C%20-80.415521%5D%2C%20%5B34.522818%2C%20-82.150261%5D%2C%20%5B39.059196%2C%20-76.924413%5D%2C%20%5B34.902958%2C%20-82.350177%5D%2C%20%5B42.680887%2C%20-73.773077%5D%2C%20%5B37.42262%2C%20-120.766342%5D%2C%20%5B40.79763%2C%20-73.92004%5D%2C%20%5B38.6265%2C%20-76.910682%5D%2C%20%5B32.81187%2C%20-117.15186%5D%2C%20%5B34.046178999999995%2C%20-118.449613%5D%2C%20%5B41.76945%2C%20-72.666159%5D%2C%20%5B32.759711%2C%20-97.037061%5D%2C%20%5B34.189224%2C%20-118.178473%5D%2C%20%5B34.173649%2C%20-118.518531%5D%2C%20%5B25.784885%2C%20-80.303886%5D%2C%20%5B28.35741%2C%20-81.49181%5D%2C%20%5B25.799719%2C%20-80.244019%5D%2C%20%5B34.012878%2C%20-117.344125%5D%2C%20%5B29.969794%2C%20-90.039592%5D%2C%20%5B33.41232%2C%20-86.806209%5D%2C%20%5B41.79321%2C%20-87.72314%5D%2C%20%5B28.59736%2C%20-81.245926%5D%2C%20%5B38.31998%2C%20-122.31611399999998%5D%2C%20%5B42.78353%2C%20-87.9538%5D%2C%20%5B41.85357%2C%20-87.64504000000002%5D%2C%20%5B42.950867%2C%20-78.711773%5D%2C%20%5B38.560722%2C%20-121.480876%5D%2C%20%5B34.91075%2C%20-82.11233%5D%2C%20%5B35.753318%2C%20-78.635547%5D%2C%20%5B25.686405%2C%20-80.35164499999998%5D%2C%20%5B39.204977%2C%20-76.565174%5D%2C%20%5B43.945613%2C%20-95.943643%5D%2C%20%5B30.4611%2C%20-87.30091%5D%2C%20%5B28.757825%2C%20-81.290913%5D%2C%20%5B40.846768%2C%20-73.87146%5D%2C%20%5B38.432531%2C%20-122.70578700000002%5D%2C%20%5B27.821978%2C%20-82.683818%5D%2C%20%5B29.43791%2C%20-98.46096%5D%2C%20%5B41.206231%2C%20-111.985326%5D%2C%20%5B32.86842%2C%20-80.027153%5D%2C%20%5B34.896947%2C%20-82.45843%5D%2C%20%5B29.844857%2C%20-95.262307%5D%2C%20%5B41.450082%2C%20-87.075117%5D%2C%20%5B40.73213%2C%20-73.84300999999998%5D%2C%20%5B25.80591%2C%20-80.32101%5D%2C%20%5B30.420754%2C%20-91.123564%5D%2C%20%5B33.964983000000004%2C%20-80.444223%5D%2C%20%5B41.025144%2C%20-80.432252%5D%2C%20%5B35.390741%2C%20-119.14552%5D%2C%20%5B39.6949%2C%20-86.19034%5D%2C%20%5B33.911172%2C%20-118.370558%5D%2C%20%5B33.887425%2C%20-118.104518%5D%2C%20%5B28.603042%2C%20-81.313151%5D%2C%20%5B33.855303%2C%20-117.875307%5D%2C%20%5B39.082152%2C%20-77.17228%5D%2C%20%5B39.099479%2C%20-94.87885%5D%2C%20%5B43.58268%2C%20-73.65114%5D%2C%20%5B34.947396999999995%2C%20-87.779765%5D%2C%20%5B35.894559%2C%20-78.620779%5D%2C%20%5B31.7723%2C%20-81.37968000000002%5D%2C%20%5B34.891994%2C%20-82.407105%5D%2C%20%5B32.801957%2C%20-96.803921%5D%2C%20%5B41.97545%2C%20-87.736857%5D%2C%20%5B43.638843%2C%20-95.188325%5D%2C%20%5B39.838954%2C%20-75.15256%5D%2C%20%5B37.780886%2C%20-122.173608%5D%2C%20%5B37.866157%2C%20-122.0275%5D%2C%20%5B39.751995%2C%20-83.315783%5D%2C%20%5B33.909186%2C%20-118.326501%5D%2C%20%5B26.164226%2C%20-81.68677%5D%2C%20%5B37.991685%2C%20-121.765042%5D%2C%20%5B39.95939%2C%20-75.17387%5D%2C%20%5B41.665273%2C%20-87.747598%5D%2C%20%5B41.059025%2C%20-75.9375%5D%2C%20%5B40.437058%2C%20-111.896106%5D%2C%20%5B39.105265%2C%20-121.005392%5D%2C%20%5B41.96128%2C%20-112.69362%5D%2C%20%5B40.155469%2C%20-80.19793100000003%5D%2C%20%5B42.93656%2C%20-78.76644%5D%2C%20%5B40.507918%2C%20-111.89132%5D%2C%20%5B44.926969%2C%20-93.144884%5D%2C%20%5B40.492503%2C%20-121.887248%5D%2C%20%5B33.550387%2C%20-86.772562%5D%2C%20%5B33.868821000000004%2C%20-117.730125%5D%2C%20%5B34.067876%2C%20-118.256309%5D%2C%20%5B44.87395%2C%20-93.247173%5D%2C%20%5B38.601169%2C%20-121.505447%5D%2C%20%5B33.393128000000004%2C%20-111.967384%5D%2C%20%5B45.14392%2C%20-92.99793%5D%2C%20%5B41.230605%2C%20-74.17813100000002%5D%2C%20%5B32.774246999999995%2C%20-96.790342%5D%2C%20%5B30.643294%2C%20-84.36222%5D%2C%20%5B33.036009%2C%20-96.992867%5D%2C%20%5B40.427523%2C%20-80.02348%5D%2C%20%5B28.535581%2C%20-81.39308%5D%2C%20%5B40.77079000000001%2C%20-74.062522%5D%2C%20%5B36.787098%2C%20-119.700233%5D%2C%20%5B35.21400999999999%2C%20-80.77125%5D%2C%20%5B38.80473%2C%20-77.16048%5D%2C%20%5B34.048533%2C%20-117.549707%5D%2C%20%5B47.15908%2C%20-122.48356%5D%2C%20%5B39.748009%2C%20-86.03613399999998%5D%2C%20%5B25.749494%2C%20-80.287338%5D%2C%20%5B34.201239%2C%20-118.403727%5D%2C%20%5B29.737751%2C%20-95.496342%5D%2C%20%5B40.571147%2C%20-74.674082%5D%2C%20%5B34.771589%2C%20-82.272738%5D%2C%20%5B34.0692%2C%20-80.97619%5D%2C%20%5B32.673811%2C%20-117.082829%5D%2C%20%5B40.08651%2C%20-75.40057%5D%2C%20%5B29.801692%2C%20-95.434508%5D%2C%20%5B33.654647%2C%20-80.408636%5D%2C%20%5B28.539444%2C%20-81.302164%5D%2C%20%5B40.845376%2C%20-99.989801%5D%2C%20%5B41.83542%2C%20-87.60776%5D%2C%20%5B33.94851%2C%20-117.301495%5D%2C%20%5B45.226539%2C%20-122.77523%5D%2C%20%5B36.08231%2C%20-79.82978%5D%2C%20%5B33.790988%2C%20-118.293567%5D%2C%20%5B40.77092%2C%20-112.147029%5D%2C%20%5B37.547303%2C%20-77.430518%5D%2C%20%5B36.960297%2C%20-76.521091%5D%2C%20%5B40.74362%2C%20-74.15748%5D%2C%20%5B33.825627000000004%2C%20-118.228522%5D%2C%20%5B29.747317%2C%20-95.501104%5D%2C%20%5B33.873434%2C%20-118.01006%5D%2C%20%5B39.665244%2C%20-75.381378%5D%2C%20%5B33.854302000000004%2C%20-117.805351%5D%2C%20%5B28.027059%2C%20-82.15357900000002%5D%2C%20%5B37.987707%2C%20-121.750928%5D%2C%20%5B45.464855%2C%20-94.130902%5D%2C%20%5B39.03699%2C%20-94.68329%5D%2C%20%5B38.55373400000001%2C%20-121.375841%5D%2C%20%5B39.83844000000001%2C%20-104.98354%5D%2C%20%5B25.78857%2C%20-80.20727%5D%2C%20%5B34.876338%2C%20-120.418797%5D%2C%20%5B43.175799%2C%20-77.57673%5D%2C%20%5B25.92782%2C%20-80.20551999999998%5D%2C%20%5B33.990365000000004%2C%20-118.358633%5D%2C%20%5B33.659094%2C%20-117.901421%5D%2C%20%5B35.73742%2C%20-78.793634%5D%2C%20%5B32.365737%2C%20-86.27878100000002%5D%2C%20%5B25.685217%2C%20-80.41773%5D%2C%20%5B33.86068%2C%20-84.48093%5D%2C%20%5B40.73592100000001%2C%20-73.858303%5D%2C%20%5B35.807029%2C%20-90.642904%5D%2C%20%5B36.14893%2C%20-86.77733%5D%2C%20%5B36.150306%2C%20-119.493019%5D%2C%20%5B38.87442%2C%20-104.81967%5D%2C%20%5B41.574255%2C%20-87.514627%5D%2C%20%5B33.715963%2C%20-117.967246%5D%2C%20%5B41.753306%2C%20-71.464347%5D%2C%20%5B36.822041%2C%20-76.334391%5D%2C%20%5B35.053671%2C%20-118.993338%5D%2C%20%5B42.34546%2C%20-122.881425%5D%2C%20%5B45.984896%2C%20-107.996045%5D%2C%20%5B38.01699%2C%20-121.99114%5D%2C%20%5B36.767084%2C%20-119.779625%5D%2C%20%5B38.902924%2C%20-77.02216700000002%5D%2C%20%5B39.94990900000001%2C%20-77.15123100000002%5D%2C%20%5B39.292018%2C%20-121.59490900000002%5D%2C%20%5B39.135594%2C%20-94.586957%5D%2C%20%5B45.306404%2C%20-121.701575%5D%2C%20%5B32.133924%2C%20-111.008175%5D%2C%20%5B28.552931%2C%20-81.412013%5D%2C%20%5B47.812809%2C%20-121.583748%5D%2C%20%5B29.959953%2C%20-90.090025%5D%2C%20%5B32.936207%2C%20-96.902257%5D%2C%20%5B30.641341%2C%20-88.11897900000002%5D%2C%20%5B42.049291%2C%20-122.607051%5D%2C%20%5B34.030373%2C%20-117.689518%5D%2C%20%5B33.640211%2C%20-117.084764%5D%2C%20%5B25.842546%2C%20-80.24974399999998%5D%2C%20%5B43.59717%2C%20-116.304428%5D%2C%20%5B42.073291%2C%20-122.605952%5D%2C%20%5B32.807476%2C%20-96.831792%5D%2C%20%5B30.43999%2C%20-91.20627%5D%2C%20%5B29.960829%2C%20-90.076392%5D%2C%20%5B38.92926%2C%20-77.51890999999998%5D%2C%20%5B25.748667%2C%20-80.367903%5D%2C%20%5B36.96122%2C%20-81.09456%5D%2C%20%5B44.83001%2C%20-93.16736%5D%2C%20%5B25.598639%2C%20-80.35282%5D%2C%20%5B26.003249%2C%20-80.167066%5D%2C%20%5B33.743174%2C%20-117.122661%5D%2C%20%5B34.55522%2C%20-84.93423%5D%2C%20%5B39.73167%2C%20-84.2058%5D%2C%20%5B37.757649%2C%20-122.211208%5D%2C%20%5B37.335145%2C%20-80.751269%5D%2C%20%5B45.60569%2C%20-122.68406%5D%2C%20%5B25.943633%2C%20-80.205311%5D%2C%20%5B35.23826%2C%20-80.73731%5D%2C%20%5B40.80871%2C%20-111.40765%5D%2C%20%5B38.271141%2C%20-122.858993%5D%2C%20%5B33.521693%2C%20-81.913657%5D%2C%20%5B34.028152%2C%20-117.717695%5D%2C%20%5B34.120675%2C%20-117.907588%5D%2C%20%5B38.412677%2C%20-85.764888%5D%2C%20%5B38.55788%2C%20-121.448376%5D%2C%20%5B37.509853%2C%20-122.25166000000002%5D%2C%20%5B25.845911%2C%20-80.248182%5D%2C%20%5B41.800134%2C%20-87.733488%5D%2C%20%5B46.919336%2C%20-112.120548%5D%2C%20%5B32.338987%2C%20-93.895404%5D%2C%20%5B37.800167%2C%20-122.225013%5D%2C%20%5B38.524982%2C%20-121.45472%5D%2C%20%5B40.779179%2C%20-73.013302%5D%2C%20%5B44.52505%2C%20-87.9829%5D%2C%20%5B27.440339%2C%20-82.57998%5D%2C%20%5B38.60843%2C%20-121.416959%5D%2C%20%5B38.736285%2C%20-121.199489%5D%2C%20%5B37.752506%2C%20-122.40301%5D%2C%20%5B27.41665%2C%20-82.251936%5D%2C%20%5B33.132042%2C%20-117.121484%5D%2C%20%5B25.670988%2C%20-80.413044%5D%2C%20%5B33.701583%2C%20-111.925301%5D%2C%20%5B29.842691%2C%20-95.390893%5D%2C%20%5B37.679787%2C%20-113.061746%5D%2C%20%5B42.457923%2C%20-71.102238%5D%2C%20%5B25.943287%2C%20-80.187758%5D%2C%20%5B45.566518%2C%20-122.678513%5D%2C%20%5B33.085021000000005%2C%20-117.298465%5D%2C%20%5B28.354123%2C%20-82.28275500000002%5D%2C%20%5B44.817749%2C%20-122.795294%5D%2C%20%5B28.5396%2C%20-81.29038%5D%2C%20%5B40.144002%2C%20-79.03277%5D%2C%20%5B40.013992%2C%20-75.056067%5D%2C%20%5B34.02367%2C%20-117.749385%5D%2C%20%5B45.06654%2C%20-93.16972%5D%2C%20%5B32.6724%2C%20-114.303316%5D%2C%20%5B40.041241%2C%20-76.289691%5D%2C%20%5B39.869884000000006%2C%20-86.28220300000002%5D%2C%20%5B36.595835%2C%20-121.545988%5D%2C%20%5B28.575649%2C%20-81.50799599999998%5D%2C%20%5B40.30079%2C%20-75.28809%5D%2C%20%5B38.678498%2C%20-121.26219%5D%2C%20%5B33.74971%2C%20-118.01095%5D%2C%20%5B40.754781%2C%20-73.54976500000002%5D%2C%20%5B32.83415%2C%20-97.19991%5D%2C%20%5B39.783651%2C%20-86.163949%5D%2C%20%5B40.764616%2C%20-73.721451%5D%2C%20%5B32.738048%2C%20-97.460839%5D%2C%20%5B35.23215%2C%20-80.84484%5D%2C%20%5B43.227187%2C%20-73.488499%5D%2C%20%5B37.673188%2C%20-122.126519%5D%2C%20%5B32.74523%2C%20-117.18817%5D%2C%20%5B35.782329%2C%20-78.655339%5D%2C%20%5B29.980648%2C%20-82.579411%5D%2C%20%5B41.86603%2C%20-71.4027%5D%2C%20%5B36.778085%2C%20-76.439231%5D%2C%20%5B33.854287%2C%20-117.79512%5D%2C%20%5B32.897774%2C%20-96.902079%5D%2C%20%5B42.2065%2C%20-85.88639%5D%2C%20%5B42.947713%2C%20-78.652249%5D%2C%20%5B33.739740000000005%2C%20-84.23066999999998%5D%2C%20%5B35.21978%2C%20-80.82568%5D%2C%20%5B25.627141%2C%20-80.383572%5D%2C%20%5B38.879177%2C%20-76.996723%5D%2C%20%5B32.273825%2C%20-110.972112%5D%2C%20%5B35.98484000000001%2C%20-78.65875%5D%2C%20%5B41.87293%2C%20-88.19476999999998%5D%2C%20%5B37.378224%2C%20-122.068029%5D%2C%20%5B40.785%2C%20-73.94091%5D%2C%20%5B39.389601%2C%20-76.533776%5D%2C%20%5B33.874272%2C%20-118.195735%5D%2C%20%5B45.796924%2C%20-119.403855%5D%2C%20%5B30.236332%2C%20-97.846936%5D%2C%20%5B46.88348%2C%20-122.96496%5D%2C%20%5B33.936192%2C%20-118.046571%5D%2C%20%5B29.78478%2C%20-95.50667%5D%2C%20%5B47.15822%2C%20-122.4403%5D%2C%20%5B34.06915%2C%20-118.04246299999998%5D%2C%20%5B47.60175%2C%20-122.33417%5D%2C%20%5B37.987709%2C%20-121.750947%5D%2C%20%5B40.109996%2C%20-75.344501%5D%2C%20%5B40.009684%2C%20-123.790342%5D%2C%20%5B33.89363400000001%2C%20-118.047127%5D%2C%20%5B38.938862%2C%20-76.913169%5D%2C%20%5B34.955684000000005%2C%20-118.935478%5D%2C%20%5B37.791288%2C%20-121.189561%5D%2C%20%5B42.79403%2C%20-78.77614%5D%2C%20%5B37.420281%2C%20-79.11946800000003%5D%2C%20%5B37.38855%2C%20-79.90503000000002%5D%2C%20%5B34.03853%2C%20-118.22796%5D%2C%20%5B33.134883%2C%20-117.130147%5D%2C%20%5B40.023676%2C%20-75.625811%5D%2C%20%5B35.65504400000001%2C%20-80.463341%5D%2C%20%5B35.155840000000005%2C%20-80.793832%5D%2C%20%5B39.24236%2C%20-76.67101%5D%2C%20%5B34.146212%2C%20-118.224951%5D%2C%20%5B25.731925%2C%20-80.317114%5D%2C%20%5B40.659509%2C%20-74.287308%5D%2C%20%5B38.054056%2C%20-121.259207%5D%2C%20%5B40.924683%2C%20-73.826419%5D%2C%20%5B29.625518%2C%20-95.284541%5D%2C%20%5B25.765717%2C%20-80.363747%5D%2C%20%5B26.725375%2C%20-81.906512%5D%2C%20%5B37.371289%2C%20-120.590219%5D%2C%20%5B37.784809%2C%20-121.306773%5D%2C%20%5B36.15787%2C%20-86.771446%5D%2C%20%5B47.46234000000001%2C%20-122.25001%5D%2C%20%5B35.054594%2C%20-81.992393%5D%2C%20%5B39.401577%2C%20-75.868492%5D%2C%20%5B26.11546%2C%20-80.16860600000003%5D%2C%20%5B28.545216%2C%20-81.59843000000002%5D%2C%20%5B34.143491%2C%20-117.256422%5D%2C%20%5B32.85557%2C%20-96.77053%5D%2C%20%5B32.893313%2C%20-80.01848100000002%5D%2C%20%5B41.75952%2C%20-72.64124%5D%2C%20%5B37.52291%2C%20-77.44104%5D%2C%20%5B34.103055%2C%20-117.863308%5D%2C%20%5B34.067840999999994%2C%20-117.403196%5D%2C%20%5B36.177556%2C%20-86.773126%5D%2C%20%5B28.08774600000001%2C%20-82.739329%5D%2C%20%5B35.2144%2C%20-80.923303%5D%2C%20%5B40.28059%2C%20-74.08622%5D%2C%20%5B34.03119%2C%20-118.03068%5D%2C%20%5B45.404226%2C%20-122.78447%5D%2C%20%5B26.667277%2C%20-81.88809499999998%5D%2C%20%5B32.928302%2C%20-80.043915%5D%2C%20%5B41.9117%2C%20-88.18469%5D%2C%20%5B33.574603%2C%20-117.579949%5D%2C%20%5B36.151311%2C%20-86.751015%5D%2C%20%5B40.31245300000001%2C%20-121.222897%5D%2C%20%5B38.560809000000006%2C%20-121.462451%5D%2C%20%5B33.638605%2C%20-112.349839%5D%2C%20%5B40.852872%2C%20-73.959099%5D%2C%20%5B34.893318%2C%20-92.098034%5D%2C%20%5B35.66239%2C%20-118.02567%5D%2C%20%5B47.56535%2C%20-122.32124%5D%2C%20%5B39.924051%2C%20-86.21499%5D%2C%20%5B27.949379%2C%20-82.52699%5D%2C%20%5B25.843516%2C%20-80.226941%5D%2C%20%5B37.869523%2C%20-122.304749%5D%2C%20%5B30.441524%2C%20-91.220561%5D%2C%20%5B32.791343%2C%20-96.742315%5D%2C%20%5B44.97595%2C%20-93.34306%5D%2C%20%5B38.635114%2C%20-121.382873%5D%2C%20%5B35.26300999999999%2C%20-80.85473%5D%2C%20%5B43.047736%2C%20-83.60857800000002%5D%2C%20%5B38.90475%2C%20-121.07145%5D%2C%20%5B34.899786%2C%20-81.176135%5D%2C%20%5B32.734320000000004%2C%20-96.68297%5D%2C%20%5B38.79302%2C%20-77.04164%5D%2C%20%5B38.421191%2C%20-109.43272%5D%2C%20%5B33.397865%2C%20-86.778193%5D%2C%20%5B34.027159999999995%2C%20-117.811834%5D%2C%20%5B38.119522%2C%20-79.042156%5D%2C%20%5B25.751507%2C%20-80.335864%5D%2C%20%5B41.43097%2C%20-73.91642%5D%2C%20%5B45.34777%2C%20-122.76673999999998%5D%2C%20%5B31.706894%2C%20-106.315222%5D%2C%20%5B34.051512%2C%20-118.449225%5D%2C%20%5B28.407496%2C%20-81.403339%5D%2C%20%5B34.631875%2C%20-86.56709000000002%5D%2C%20%5B33.87375%2C%20-118.2216%5D%2C%20%5B36.676294%2C%20-121.676332%5D%2C%20%5B41.51875%2C%20-81.673969%5D%2C%20%5B34.074221%2C%20-81.148901%5D%2C%20%5B43.064927%2C%20-121.825242%5D%2C%20%5B44.628729%2C%20-123.06226%5D%2C%20%5B41.550699%2C%20-73.057213%5D%2C%20%5B37.968853%2C%20-121.69597%5D%2C%20%5B33.182792%2C%20-80.815612%5D%2C%20%5B25.885372%2C%20-80.21074499999997%5D%2C%20%5B28.610447%2C%20-81.42830500000002%5D%2C%20%5B26.499289%2C%20-80.079125%5D%2C%20%5B42.30228%2C%20-88.07498000000002%5D%2C%20%5B44.03026%2C%20-73.42520999999998%5D%2C%20%5B43.59337100000001%2C%20-116.382594%5D%2C%20%5B34.097926%2C%20-117.48443600000002%5D%2C%20%5B37.833263%2C%20-122.265881%5D%2C%20%5B42.39792%2C%20-82.98566%5D%2C%20%5B30.460694%2C%20-91.095151%5D%2C%20%5B33.909956%2C%20-84.359711%5D%2C%20%5B44.945431%2C%20-123.045834%5D%2C%20%5B39.85505%2C%20-78.13579%5D%2C%20%5B25.984824%2C%20-80.165706%5D%2C%20%5B35.08398%2C%20-85.062265%5D%2C%20%5B37.25404%2C%20-121.9476%5D%2C%20%5B39.220047%2C%20-120.086907%5D%2C%20%5B38.219887%2C%20-121.271751%5D%2C%20%5B38.46824%2C%20-121.39901%5D%2C%20%5B45.25364%2C%20-92.861619%5D%2C%20%5B40.61955800000001%2C%20-76.43950699999998%5D%2C%20%5B40.57015%2C%20-74.29159%5D%2C%20%5B34.133306%2C%20-118.352405%5D%2C%20%5B41.68150900000001%2C%20-83.59544100000002%5D%2C%20%5B40.20456%2C%20-104.94178%5D%2C%20%5B28.4499%2C%20-81.4997%5D%2C%20%5B44.49729%2C%20-95.75605%5D%2C%20%5B48.88993%2C%20-122.59325%5D%2C%20%5B44.41457%2C%20-121.69777%5D%2C%20%5B38.788718%2C%20-77.32758299999998%5D%2C%20%5B34.050862%2C%20-81.13219000000002%5D%2C%20%5B45.75279000000001%2C%20-123.96356000000002%5D%2C%20%5B25.68859%2C%20-80.31231%5D%2C%20%5B34.076542%2C%20-117.746029%5D%2C%20%5B41.55487%2C%20-87.311%5D%2C%20%5B38.74419%2C%20-90.40911%5D%2C%20%5B39.97091500000001%2C%20-75.19321%5D%2C%20%5B33.608774%2C%20-117.687909%5D%2C%20%5B32.314714%2C%20-86.336625%5D%2C%20%5B40.16697%2C%20-74.646617%5D%2C%20%5B37.63742%2C%20-121.79876000000002%5D%2C%20%5B42.37043%2C%20-87.88154%5D%2C%20%5B25.67375%2C%20-80.322502%5D%2C%20%5B37.56585%2C%20-120.994008%5D%2C%20%5B47.15908%2C%20-122.48378%5D%2C%20%5B25.76107%2C%20-80.390812%5D%2C%20%5B33.953835999999995%2C%20-118.170744%5D%2C%20%5B44.777908%2C%20-93.36804%5D%2C%20%5B33.508109999999995%2C%20-112.11238%5D%2C%20%5B34.378757%2C%20-118.565381%5D%2C%20%5B34.30187%2C%20-117.46039%5D%2C%20%5B38.507324%2C%20-122.988906%5D%2C%20%5B45.269889%2C%20-93.008285%5D%2C%20%5B41.154668%2C%20-74.188928%5D%2C%20%5B30.235532%2C%20-92.390425%5D%2C%20%5B44.898539%2C%20-123.228577%5D%2C%20%5B35.17434%2C%20-106.597003%5D%2C%20%5B40.168254%2C%20-75.292386%5D%2C%20%5B33.774764000000005%2C%20-118.086451%5D%2C%20%5B28.450981%2C%20-81.362061%5D%2C%20%5B36.32744%2C%20-86.631488%5D%2C%20%5B33.916425%2C%20-118.269578%5D%2C%20%5B33.81094%2C%20-118.292489%5D%2C%20%5B44.01017%2C%20-123.02177%5D%2C%20%5B45.30960200000001%2C%20-121.649841%5D%2C%20%5B38.64%2C%20-121.48245%5D%2C%20%5B37.490833%2C%20-76.43404100000002%5D%2C%20%5B37.26645%2C%20-121.94846%5D%2C%20%5B36.967125%2C%20-120.025142%5D%2C%20%5B29.693552%2C%20-82.19310300000002%5D%2C%20%5B41.34588%2C%20-73.65203000000002%5D%2C%20%5B37.189714%2C%20-119.725809%5D%2C%20%5B34.042952%2C%20-118.272653%5D%2C%20%5B25.730987%2C%20-80.33565300000002%5D%2C%20%5B45.49638%2C%20-123.66839%5D%2C%20%5B38.26046%2C%20-122.060481%5D%2C%20%5B47.011868%2C%20-122.691826%5D%2C%20%5B35.771138%2C%20-78.55686800000002%5D%2C%20%5B41.024906%2C%20-73.730688%5D%2C%20%5B29.945697%2C%20-90.096969%5D%2C%20%5B34.150167%2C%20-118.07258799999998%5D%2C%20%5B33.390955%2C%20-111.56338999999998%5D%2C%20%5B28.28537%2C%20-82.486901%5D%2C%20%5B32.529476%2C%20-93.870728%5D%2C%20%5B35.798854%2C%20-78.56775%5D%2C%20%5B25.898023%2C%20-80.24257%5D%2C%20%5B38.655742%2C%20-121.004898%5D%2C%20%5B29.60888%2C%20-95.61159%5D%2C%20%5B32.80567%2C%20-96.83816%5D%2C%20%5B25.948195%2C%20-80.245654%5D%2C%20%5B25.754591%2C%20-80.39690300000002%5D%2C%20%5B25.90097%2C%20-80.32434%5D%2C%20%5B25.629828%2C%20-80.30585699999997%5D%2C%20%5B25.731812%2C%20-80.335697%5D%2C%20%5B45.253996%2C%20-92.993009%5D%2C%20%5B33.814171%2C%20-118.170727%5D%2C%20%5B39.918578%2C%20-77.975287%5D%2C%20%5B37.126838%2C%20-120.25209%5D%2C%20%5B35.554558%2C%20-82.69976700000002%5D%2C%20%5B38.054172%2C%20-121.259209%5D%2C%20%5B33.912027%2C%20-118.072961%5D%2C%20%5B33.490559999999995%2C%20-111.95211%5D%2C%20%5B33.605269%2C%20-112.116904%5D%2C%20%5B39.77569%2C%20-104.86451%5D%2C%20%5B40.74198%2C%20-74.214848%5D%2C%20%5B37.55303%2C%20-77.48671%5D%2C%20%5B43.19888%2C%20-77.57699000000002%5D%2C%20%5B33.875688000000004%2C%20-118.159965%5D%2C%20%5B32.726146%2C%20-117.07308799999998%5D%2C%20%5B34.036981%2C%20-118.312787%5D%2C%20%5B27.5593%2C%20-80.717507%5D%2C%20%5B39.829849%2C%20-76.68503100000002%5D%2C%20%5B33.959563%2C%20-84.114527%5D%2C%20%5B38.988505%2C%20-94.7021%5D%2C%20%5B33.13918%2C%20-117.18029%5D%2C%20%5B44.429286%2C%20-94.716486%5D%2C%20%5B40.235694%2C%20-76.97322%5D%2C%20%5B41.58496%2C%20-72.05256999999997%5D%2C%20%5B38.012319%2C%20-122.272009%5D%2C%20%5B41.347172%2C%20-72.400818%5D%2C%20%5B25.601632%2C%20-80.377649%5D%2C%20%5B43.073828000000006%2C%20-83.762861%5D%2C%20%5B27.756927%2C%20-82.679351%5D%2C%20%5B41.81026%2C%20-71.40531%5D%2C%20%5B40.854474%2C%20-73.918751%5D%2C%20%5B45.363877%2C%20-122.606082%5D%2C%20%5B33.988941%2C%20-117.361096%5D%2C%20%5B29.9683%2C%20-90.069689%5D%2C%20%5B25.686817%2C%20-80.367808%5D%2C%20%5B34.028646%2C%20-118.213274%5D%2C%20%5B29.043731%2C%20-95.568936%5D%2C%20%5B40.868625%2C%20-73.82141700000003%5D%2C%20%5B39.050497%2C%20-120.655746%5D%2C%20%5B43.091694%2C%20-75.93133%5D%2C%20%5B28.448347%2C%20-81.599241%5D%2C%20%5B39.049586%2C%20-121.046001%5D%2C%20%5B29.0131%2C%20-81.2358%5D%2C%20%5B42.13208%2C%20-122.633067%5D%2C%20%5B42.491858%2C%20-96.426891%5D%2C%20%5B34.025138%2C%20-118.237801%5D%2C%20%5B32.107629%2C%20-110.772729%5D%2C%20%5B28.406686%2C%20-81.404539%5D%2C%20%5B29.00462700000001%2C%20-82.150537%5D%2C%20%5B36.302501%2C%20-119.13578%5D%2C%20%5B40.65307%2C%20-112.034393%5D%2C%20%5B39.734622%2C%20-123.257532%5D%2C%20%5B33.192411%2C%20-117.123109%5D%2C%20%5B34.072158%2C%20-118.052564%5D%2C%20%5B39.405931%2C%20-121.129578%5D%2C%20%5B28.551537%2C%20-81.53811999999998%5D%2C%20%5B32.797987%2C%20-96.807322%5D%2C%20%5B35.124188000000004%2C%20-85.311687%5D%2C%20%5B45.462842%2C%20-94.384291%5D%2C%20%5B42.456946%2C%20-122.819148%5D%2C%20%5B41.52631%2C%20-83.62123000000003%5D%2C%20%5B36.631218%2C%20-119.689272%5D%2C%20%5B39.144762%2C%20-94.561842%5D%2C%20%5B34.26965%2C%20-118.4467%5D%2C%20%5B35.24559%2C%20-80.89319%5D%2C%20%5B42.850717%2C%20-123.254803%5D%2C%20%5B34.026362%2C%20-118.249898%5D%2C%20%5B39.812918%2C%20-86.275602%5D%2C%20%5B27.654422%2C%20-82.676957%5D%2C%20%5B36.986095%2C%20-121.443893%5D%2C%20%5B34.75376%2C%20-80.575799%5D%2C%20%5B26.424484000000003%2C%20-80.090273%5D%2C%20%5B26.712696%2C%20-80.081618%5D%2C%20%5B33.779321%2C%20-117.876917%5D%2C%20%5B37.052561%2C%20-121.25326%5D%2C%20%5B25.702103%2C%20-80.337551%5D%2C%20%5B38.907963%2C%20-78.500887%5D%2C%20%5B34.027437%2C%20-118.232222%5D%2C%20%5B32.88793%2C%20-117.1124%5D%2C%20%5B32.409726%2C%20-111.143734%5D%2C%20%5B34.087408%2C%20-117.670074%5D%2C%20%5B28.546109%2C%20-81.520491%5D%2C%20%5B38.777006%2C%20-121.85898799999998%5D%2C%20%5B44.88546%2C%20-93.13656%5D%2C%20%5B33.888938%2C%20-117.552704%5D%2C%20%5B32.84167%2C%20-117.12999%5D%2C%20%5B30.214361%2C%20-90.949913%5D%2C%20%5B38.232169%2C%20-122.11261%5D%2C%20%5B35.90363400000001%2C%20-78.584586%5D%2C%20%5B34.109302%2C%20-118.249209%5D%2C%20%5B41.86092%2C%20-87.96127%5D%2C%20%5B25.93344500000001%2C%20-80.309263%5D%2C%20%5B39.271998%2C%20-121.645041%5D%2C%20%5B30.691868%2C%20-88.029372%5D%2C%20%5B39.270082%2C%20-76.557974%5D%2C%20%5B36.882798%2C%20-121.555474%5D%2C%20%5B34.437435%2C%20-119.156678%5D%2C%20%5B34.183006%2C%20-80.528289%5D%2C%20%5B33.92462800000001%2C%20-117.944831%5D%2C%20%5B45.360844%2C%20-122.668644%5D%2C%20%5B33.46573%2C%20-111.90986%5D%2C%20%5B29.071476%2C%20-82.21256600000002%5D%2C%20%5B41.89161%2C%20-87.6326%5D%2C%20%5B34.118417%2C%20-117.841404%5D%2C%20%5B26.620911%2C%20-80.173014%5D%2C%20%5B41.152375%2C%20-112.025491%5D%2C%20%5B29.68089%2C%20-95.37319%5D%2C%20%5B41.23427%2C%20-73.91212%5D%2C%20%5B27.712199%2C%20-82.363122%5D%2C%20%5B36.051751%2C%20-79.734587%5D%2C%20%5B38.471899%2C%20-121.500019%5D%2C%20%5B34.73319%2C%20-82.44389%5D%2C%20%5B29.784767%2C%20-95.616079%5D%2C%20%5B44.974183%2C%20-93.398485%5D%2C%20%5B38.878344%2C%20-76.96665300000002%5D%2C%20%5B36.750247%2C%20-119.82505%5D%2C%20%5B44.679347%2C%20-123.861442%5D%2C%20%5B28.486998%2C%20-81.416443%5D%2C%20%5B40.325092%2C%20-124.045783%5D%2C%20%5B38.866613%2C%20-77.321937%5D%2C%20%5B42.309641%2C%20-122.847112%5D%2C%20%5B34.554888%2C%20-119.911233%5D%2C%20%5B34.106508000000005%2C%20-118.328214%5D%2C%20%5B34.15952%2C%20-118.46386%5D%2C%20%5B34.010973%2C%20-118.146947%5D%2C%20%5B40.706251%2C%20-111.903596%5D%2C%20%5B41.03212%2C%20-78.00506999999998%5D%2C%20%5B33.65363%2C%20-84.4975%5D%2C%20%5B32.835894%2C%20-97.06129%5D%2C%20%5B25.957508%2C%20-80.119821%5D%2C%20%5B33.978926%2C%20-118.14364%5D%2C%20%5B45.19988%2C%20-122.83247%5D%2C%20%5B33.846185%2C%20-118.286004%5D%2C%20%5B38.568328%2C%20-121.511059%5D%2C%20%5B40.566786%2C%20-75.410156%5D%2C%20%5B35.217704%2C%20-80.85033100000003%5D%2C%20%5B34.120675%2C%20-117.907588%5D%2C%20%5B40.84029%2C%20-73.92154000000002%5D%2C%20%5B29.792%2C%20-95.047%5D%2C%20%5B38.373688%2C%20-78.73552600000002%5D%2C%20%5B25.935426%2C%20-80.351074%5D%2C%20%5B34.276836%2C%20-118.453132%5D%2C%20%5B34.020302%2C%20-118.192255%5D%2C%20%5B34.089085%2C%20-118.87227%5D%2C%20%5B42.971643%2C%20-89.286775%5D%2C%20%5B39.293898%2C%20-76.515406%5D%2C%20%5B40.58771%2C%20-111.93523%5D%2C%20%5B34.011301%2C%20-118.239674%5D%2C%20%5B43.83933%2C%20-95.14871%5D%2C%20%5B42.391979%2C%20-122.422621%5D%2C%20%5B38.949075%2C%20-94.532343%5D%2C%20%5B40.89447%2C%20-74.486474%5D%2C%20%5B30.322265%2C%20-81.68276%5D%2C%20%5B39.599898%2C%20-77.70281999999997%5D%2C%20%5B43.05336%2C%20-76.12163199999998%5D%2C%20%5B26.418568%2C%20-81.418369%5D%2C%20%5B39.096936%2C%20-121.560718%5D%2C%20%5B33.92876%2C%20-118.050653%5D%2C%20%5B35.059314%2C%20-119.002286%5D%2C%20%5B40.546939%2C%20-86.39198%5D%2C%20%5B25.732131%2C%20-80.383268%5D%2C%20%5B40.866447%2C%20-74.006019%5D%2C%20%5B27.466911%2C%20-82.554839%5D%2C%20%5B28.51461%2C%20-81.31044%5D%2C%20%5B34.076961%2C%20-117.200485%5D%2C%20%5B36.534099%2C%20-119.580779%5D%2C%20%5B36.32654%2C%20-119.272845%5D%2C%20%5B38.419908%2C%20-120.841251%5D%2C%20%5B35.5964%2C%20-82.55998000000002%5D%2C%20%5B25.937239%2C%20-80.274048%5D%2C%20%5B34.134725%2C%20-117.630368%5D%2C%20%5B34.412890000000004%2C%20-79.990829%5D%2C%20%5B39.46%2C%20-76.30338%5D%2C%20%5B38.947823%2C%20-121.098954%5D%2C%20%5B25.92239%2C%20-80.154777%5D%2C%20%5B41.139862%2C%20-112.063007%5D%2C%20%5B36.826483%2C%20-76.283408%5D%2C%20%5B27.79198%2C%20-82.33479%5D%2C%20%5B32.825871%2C%20-97.205239%5D%2C%20%5B34.273291%2C%20-118.564709%5D%2C%20%5B35.164242%2C%20-119.113458%5D%2C%20%5B27.980343%2C%20-82.779466%5D%2C%20%5B35.202846%2C%20-80.72500600000002%5D%2C%20%5B39.99719%2C%20-85.7775%5D%2C%20%5B38.504441%2C%20-121.463709%5D%2C%20%5B43.41682%2C%20-119.623185%5D%2C%20%5B36.269391%2C%20-86.756507%5D%2C%20%5B41.83344%2C%20-87.69176%5D%2C%20%5B39.565477%2C%20-86.05130600000004%5D%2C%20%5B30.716406%2C%20-81.66895699999998%5D%2C%20%5B38.727217%2C%20-76.99006800000002%5D%2C%20%5B41.88411%2C%20-80.17639%5D%2C%20%5B33.4804%2C%20-112.02158%5D%2C%20%5B38.700131%2C%20-121.244364%5D%2C%20%5B35.31844%2C%20-80.77898%5D%2C%20%5B33.916075%2C%20-84.41425500000003%5D%2C%20%5B38.974049%2C%20-76.280425%5D%2C%20%5B36.8387%2C%20-76.15973000000002%5D%2C%20%5B40.241272%2C%20-75.575721%5D%2C%20%5B34.991483%2C%20-85.482641%5D%2C%20%5B37.7855%2C%20-122.39182%5D%2C%20%5B45.697713%2C%20-121.463035%5D%2C%20%5B40.408583%2C%20-76.49571%5D%2C%20%5B34.408266999999995%2C%20-118.576431%5D%2C%20%5B37.201723%2C%20-76.570578%5D%2C%20%5B25.810413%2C%20-80.256848%5D%2C%20%5B37.36095200000001%2C%20-120.503375%5D%2C%20%5B34.068606%2C%20-117.392053%5D%2C%20%5B43.604885%2C%20-116.29886299999998%5D%2C%20%5B34.037094%2C%20-118.29491000000002%5D%5D%2C%0A%20%20%20%20%20%20%20%20%20%20%20%20%20%20%20%20%7B%0A%20%20%20%20%20%20%20%20%20%20%20%20%20%20%20%20%20%20%20%20minOpacity%3A%200.5%2C%0A%20%20%20%20%20%20%20%20%20%20%20%20%20%20%20%20%20%20%20%20maxZoom%3A%2018%2C%0A%20%20%20%20%20%20%20%20%20%20%20%20%20%20%20%20%20%20%20%20max%3A%201.0%2C%0A%20%20%20%20%20%20%20%20%20%20%20%20%20%20%20%20%20%20%20%20radius%3A%2025%2C%0A%20%20%20%20%20%20%20%20%20%20%20%20%20%20%20%20%20%20%20%20blur%3A%2015%2C%0A%20%20%20%20%20%20%20%20%20%20%20%20%20%20%20%20%20%20%20%20gradient%3A%20null%0A%20%20%20%20%20%20%20%20%20%20%20%20%20%20%20%20%20%20%20%20%7D%29%0A%20%20%20%20%20%20%20%20%20%20%20%20%20%20%20%20.addTo%28map_3c6ddaf3a216432894d87716e2f2042c%29%3B%0A%20%20%20%20%20%20%20%20%0A%3C/script%3E onload=\"this.contentDocument.open();this.contentDocument.write(    decodeURIComponent(this.getAttribute('data-html')));this.contentDocument.close();\" allowfullscreen webkitallowfullscreen mozallowfullscreen></iframe></div></div>"
            ]
          },
          "metadata": {},
          "execution_count": 53
        }
      ]
    },
    {
      "cell_type": "markdown",
      "source": [
        "Summary of the data  is as follows :\n",
        "1. The Data of New York is not given properly \n",
        "2.  According to stats more accidents takes place only in the month of December it is because a lot no. of vehicles travel only during that time \n",
        "3.  Accidents mostly take place more on Fridays\n",
        "4.  Most of the accidents occurs at Miami\n",
        "5.  More than 1100 cities only have 1 accident\n",
        "6.  The data of early month of 2016 is not properly collected .\n",
        "7.  Accidents mostly occur from 3:00 pm to 6:00 pm \n",
        "\n",
        "\n",
        "\n"
      ],
      "metadata": {
        "id": "H7ZtHHkSmu-G"
      }
    },
    {
      "cell_type": "code",
      "source": [
        ""
      ],
      "metadata": {
        "id": "h9ikfNQYAKOb"
      },
      "execution_count": null,
      "outputs": []
    }
  ],
  "metadata": {
    "colab": {
      "name": "us-accidents.ipynb",
      "provenance": [],
      "toc_visible": true
    },
    "kernelspec": {
      "display_name": "Python 3",
      "language": "python",
      "name": "python3"
    },
    "language_info": {
      "codemirror_mode": {
        "name": "ipython",
        "version": 3
      },
      "file_extension": ".py",
      "mimetype": "text/x-python",
      "name": "python",
      "nbconvert_exporter": "python",
      "pygments_lexer": "ipython3",
      "version": "3.7.6"
    }
  },
  "nbformat": 4,
  "nbformat_minor": 0
}